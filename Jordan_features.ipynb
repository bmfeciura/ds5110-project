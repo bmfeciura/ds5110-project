{
 "cells": [
  {
   "cell_type": "code",
   "execution_count": 41,
   "metadata": {},
   "outputs": [],
   "source": [
    "import pandas as pd\n",
    "\n",
    "from pyspark.ml import Pipeline\n",
    "# from pyspark.ml.classification import LogisticRegression\n",
    "from pyspark.ml.feature import *\n",
    "\n",
    "from pyspark.sql import SparkSession\n",
    "from pyspark.sql.functions import col, countDistinct, udf\n",
    "from pyspark.sql.types import ArrayType, IntegerType,  StringType\n",
    "\n",
    "from pyspark.ml.feature import Tokenizer\n",
    "from pyspark.ml.feature import StopWordsRemover\n",
    "# from pyspark.ml.feature import CountVectorizer\n",
    "from pyspark.ml.feature import Word2Vec\n",
    "from pyspark.ml.feature import StringIndexer\n",
    "\n",
    "# from pyspark.mllib.tree import RandomForest\n",
    "from pyspark.mllib.util import MLUtils\n",
    "\n",
    "from pyspark.sql.types import IntegerType,BooleanType\n",
    "from pyspark.ml.classification import RandomForestClassifier\n",
    "import time\n",
    "# from pyspark.mllib.util import MLUtils\n",
    "from pyspark.mllib.evaluation import MulticlassMetrics\n",
    "from pyspark.ml.pipeline import PipelineModel\n",
    "\n",
    "import matplotlib.pyplot as plt  \n",
    "from sklearn.datasets import make_classification\n",
    "from sklearn.metrics import multilabel_confusion_matrix\n",
    "\n",
    "spark = SparkSession.builder.getOrCreate()"
   ]
  },
  {
   "cell_type": "markdown",
   "metadata": {},
   "source": [
    "## Import and Clean Data from Subset Data File"
   ]
  },
  {
   "cell_type": "code",
   "execution_count": 42,
   "metadata": {},
   "outputs": [],
   "source": [
    "df = spark.read.csv(\"./jordan_subset\", header=True)"
   ]
  },
  {
   "cell_type": "code",
   "execution_count": 43,
   "metadata": {},
   "outputs": [
    {
     "name": "stdout",
     "output_type": "stream",
     "text": [
      "+------------+-------+-----------+---+---------+----------+------------+----------------------+--------------------+-------------+-------+--------------+------+-----+--------+------------------+-----+------------+--------------------+-------------+------+----------------+----------+\n",
      "|subreddit_id|    _c0|created_utc|ups|  link_id|      name|score_hidden|author_flair_css_class|   author_flair_text|    subreddit|     id|removal_reason|gilded|downs|archived|            author|score|retrieved_on|                body|distinguished|edited|controversiality| parent_id|\n",
      "+------------+-------+-----------+---+---------+----------+------------+----------------------+--------------------+-------------+-------+--------------+------+-----+--------+------------------+-----+------------+--------------------+-------------+------+----------------+----------+\n",
      "|    t5_2qh33|5027245| 1430702078|  1|t3_34rftl|t1_cqxhekl|           0|                    NA|                  NA|        funny|cqxhekl|            NA|     0|    0|       0|         kimuchi82|    1|  1432755320|Is it another fuc...|           NA|     0|               0| t3_34rftl|\n",
      "|    t5_2qm7u|5027247| 1430702078|  1|t3_34r584|t1_cqxhekn|           0|                   nyy|    New York Yankees|     baseball|cqxhekn|            NA|     0|    0|       0|pinata_penis_pump2|    1|  1432755320|First year as a s...|           NA|     0|               0|t1_cqxhcj3|\n",
      "|    t5_2rjz2|5027248| 1430702078|  2|t3_34rvno|t1_cqxheko|           0|                    NA|                  NA|gameofthrones|cqxheko|            NA|     0|    0|       0|         [deleted]|    2|  1432755320|           [deleted]|           NA|     0|               0| t3_34rvno|\n",
      "|    t5_2qh1e|5027249| 1430702078|  3|t3_34qhni|t1_cqxhekp|           0|                    NA|                  NA|       videos|cqxhekp|            NA|     0|    0|       0|          unclened|    3|  1432755320|I've read and see...|           NA|     0|               0|t1_cqxdxyl|\n",
      "|    t5_2r2o9|5027255| 1430702078|  3|t3_34rue8|t1_cqxhekv|           0|           NightsWatch|There might be so...|       asoiaf|cqxhekv|            NA|     0|    0|       0|       Redwinevino|    3|  1432755320|\"High Septon: \"\"I...|         null|  null|            null|      null|\n",
      "+------------+-------+-----------+---+---------+----------+------------+----------------------+--------------------+-------------+-------+--------------+------+-----+--------+------------------+-----+------------+--------------------+-------------+------+----------------+----------+\n",
      "only showing top 5 rows\n",
      "\n"
     ]
    }
   ],
   "source": [
    "df.show(5)"
   ]
  },
  {
   "cell_type": "code",
   "execution_count": 44,
   "metadata": {},
   "outputs": [
    {
     "data": {
      "text/plain": [
       "4871463"
      ]
     },
     "execution_count": 44,
     "metadata": {},
     "output_type": "execute_result"
    }
   ],
   "source": [
    "df.count()"
   ]
  },
  {
   "cell_type": "code",
   "execution_count": 45,
   "metadata": {},
   "outputs": [
    {
     "data": {
      "text/plain": [
       "['subreddit_id',\n",
       " '_c0',\n",
       " 'created_utc',\n",
       " 'ups',\n",
       " 'link_id',\n",
       " 'name',\n",
       " 'score_hidden',\n",
       " 'author_flair_css_class',\n",
       " 'author_flair_text',\n",
       " 'subreddit',\n",
       " 'id',\n",
       " 'removal_reason',\n",
       " 'gilded',\n",
       " 'downs',\n",
       " 'archived',\n",
       " 'author',\n",
       " 'score',\n",
       " 'retrieved_on',\n",
       " 'body',\n",
       " 'distinguished',\n",
       " 'edited',\n",
       " 'controversiality',\n",
       " 'parent_id']"
      ]
     },
     "execution_count": 45,
     "metadata": {},
     "output_type": "execute_result"
    }
   ],
   "source": [
    "df.columns"
   ]
  },
  {
   "cell_type": "code",
   "execution_count": 46,
   "metadata": {},
   "outputs": [
    {
     "data": {
      "text/plain": [
       "[('subreddit_id', 'string'),\n",
       " ('ups', 'string'),\n",
       " ('gilded', 'string'),\n",
       " ('score_hidden', 'string'),\n",
       " ('downs', 'string'),\n",
       " ('score', 'string'),\n",
       " ('controversiality', 'string'),\n",
       " ('body', 'string')]"
      ]
     },
     "execution_count": 46,
     "metadata": {},
     "output_type": "execute_result"
    }
   ],
   "source": [
    "df2 = df.select(['subreddit_id','ups','gilded','score_hidden','downs','score','controversiality','body'])\n",
    "df2.dtypes"
   ]
  },
  {
   "cell_type": "code",
   "execution_count": 47,
   "metadata": {},
   "outputs": [
    {
     "data": {
      "text/plain": [
       "[('subreddit_id', 'string'),\n",
       " ('ups', 'int'),\n",
       " ('gilded', 'int'),\n",
       " ('score_hidden', 'boolean'),\n",
       " ('downs', 'int'),\n",
       " ('score', 'int'),\n",
       " ('controversiality', 'int'),\n",
       " ('body', 'string')]"
      ]
     },
     "execution_count": 47,
     "metadata": {},
     "output_type": "execute_result"
    }
   ],
   "source": [
    "# https://stackoverflow.com/questions/46956026/how-to-convert-column-with-string-type-to-int-form-in-pyspark-data-frame\n",
    "# data_df = data_df.withColumn(\"Plays\", data_df[\"Plays\"].cast(IntegerType()))\n",
    "df2 = df2.withColumn('ups',df2['ups'].cast(IntegerType()))\n",
    "df2 = df2.withColumn('downs',df2['downs'].cast(IntegerType()))\n",
    "df2 = df2.withColumn('score',df2['score'].cast(IntegerType()))\n",
    "df2 = df2.withColumn('controversiality',df2['controversiality'].cast(IntegerType()))\n",
    "df2 = df2.withColumn('gilded',df2['gilded'].cast(IntegerType()))\n",
    "df2 = df2.withColumn('score_hidden',df2['score_hidden'].cast(BooleanType()))\n",
    "df2 = df2.fillna(0)\n",
    "df2.dtypes"
   ]
  },
  {
   "cell_type": "code",
   "execution_count": 48,
   "metadata": {},
   "outputs": [
    {
     "name": "stdout",
     "output_type": "stream",
     "text": [
      "+------------+\n",
      "|score_hidden|\n",
      "+------------+\n",
      "|        true|\n",
      "|       false|\n",
      "+------------+\n",
      "\n"
     ]
    }
   ],
   "source": [
    "df2.select(['score_hidden']).distinct().show()"
   ]
  },
  {
   "cell_type": "markdown",
   "metadata": {},
   "source": [
    "## Split Data and Create Pipeline"
   ]
  },
  {
   "cell_type": "code",
   "execution_count": 49,
   "metadata": {},
   "outputs": [],
   "source": [
    "# Split to training and test\n",
    "(trainingData, testData) = df2.sample(.01).randomSplit([0.3, 0.7])"
   ]
  },
  {
   "cell_type": "code",
   "execution_count": 50,
   "metadata": {},
   "outputs": [
    {
     "data": {
      "text/plain": [
       "14388"
      ]
     },
     "execution_count": 50,
     "metadata": {},
     "output_type": "execute_result"
    }
   ],
   "source": [
    "trainingData.count()"
   ]
  },
  {
   "cell_type": "code",
   "execution_count": 51,
   "metadata": {},
   "outputs": [
    {
     "data": {
      "text/plain": [
       "34223"
      ]
     },
     "execution_count": 51,
     "metadata": {},
     "output_type": "execute_result"
    }
   ],
   "source": [
    "testData.count()"
   ]
  },
  {
   "cell_type": "code",
   "execution_count": 52,
   "metadata": {},
   "outputs": [],
   "source": [
    "tk = Tokenizer(inputCol=\"body\", outputCol=\"words\")"
   ]
  },
  {
   "cell_type": "code",
   "execution_count": 53,
   "metadata": {},
   "outputs": [],
   "source": [
    "sw = StopWordsRemover(inputCol=\"words\", outputCol=\"filtered\")"
   ]
  },
  {
   "cell_type": "code",
   "execution_count": 55,
   "metadata": {},
   "outputs": [],
   "source": [
    "w2v =  Word2Vec(vectorSize=3, minCount=0, inputCol=\"filtered\", outputCol=\"word2vec\")"
   ]
  },
  {
   "cell_type": "code",
   "execution_count": 56,
   "metadata": {},
   "outputs": [],
   "source": [
    "si = StringIndexer(inputCol=\"subreddit_id\", outputCol=\"sr_id_num\") # maybe I don't need this."
   ]
  },
  {
   "cell_type": "code",
   "execution_count": 57,
   "metadata": {},
   "outputs": [],
   "source": [
    "feats =  ['ups','gilded','score_hidden','downs','score','controversiality','word2vec']\n",
    "assembler = VectorAssembler(inputCols=feats, outputCol=\"features\")\n"
   ]
  },
  {
   "cell_type": "code",
   "execution_count": 58,
   "metadata": {},
   "outputs": [],
   "source": [
    "rf = RandomForestClassifier(labelCol='sr_id_num', featuresCol='features')"
   ]
  },
  {
   "cell_type": "markdown",
   "metadata": {},
   "source": [
    "## Run Pipeline and Evaluate"
   ]
  },
  {
   "cell_type": "code",
   "execution_count": 61,
   "metadata": {},
   "outputs": [],
   "source": [
    "# pipeline = Pipeline(stages=[tk,sw,cv,w2v,si,assembler,rf])\n",
    "pipeline = Pipeline(stages=[tk,sw,w2v,si,assembler,rf])\n",
    "model = pipeline.fit(trainingData)\n",
    "prediction = model.transform(testData)"
   ]
  },
  {
   "cell_type": "code",
   "execution_count": 62,
   "metadata": {},
   "outputs": [],
   "source": [
    "# Load previous model\n",
    "# model = PipelineModel.load('./jordan_model20210802-114416')\n",
    "# prediction = model.transform(testData)"
   ]
  },
  {
   "cell_type": "code",
   "execution_count": 64,
   "metadata": {},
   "outputs": [
    {
     "name": "stdout",
     "output_type": "stream",
     "text": [
      "+------------+---+------+------------+-----+-----+----------------+--------------------+--------------------+--------------------+--------------------+---------+--------------------+--------------------+--------------------+----------+\n",
      "|subreddit_id|ups|gilded|score_hidden|downs|score|controversiality|                body|               words|            filtered|            word2vec|sr_id_num|            features|       rawPrediction|         probability|prediction|\n",
      "+------------+---+------+------------+-----+-----+----------------+--------------------+--------------------+--------------------+--------------------+---------+--------------------+--------------------+--------------------+----------+\n",
      "|    t5_2cneq|  1|     0|       false|    0|    1|               0|\"I'm a far-leftis...|[\"i'm, a, far-lef...|[\"i'm, far-leftis...|[0.13782385766506...|     23.0|[1.0,0.0,0.0,0.0,...|[3.65621952968655...|[0.18281097648432...|       0.0|\n",
      "|    t5_2cneq|  1|     0|       false|    0|    1|               0|Same story, two w...|[same, story,, tw...|[story,, two, way...|[0.14345295926822...|     23.0|[1.0,0.0,0.0,0.0,...|[3.59500654721817...|[0.17975032736090...|       0.0|\n",
      "|    t5_2cneq|  1|     0|       false|    0|    1|               0|There really is n...|[there, really, i...|[really, stopping...|[0.08270054895962...|     23.0|[1.0,0.0,0.0,0.0,...|[3.59500654721817...|[0.17975032736090...|       0.0|\n",
      "|    t5_2cneq|  1|     0|       false|    0|    1|               0|Yep. When it come...|[yep., when, it, ...|[yep., comes, ric...|[0.09299613363844...|     23.0|[1.0,0.0,0.0,0.0,...|[3.65621952968655...|[0.18281097648432...|       0.0|\n",
      "|    t5_2cneq|  1|     0|       false|    0|    1|               0|           [deleted]|         [[deleted]]|         [[deleted]]|[0.12805612385272...|     23.0|[1.0,0.0,0.0,0.0,...|[3.72517697651153...|[0.18625884882557...|       0.0|\n",
      "+------------+---+------+------------+-----+-----+----------------+--------------------+--------------------+--------------------+--------------------+---------+--------------------+--------------------+--------------------+----------+\n",
      "only showing top 5 rows\n",
      "\n"
     ]
    }
   ],
   "source": [
    "prediction.show(5)"
   ]
  },
  {
   "cell_type": "code",
   "execution_count": 65,
   "metadata": {},
   "outputs": [],
   "source": [
    "# save the rf model with a timestamp\n",
    "timestr = time.strftime(\"%Y%m%d-%H%M%S\")\n",
    "model.save(\"jordan_model\"+timestr)"
   ]
  },
  {
   "cell_type": "code",
   "execution_count": 66,
   "metadata": {},
   "outputs": [
    {
     "data": {
      "text/plain": [
       "[Row(prediction=0.0, sr_id_num=23.0),\n",
       " Row(prediction=0.0, sr_id_num=23.0),\n",
       " Row(prediction=0.0, sr_id_num=23.0),\n",
       " Row(prediction=0.0, sr_id_num=23.0),\n",
       " Row(prediction=0.0, sr_id_num=23.0)]"
      ]
     },
     "execution_count": 66,
     "metadata": {},
     "output_type": "execute_result"
    }
   ],
   "source": [
    "predictionAndLabels = prediction[['prediction','sr_id_num']].rdd\n",
    "predictionAndLabels.take(5)"
   ]
  },
  {
   "cell_type": "code",
   "execution_count": null,
   "metadata": {},
   "outputs": [],
   "source": []
  },
  {
   "cell_type": "code",
   "execution_count": 67,
   "metadata": {},
   "outputs": [],
   "source": [
    "metrics = MulticlassMetrics(predictionAndLabels)"
   ]
  },
  {
   "cell_type": "code",
   "execution_count": 68,
   "metadata": {},
   "outputs": [],
   "source": [
    "# top_threads = spark.read.csv(\"./top_sr_sorted_jordan\", header=True)"
   ]
  },
  {
   "cell_type": "code",
   "execution_count": 69,
   "metadata": {},
   "outputs": [],
   "source": [
    "# top_threads.collect()"
   ]
  },
  {
   "cell_type": "code",
   "execution_count": 70,
   "metadata": {},
   "outputs": [
    {
     "name": "stdout",
     "output_type": "stream",
     "text": [
      "accuracy = 0.15615229524004326\n",
      "Weighted recall = 0.15615229524004326\n",
      "Weighted precision = 0.03864890988047767\n",
      "Weighted F(1) Score = 0.04332548231139575\n",
      "Weighted F(0.5) Score = 0.03178716857704093\n",
      "Weighted false positive rate = 0.15524501110366945\n"
     ]
    }
   ],
   "source": [
    "# https://spark.apache.org/docs/2.3.0/mllib-evaluation-metrics.html\n",
    "\n",
    "print(\"accuracy = %s\" % metrics.accuracy)\n",
    "print(\"Weighted recall = %s\" % metrics.weightedRecall)\n",
    "print(\"Weighted precision = %s\" % metrics.weightedPrecision)\n",
    "print(\"Weighted F(1) Score = %s\" % metrics.weightedFMeasure())\n",
    "print(\"Weighted F(0.5) Score = %s\" % metrics.weightedFMeasure(beta=0.5))\n",
    "print(\"Weighted false positive rate = %s\" % metrics.weightedFalsePositiveRate)"
   ]
  },
  {
   "cell_type": "code",
   "execution_count": 71,
   "metadata": {},
   "outputs": [
    {
     "data": {
      "text/plain": [
       "array([[[  176, 28705],\n",
       "        [   18,  5324]],\n",
       "\n",
       "       [[32426,     0],\n",
       "        [ 1797,     0]],\n",
       "\n",
       "       [[32882,    13],\n",
       "        [ 1327,     1]],\n",
       "\n",
       "       [[33183,     2],\n",
       "        [ 1038,     0]],\n",
       "\n",
       "       [[33222,     0],\n",
       "        [ 1001,     0]],\n",
       "\n",
       "       [[33281,     0],\n",
       "        [  942,     0]],\n",
       "\n",
       "       [[33165,    16],\n",
       "        [ 1042,     0]],\n",
       "\n",
       "       [[33289,    45],\n",
       "        [  886,     3]],\n",
       "\n",
       "       [[33487,     7],\n",
       "        [  729,     0]],\n",
       "\n",
       "       [[33491,     4],\n",
       "        [  728,     0]],\n",
       "\n",
       "       [[33540,     0],\n",
       "        [  683,     0]],\n",
       "\n",
       "       [[33615,    26],\n",
       "        [  580,     2]],\n",
       "\n",
       "       [[33711,     1],\n",
       "        [  511,     0]],\n",
       "\n",
       "       [[33709,     0],\n",
       "        [  514,     0]],\n",
       "\n",
       "       [[33621,     9],\n",
       "        [  591,     2]],\n",
       "\n",
       "       [[33742,     0],\n",
       "        [  481,     0]],\n",
       "\n",
       "       [[33665,     0],\n",
       "        [  558,     0]],\n",
       "\n",
       "       [[33598,     0],\n",
       "        [  625,     0]],\n",
       "\n",
       "       [[33701,     0],\n",
       "        [  522,     0]],\n",
       "\n",
       "       [[33823,     0],\n",
       "        [  400,     0]],\n",
       "\n",
       "       [[33775,     0],\n",
       "        [  448,     0]],\n",
       "\n",
       "       [[33759,     0],\n",
       "        [  464,     0]],\n",
       "\n",
       "       [[33835,     0],\n",
       "        [  388,     0]],\n",
       "\n",
       "       [[33863,     0],\n",
       "        [  360,     0]],\n",
       "\n",
       "       [[33870,    10],\n",
       "        [  331,    12]],\n",
       "\n",
       "       [[33928,     0],\n",
       "        [  295,     0]],\n",
       "\n",
       "       [[33955,     0],\n",
       "        [  268,     0]],\n",
       "\n",
       "       [[33946,     0],\n",
       "        [  277,     0]],\n",
       "\n",
       "       [[33931,     0],\n",
       "        [  292,     0]],\n",
       "\n",
       "       [[33984,     0],\n",
       "        [  239,     0]],\n",
       "\n",
       "       [[33987,     0],\n",
       "        [  236,     0]],\n",
       "\n",
       "       [[33994,     0],\n",
       "        [  229,     0]],\n",
       "\n",
       "       [[33977,     0],\n",
       "        [  246,     0]],\n",
       "\n",
       "       [[33965,     0],\n",
       "        [  258,     0]],\n",
       "\n",
       "       [[33926,     0],\n",
       "        [  297,     0]],\n",
       "\n",
       "       [[33967,     0],\n",
       "        [  256,     0]],\n",
       "\n",
       "       [[34002,     0],\n",
       "        [  221,     0]],\n",
       "\n",
       "       [[33961,    29],\n",
       "        [  233,     0]],\n",
       "\n",
       "       [[33994,     0],\n",
       "        [  229,     0]],\n",
       "\n",
       "       [[34011,     0],\n",
       "        [  212,     0]],\n",
       "\n",
       "       [[34024,     0],\n",
       "        [  199,     0]],\n",
       "\n",
       "       [[34059,     0],\n",
       "        [  164,     0]],\n",
       "\n",
       "       [[34046,     0],\n",
       "        [  177,     0]],\n",
       "\n",
       "       [[33996,     0],\n",
       "        [  227,     0]],\n",
       "\n",
       "       [[34031,     0],\n",
       "        [  192,     0]],\n",
       "\n",
       "       [[34011,     0],\n",
       "        [  212,     0]],\n",
       "\n",
       "       [[34005,     0],\n",
       "        [  218,     0]],\n",
       "\n",
       "       [[33985,     0],\n",
       "        [  238,     0]],\n",
       "\n",
       "       [[34086,     0],\n",
       "        [  137,     0]],\n",
       "\n",
       "       [[34053,     0],\n",
       "        [  170,     0]],\n",
       "\n",
       "       [[34014,     0],\n",
       "        [  209,     0]],\n",
       "\n",
       "       [[34020,     0],\n",
       "        [  203,     0]],\n",
       "\n",
       "       [[34027,     0],\n",
       "        [  196,     0]],\n",
       "\n",
       "       [[34023,     0],\n",
       "        [  200,     0]],\n",
       "\n",
       "       [[34034,     0],\n",
       "        [  189,     0]],\n",
       "\n",
       "       [[34073,     0],\n",
       "        [  150,     0]],\n",
       "\n",
       "       [[34055,     0],\n",
       "        [  168,     0]],\n",
       "\n",
       "       [[34112,     0],\n",
       "        [  111,     0]],\n",
       "\n",
       "       [[34066,     0],\n",
       "        [  157,     0]],\n",
       "\n",
       "       [[34069,     0],\n",
       "        [  154,     0]],\n",
       "\n",
       "       [[34085,     0],\n",
       "        [  138,     0]],\n",
       "\n",
       "       [[34073,     0],\n",
       "        [  150,     0]],\n",
       "\n",
       "       [[34088,     0],\n",
       "        [  135,     0]],\n",
       "\n",
       "       [[34084,     0],\n",
       "        [  139,     0]],\n",
       "\n",
       "       [[34060,     0],\n",
       "        [  163,     0]],\n",
       "\n",
       "       [[34028,     0],\n",
       "        [  195,     0]],\n",
       "\n",
       "       [[34057,     0],\n",
       "        [  166,     0]],\n",
       "\n",
       "       [[34046,     0],\n",
       "        [  177,     0]],\n",
       "\n",
       "       [[34105,     0],\n",
       "        [  118,     0]],\n",
       "\n",
       "       [[34034,     0],\n",
       "        [  189,     0]],\n",
       "\n",
       "       [[34087,     0],\n",
       "        [  136,     0]],\n",
       "\n",
       "       [[34122,     0],\n",
       "        [  101,     0]],\n",
       "\n",
       "       [[34096,     0],\n",
       "        [  127,     0]],\n",
       "\n",
       "       [[34066,    12],\n",
       "        [  145,     0]],\n",
       "\n",
       "       [[34092,     0],\n",
       "        [  131,     0]],\n",
       "\n",
       "       [[34069,     0],\n",
       "        [  154,     0]],\n",
       "\n",
       "       [[34122,     0],\n",
       "        [  101,     0]],\n",
       "\n",
       "       [[34101,     0],\n",
       "        [  122,     0]],\n",
       "\n",
       "       [[34085,     0],\n",
       "        [  138,     0]],\n",
       "\n",
       "       [[34086,     0],\n",
       "        [  137,     0]],\n",
       "\n",
       "       [[34092,     0],\n",
       "        [  131,     0]],\n",
       "\n",
       "       [[34103,     0],\n",
       "        [  120,     0]],\n",
       "\n",
       "       [[34101,     0],\n",
       "        [  122,     0]],\n",
       "\n",
       "       [[34102,     0],\n",
       "        [  121,     0]],\n",
       "\n",
       "       [[34105,     0],\n",
       "        [  118,     0]],\n",
       "\n",
       "       [[34083,     0],\n",
       "        [  140,     0]],\n",
       "\n",
       "       [[34097,     0],\n",
       "        [  126,     0]],\n",
       "\n",
       "       [[34097,     0],\n",
       "        [  126,     0]],\n",
       "\n",
       "       [[34112,     0],\n",
       "        [  111,     0]],\n",
       "\n",
       "       [[34104,     0],\n",
       "        [  119,     0]],\n",
       "\n",
       "       [[34095,     0],\n",
       "        [  128,     0]],\n",
       "\n",
       "       [[34116,     0],\n",
       "        [  107,     0]],\n",
       "\n",
       "       [[34098,     0],\n",
       "        [  125,     0]]])"
      ]
     },
     "execution_count": 71,
     "metadata": {},
     "output_type": "execute_result"
    }
   ],
   "source": [
    "# https://scikit-learn.org/stable/modules/generated/sklearn.metrics.multilabel_confusion_matrix.html\n",
    "\n",
    "pred_pd = prediction[['sr_id_num', 'prediction']].toPandas()\n",
    "\n",
    "conf_matrix = multilabel_confusion_matrix(pred_pd['sr_id_num'], pred_pd['prediction']) \n",
    "conf_matrix"
   ]
  },
  {
   "cell_type": "code",
   "execution_count": null,
   "metadata": {},
   "outputs": [],
   "source": []
  },
  {
   "cell_type": "code",
   "execution_count": null,
   "metadata": {},
   "outputs": [],
   "source": []
  },
  {
   "cell_type": "code",
   "execution_count": null,
   "metadata": {},
   "outputs": [],
   "source": []
  },
  {
   "cell_type": "code",
   "execution_count": 33,
   "metadata": {},
   "outputs": [],
   "source": []
  },
  {
   "cell_type": "code",
   "execution_count": 34,
   "metadata": {},
   "outputs": [],
   "source": []
  },
  {
   "cell_type": "code",
   "execution_count": null,
   "metadata": {},
   "outputs": [],
   "source": []
  },
  {
   "cell_type": "code",
   "execution_count": null,
   "metadata": {},
   "outputs": [],
   "source": []
  },
  {
   "cell_type": "code",
   "execution_count": null,
   "metadata": {},
   "outputs": [],
   "source": []
  },
  {
   "cell_type": "code",
   "execution_count": null,
   "metadata": {},
   "outputs": [],
   "source": []
  },
  {
   "cell_type": "code",
   "execution_count": null,
   "metadata": {},
   "outputs": [],
   "source": []
  }
 ],
 "metadata": {
  "kernelspec": {
   "display_name": "DS 5110",
   "language": "python",
   "name": "ds5110"
  },
  "language_info": {
   "codemirror_mode": {
    "name": "ipython",
    "version": 3
   },
   "file_extension": ".py",
   "mimetype": "text/x-python",
   "name": "python",
   "nbconvert_exporter": "python",
   "pygments_lexer": "ipython3",
   "version": "3.7.10"
  }
 },
 "nbformat": 4,
 "nbformat_minor": 4
}
