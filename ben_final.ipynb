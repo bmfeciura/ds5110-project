{
 "cells": [
  {
   "cell_type": "code",
   "execution_count": 1,
   "metadata": {},
   "outputs": [],
   "source": [
    "# path to data- first 10,000,000 rows sampled from large reddit dataset\n",
    "path = '/project/ds5559/r-slash-group8/sample.csv'"
   ]
  },
  {
   "cell_type": "code",
   "execution_count": 2,
   "metadata": {},
   "outputs": [],
   "source": [
    "import pandas as pd # data management\n",
    "from pyspark.sql import SparkSession # paralellization\n",
    "import numpy as np # math\n",
    "import re # regex\n",
    "from pyspark.sql.functions import * # pyspark sql functions\n",
    "from pyspark.sql.types import ArrayType, IntegerType,  StringType, TimestampType # pyspark sql cast data types\n",
    "from pyspark.ml import Pipeline # pipeline of ML steps\n",
    "from pyspark.ml.feature import * # ML features\n",
    "from pyspark.ml.classification import LogisticRegression # ML regression model\n",
    "from pyspark.mllib.evaluation import MulticlassMetrics # Model evaluation"
   ]
  },
  {
   "cell_type": "code",
   "execution_count": 3,
   "metadata": {},
   "outputs": [],
   "source": [
    "# start spark session\n",
    "spark = SparkSession.builder.getOrCreate()"
   ]
  },
  {
   "cell_type": "code",
   "execution_count": 4,
   "metadata": {},
   "outputs": [],
   "source": [
    "# read in data\n",
    "df_full = spark.read.csv(path, inferSchema=True, header = True)"
   ]
  },
  {
   "cell_type": "code",
   "execution_count": 5,
   "metadata": {},
   "outputs": [
    {
     "name": "stdout",
     "output_type": "stream",
     "text": [
      "+--------------------------------+-----------+----+------------+---------+----------+------------+----------------------+-----------------+---------+-------+--------------+------+-----+--------+------------+-----+------------+--------------------+-------------+------+----------------+----------+\n",
      "|                             _c0|created_utc| ups|subreddit_id|  link_id|      name|score_hidden|author_flair_css_class|author_flair_text|subreddit|     id|removal_reason|gilded|downs|archived|      author|score|retrieved_on|                body|distinguished|edited|controversiality| parent_id|\n",
      "+--------------------------------+-----------+----+------------+---------+----------+------------+----------------------+-----------------+---------+-------+--------------+------+-----+--------+------------+-----+------------+--------------------+-------------+------+----------------+----------+\n",
      "|                               1| 1430438400|   4|    t5_378oi|t3_34di91|t1_cqug90g|           0|                    NA|               NA|soccer_jp|cqug90g|            NA|     0|    0|       0|       rx109|    4|  1432703079|                くそ|         null|  null|            null|      null|\n",
      "|読みたいが買ったら負けな気がする|       null|null|        null|     null|      null|        null|                  null|             null|     null|   null|          null|  null| null|    null|        null| null|        null|                null|         null|  null|            null|      null|\n",
      "|             図書館に出ねーかな\"|         NA|   0|           0|t3_34di91|      null|        null|                  null|             null|     null|   null|          null|  null| null|    null|        null| null|        null|                null|         null|  null|            null|      null|\n",
      "|                               2| 1430438400|   4|    t5_2qo4s|t3_34g8mx|t1_cqug90h|           0|                  Heat|             Heat|      nba|cqug90h|            NA|     0|    0|       0|   WyaOfWade|    4|  1432703079|gg this one's ove...|           NA|     0|               0| t3_34g8mx|\n",
      "|                               3| 1430438400|   0|    t5_2cneq|t3_34f7mc|t1_cqug90i|           0|                    NA|               NA| politics|cqug90i|            NA|     0|    0|       0|Wicked_Truth|    0|  1432703079|Are you really im...|           NA|     0|               0|t1_cqufim0|\n",
      "+--------------------------------+-----------+----+------------+---------+----------+------------+----------------------+-----------------+---------+-------+--------------+------+-----+--------+------------+-----+------------+--------------------+-------------+------+----------------+----------+\n",
      "only showing top 5 rows\n",
      "\n"
     ]
    }
   ],
   "source": [
    "# preview data\n",
    "df_full.show(5)"
   ]
  },
  {
   "cell_type": "code",
   "execution_count": 6,
   "metadata": {},
   "outputs": [],
   "source": [
    "# remove irrelevant columns\n",
    "df = df_full.drop('_c0','subreddit_id','link_id','name','score_hidden','author_flair_css_class', \\\n",
    "        'author_flair_text','archived','retrieved_on', 'edited','parent_id','ups', \\\n",
    "       'downs', 'removal_reason', 'distinguished')\n",
    "# keep score, subreddit, id, created_utc, author, body, gilded, controversiality\n",
    "\n",
    "df=df.withColumn(\"score\",df.score.cast(IntegerType()))\n",
    "df=df.withColumn(\"gilded\",df.gilded.cast(IntegerType()))\n",
    "df=df.withColumn(\"created_utc\",from_unixtime(df.created_utc))\n",
    "df=df.withColumnRenamed(\"id\", \"comment_id\")"
   ]
  },
  {
   "cell_type": "code",
   "execution_count": 7,
   "metadata": {},
   "outputs": [
    {
     "name": "stdout",
     "output_type": "stream",
     "text": [
      "+-------------------+---------+----------+------+------------+-----+--------------------+----------------+\n",
      "|        created_utc|subreddit|comment_id|gilded|      author|score|                body|controversiality|\n",
      "+-------------------+---------+----------+------+------------+-----+--------------------+----------------+\n",
      "|2015-05-01 00:00:00|soccer_jp|   cqug90g|     0|       rx109|    4|                くそ|            null|\n",
      "|               null|     null|      null|  null|        null| null|                null|            null|\n",
      "|               null|     null|      null|  null|        null| null|                null|            null|\n",
      "|2015-05-01 00:00:00|      nba|   cqug90h|     0|   WyaOfWade|    4|gg this one's ove...|               0|\n",
      "|2015-05-01 00:00:00| politics|   cqug90i|     0|Wicked_Truth|    0|Are you really im...|               0|\n",
      "+-------------------+---------+----------+------+------------+-----+--------------------+----------------+\n",
      "only showing top 5 rows\n",
      "\n",
      "root\n",
      " |-- created_utc: string (nullable = true)\n",
      " |-- subreddit: string (nullable = true)\n",
      " |-- comment_id: string (nullable = true)\n",
      " |-- gilded: integer (nullable = true)\n",
      " |-- author: string (nullable = true)\n",
      " |-- score: integer (nullable = true)\n",
      " |-- body: string (nullable = true)\n",
      " |-- controversiality: string (nullable = true)\n",
      "\n"
     ]
    }
   ],
   "source": [
    "# preview reduced data\n",
    "df.show(5)\n",
    "df.printSchema()"
   ]
  },
  {
   "cell_type": "code",
   "execution_count": 8,
   "metadata": {},
   "outputs": [],
   "source": [
    "# filter out rows with missing values in essential columns\n",
    "df=df.filter(df['body'].isNotNull())\n",
    "df=df.filter(df['subreddit'].isNotNull())\n",
    "df=df.filter(df['comment_id'].isNotNull())"
   ]
  },
  {
   "cell_type": "code",
   "execution_count": 9,
   "metadata": {},
   "outputs": [
    {
     "name": "stdout",
     "output_type": "stream",
     "text": [
      "+-------------------+------------------+----------+------+---------------+-----+--------------------+----------------+\n",
      "|        created_utc|         subreddit|comment_id|gilded|         author|score|                body|controversiality|\n",
      "+-------------------+------------------+----------+------+---------------+-----+--------------------+----------------+\n",
      "|2015-05-01 00:00:00|         soccer_jp|   cqug90g|     0|          rx109|    4|                くそ|            null|\n",
      "|2015-05-01 00:00:00|               nba|   cqug90h|     0|      WyaOfWade|    4|gg this one's ove...|               0|\n",
      "|2015-05-01 00:00:00|          politics|   cqug90i|     0|   Wicked_Truth|    0|Are you really im...|               0|\n",
      "|2015-05-01 00:00:00|         AskReddit|   cqug90j|     0|       jesse9o3|    3|No one has a Euro...|               0|\n",
      "|2015-05-01 00:00:00|         AskReddit|   cqug90k|     0| beltfedshooter|    3|\"That the kid \"\"....|               0|\n",
      "|2015-05-01 00:00:00|        bloodborne|   cqug90l|     0|     Rubenticus|    1|Haha, i was getti...|               0|\n",
      "|2015-05-01 00:00:00|     relationships|   cqug90m|     0|silverraven1189|    6|After reading thi...|            null|\n",
      "|2015-05-01 00:00:00|   Tennesseetitans|   cqug90n|     0|     Scrubtanic|    2|Let's do this. Se...|               0|\n",
      "|2015-05-01 00:00:00|            cigars|   cqug90o|     0|       burnmyiz|    6|You can buy a mys...|               0|\n",
      "|2015-05-01 00:00:00|   GlobalOffensive|   cqug90p|     0|      BEE_REAL_|    5|Nihilum and LG ar...|               0|\n",
      "|2015-05-01 00:00:00|            eagles|   cqug90q|     0|           SNVG|    4|      Fuck that what|               0|\n",
      "|2015-05-01 00:00:00|         smashbros|   cqug90r|     0|       BiigLord|    1|Don't diss the Gr...|               0|\n",
      "|2015-05-01 00:00:00|      makinghiphop|   cqug90s|     0|        KingEze|    1|Your 16 bars seem...|               0|\n",
      "|2015-05-01 00:00:00|   GoogleCardboard|   cqug90t|     0|        cyborek|    3|Trinus vr is amaz...|               0|\n",
      "|2015-05-01 00:00:00|        offmychest|   cqug90u|     0|     Zekkystyle|   14|It's not your fau...|            null|\n",
      "|2015-05-01 00:00:00|               nrl|   cqug90v|     0|       jeauxoxo|    3|http://www.reddit...|               0|\n",
      "|2015-05-01 00:00:00|elderscrollsonline|   cqug90w|     0| Chainsaw_Ninja|    0|and what about al...|               0|\n",
      "|2015-05-01 00:00:00|         childfree|   cqug90x|     0|    tparkelaine|    5|I would be tempte...|            null|\n",
      "|2015-05-01 00:00:00|       ExNoContact|   cqug90y|     0|         vvvvfl|    1|I can't answer be...|            null|\n",
      "|2015-05-01 00:00:00|         AskReddit|   cqug90z|     0|  InterimFatGuy|    5|                NSFL|               0|\n",
      "+-------------------+------------------+----------+------+---------------+-----+--------------------+----------------+\n",
      "only showing top 20 rows\n",
      "\n"
     ]
    }
   ],
   "source": [
    "# preview clean data\n",
    "df.show()"
   ]
  },
  {
   "cell_type": "code",
   "execution_count": 10,
   "metadata": {},
   "outputs": [
    {
     "data": {
      "text/plain": [
       "10002410"
      ]
     },
     "execution_count": 10,
     "metadata": {},
     "output_type": "execute_result"
    }
   ],
   "source": [
    "# total records remaining in dataset: \n",
    "df.count()"
   ]
  },
  {
   "cell_type": "code",
   "execution_count": 11,
   "metadata": {},
   "outputs": [
    {
     "name": "stdout",
     "output_type": "stream",
     "text": [
      "+-------------------+---------------+----------+------+------------------+-----+--------------------+--------------------+-------------+\n",
      "|        created_utc|      subreddit|comment_id|gilded|            author|score|                body|    controversiality|subreddit_bin|\n",
      "+-------------------+---------------+----------+------+------------------+-----+--------------------+--------------------+-------------+\n",
      "|2015-05-01 00:00:00|      AskReddit|   cqug90j|     0|          jesse9o3|    3|No one has a Euro...|                   0|            0|\n",
      "|2015-05-01 00:00:00|      AskReddit|   cqug90k|     0|    beltfedshooter|    3|\"That the kid \"\"....|                   0|            0|\n",
      "|2015-05-01 00:00:00|      AskReddit|   cqug90z|     0|     InterimFatGuy|    5|                NSFL|                   0|            0|\n",
      "|2015-05-01 00:00:01|leagueoflegends|   cqug919|     0|    SenpaiOniichan|    1|well i think new ...|                null|            1|\n",
      "|2015-05-01 00:00:01|      AskReddit|   cqug91c|     0|       JuanTutrego|    1|I'm a guy and I h...|                   0|            0|\n",
      "|2015-05-01 00:00:01|      AskReddit|   cqug91e|     0|       dcblackbelt|  101|Mid twenties male...|                   0|            0|\n",
      "|2015-05-01 00:00:02|      AskReddit|   cqug920|     0|     TheDoorsShirt|    1|Fran Drescher lau...|                   0|            0|\n",
      "|2015-05-01 00:00:02|      AskReddit|   cqug921|     0|    youthfulvictim|   -5|I honestly wouldn...|                   1|            0|\n",
      "|2015-05-01 00:00:02|      AskReddit|   cqug923|     0|       sonovadoyle|    1|             &lt;/3 |                   0|            0|\n",
      "|2015-05-01 00:00:02|      AskReddit|   cqug929|     0|          boludo54|    1|no money, just ID...|                   0|            0|\n",
      "|2015-05-01 00:00:03|      AskReddit|   cqug92o|     0|     mister_sleepy|    1|Smoking tobacco. ...|                   0|            0|\n",
      "|2015-05-01 00:00:03|      AskReddit|   cqug92s|     0|    baconinstitute|    1|   Bootleg Fireworks|                   0|            0|\n",
      "|2015-05-01 00:00:03|      AskReddit|   cqug92v|     0|       cpmustang90|    1|I'm a member of t...|                   0|            0|\n",
      "|2015-05-01 00:00:03|      AskReddit|   cqug937|     0|           hamhead|    1|That's one reason...|                   0|            0|\n",
      "|2015-05-01 00:00:03|      AskReddit|   cqug93k|     0|      mrjosemeehan|    7|Go back to Route ...|                   0|            0|\n",
      "|2015-05-01 00:00:04|      AskReddit|   cqug93o|     0|      Peacehamster|    2|They're oh-so-bra...|                   0|            0|\n",
      "|2015-05-01 00:00:04|leagueoflegends|   cqug93p|     0|          SureShaw|    1|\"Honestly I don't...| while above what...|            1|\n",
      "|2015-05-01 00:00:04|      AskReddit|   cqug93u|     0|        bunnylumps|   20|\"I think the whol...|                null|            0|\n",
      "|2015-05-01 00:00:04|      AskReddit|   cqug93v|     0|           DawkTux|    1|Fuck pound coins....|                   0|            0|\n",
      "|2015-05-01 00:00:04|      AskReddit|   cqug940|     0|salamandersnuggles|    1|\"Someone was tell...|                null|            0|\n",
      "+-------------------+---------------+----------+------+------------------+-----+--------------------+--------------------+-------------+\n",
      "only showing top 20 rows\n",
      "\n"
     ]
    }
   ],
   "source": [
    "# choose only the two most popular subreddits\n",
    "df_reduced = df.filter((df['subreddit'] == 'AskReddit') | (df['subreddit'] == 'leagueoflegends'))\n",
    "# encode subreddit as a binary variable\n",
    "df_reduced = df_reduced.withColumn('subreddit_bin',when(df['subreddit'] == 'AskReddit',0).otherwise(1))\n",
    "df_reduced.show()"
   ]
  },
  {
   "cell_type": "code",
   "execution_count": 12,
   "metadata": {},
   "outputs": [
    {
     "data": {
      "text/plain": [
       "950528"
      ]
     },
     "execution_count": 12,
     "metadata": {},
     "output_type": "execute_result"
    }
   ],
   "source": [
    "# Total records between the two most popular subreddits\n",
    "df_reduced.count()"
   ]
  },
  {
   "cell_type": "markdown",
   "metadata": {},
   "source": [
    "These two subreddits account for almost 10% of all the data; not a bad sample size!"
   ]
  },
  {
   "cell_type": "code",
   "execution_count": 13,
   "metadata": {},
   "outputs": [],
   "source": [
    "# Train/Test split\n",
    "df_train, df_test = df_reduced.randomSplit([0.75,0.25])"
   ]
  },
  {
   "cell_type": "code",
   "execution_count": 14,
   "metadata": {},
   "outputs": [
    {
     "data": {
      "text/plain": [
       "712005"
      ]
     },
     "execution_count": 14,
     "metadata": {},
     "output_type": "execute_result"
    }
   ],
   "source": [
    "df_train.count()"
   ]
  },
  {
   "cell_type": "code",
   "execution_count": 15,
   "metadata": {},
   "outputs": [
    {
     "name": "stdout",
     "output_type": "stream",
     "text": [
      "+-------------+------+\n",
      "|subreddit_bin| count|\n",
      "+-------------+------+\n",
      "|            1|145672|\n",
      "|            0|566333|\n",
      "+-------------+------+\n",
      "\n"
     ]
    }
   ],
   "source": [
    "# Breakdown of test set by subreddit\n",
    "df_train.groupBy('subreddit_bin').count().show()"
   ]
  },
  {
   "cell_type": "markdown",
   "metadata": {},
   "source": [
    "Certainly an imbalance between the two classes."
   ]
  },
  {
   "cell_type": "code",
   "execution_count": 16,
   "metadata": {},
   "outputs": [
    {
     "name": "stdout",
     "output_type": "stream",
     "text": [
      "+-------------+------+\n",
      "|subreddit_bin| count|\n",
      "+-------------+------+\n",
      "|            1| 48782|\n",
      "|            0|189741|\n",
      "+-------------+------+\n",
      "\n"
     ]
    }
   ],
   "source": [
    "df_test.groupBy('subreddit_bin').count().show()"
   ]
  },
  {
   "cell_type": "markdown",
   "metadata": {},
   "source": [
    "The train and test sets show a similar ratio; performance may be improved later on by downsampling the training set."
   ]
  },
  {
   "cell_type": "code",
   "execution_count": 17,
   "metadata": {},
   "outputs": [],
   "source": [
    "# Build up pipeline for modeling\n",
    "\n",
    "# Separate documents into tokens\n",
    "tok = Tokenizer(inputCol=\"body\", outputCol=\"body_tokens\")\n",
    "# Remove stopwords\n",
    "rem = StopWordsRemover(inputCol=\"body_tokens\", outputCol=\"tokens_filtered\")\n",
    "# Reduce feature count using hashing function\n",
    "htf = HashingTF(numFeatures = 4096, inputCol=\"tokens_filtered\", outputCol=\"tf\") \n",
    "# Vectorize features\n",
    "w2v = Word2Vec(inputCol=\"body_tokens\", outputCol=\"w2v\") \n",
    "# Assemble feature column\n",
    "va = VectorAssembler(inputCols=[\"tf\", \"w2v\"], outputCol=\"features\")\n",
    "# Apply logistic regression\n",
    "lr = LogisticRegression(labelCol='subreddit_bin', featuresCol='features', maxIter=10, regParam=0.01)\n",
    "\n",
    "pipeline = Pipeline(stages=[tok, rem, htf, w2v, va, lr])"
   ]
  },
  {
   "cell_type": "code",
   "execution_count": 18,
   "metadata": {},
   "outputs": [],
   "source": [
    "# Fit model to train data\n",
    "model = pipeline.fit(df_train)"
   ]
  },
  {
   "cell_type": "code",
   "execution_count": 19,
   "metadata": {},
   "outputs": [
    {
     "name": "stdout",
     "output_type": "stream",
     "text": [
      "+-------------------+---------------+----------+------+---------------+-----+--------------------+----------------+-------------+--------------------+--------------------+--------------------+--------------------+--------------------+--------------------+--------------------+----------+\n",
      "|        created_utc|      subreddit|comment_id|gilded|         author|score|                body|controversiality|subreddit_bin|         body_tokens|     tokens_filtered|                  tf|                 w2v|            features|       rawPrediction|         probability|prediction|\n",
      "+-------------------+---------------+----------+------+---------------+-----+--------------------+----------------+-------------+--------------------+--------------------+--------------------+--------------------+--------------------+--------------------+--------------------+----------+\n",
      "|2015-05-01 00:00:00|      AskReddit|   cqug90z|     0|  InterimFatGuy|    5|                NSFL|               0|            0|              [nsfl]|              [nsfl]| (4096,[2955],[1.0])|[0.01905914768576...|(4196,[2955,4096,...|[1.89691694817265...|[0.86954218692454...|       0.0|\n",
      "|2015-05-01 00:00:01|leagueoflegends|   cqug919|     0| SenpaiOniichan|    1|well i think new ...|            null|            1|[well, i, think, ...|[well, think, new...|(4096,[31,35,317,...|[-0.0618038852267...|(4196,[31,35,317,...|[-2.0889314636877...|[0.11017728816876...|       1.0|\n",
      "|2015-05-01 00:00:02|      AskReddit|   cqug923|     0|    sonovadoyle|    1|             &lt;/3 |               0|            0|            [&lt;/3]|            [&lt;/3]| (4096,[3775],[1.0])|[0.00736410822719...|(4196,[3775,4096,...|[0.82569551789326...|[0.69544400120126...|       0.0|\n",
      "|2015-05-01 00:00:03|      AskReddit|   cqug92s|     0| baconinstitute|    1|   Bootleg Fireworks|               0|            0|[bootleg, fireworks]|[bootleg, fireworks]|(4096,[170,253],[...|[0.05399652209598...|(4196,[170,253,40...|[3.22360025170436...|[0.96171280099356...|       0.0|\n",
      "|2015-05-01 00:00:05|      AskReddit|   cqug94r|     0|  IDUnavailable|    2|\"\"\"That's great a...|            null|            0|[\"\"\"that's, great...|  [\"\"\"that's, great]|(4096,[1428,3822]...|[-0.0423605451360...|(4196,[1428,3822,...|[1.34825458769439...|[0.79384412815095...|       0.0|\n",
      "|2015-05-01 00:00:05|      AskReddit|   cqug94y|     0|       robondes|   -3|The implications ...|               1|            0|[the, implication...|[implications, va...|(4096,[511,2596,2...|[-0.0870756695978...|(4196,[511,2596,2...|[1.64670475263427...|[0.83844519082963...|       0.0|\n",
      "|2015-05-01 00:00:05|      AskReddit|   cqug956|     0|      [deleted]|    1|           [deleted]|               0|            0|         [[deleted]]|         [[deleted]]| (4096,[3076],[1.0])|[-0.0026473123580...|(4196,[3076,4096,...|[1.63908446370243...|[0.83741032174257...|       0.0|\n",
      "|2015-05-01 00:00:06|      AskReddit|   cqug95f|     0|       JustMe80|    1|You're just tryin...|               1|            0|[you're, just, tr...|[trying, get, fro...|(4096,[102,346,35...|[-0.0569235841433...|(4196,[102,346,35...|[1.78134366700891...|[0.85586270227735...|       0.0|\n",
      "|2015-05-01 00:00:09|      AskReddit|   cqug97r|     0|        zacmars|    1|      The Green Mile|               0|            0|  [the, green, mile]|       [green, mile]|(4096,[55,840],[1...|[-0.1286615307132...|(4196,[55,840,409...|[4.87297271583519...|[0.99240749867798...|       0.0|\n",
      "|2015-05-01 00:00:10|      AskReddit|   cqug98u|     0|    Gum_Disease|    1|I don't know how ...|               0|            0|[i, don't, know, ...|[know, read, comm...|(4096,[169,282,32...|[-0.0947679786869...|(4196,[169,282,32...|[5.20433550227927...|[0.99453730582091...|       0.0|\n",
      "|2015-05-01 00:00:14|leagueoflegends|   cqug9c0|     0|       Dragirby|    2|     Best Koopaling.|               0|            1|  [best, koopaling.]|  [best, koopaling.]|(4096,[2187,2701]...|[-0.0381177179515...|(4196,[2187,2701,...|[0.41990792194835...|[0.60346121618575...|       0.0|\n",
      "|2015-05-01 00:00:14|leagueoflegends|   cqug9c6|     0|      Anxietyzx|    1|doesnt that make ...|               0|            1|[doesnt, that, ma...|[doesnt, make, sk...|(4096,[495,1717,2...|[-0.0530532707770...|(4196,[495,1717,2...|[-4.1847123274737...|[0.01499821399332...|       1.0|\n",
      "|2015-05-01 00:00:17|      AskReddit|   cqug9e2|     0|    ParadoxCity|    1|\"\"\"I don't believ...|            null|            0|[\"\"\"i, don't, bel...|[\"\"\"i, believe, _...|(4096,[433,1021,1...|[-0.0069155909375...|(4196,[433,1021,1...|[2.81113144078191...|[0.94327439048734...|       0.0|\n",
      "|2015-05-01 00:00:20|      AskReddit|   cqug9gt|     0| Haruhi_Fujioka|    4|He sounds like so...|               0|            0|[he, sounds, like...|[sounds, like, je...|(4096,[209,523,34...|[-0.0652624456478...|(4196,[209,523,34...|[2.38400510075870...|[0.91559945243792...|       0.0|\n",
      "|2015-05-01 00:00:21|      AskReddit|   cqug9h3|     0|  punkballerina|    1|        \"\"\"Bud light|               0|            0|     [\"\"\"bud, light]|     [\"\"\"bud, light]|(4096,[2712,3502]...|[-0.0915366038680...|(4196,[2712,3502,...|[3.52115885198764...|[0.97128384389698...|       0.0|\n",
      "|2015-05-01 00:00:24|      AskReddit|   cqug9jp|     0|       gwrjones|    1|But they are both...|               0|            0|[but, they, are, ...|[theories., scien...|(4096,[180,316,34...|[-0.0707536543313...|(4196,[180,316,34...|[2.16316240873890...|[0.89689236415875...|       0.0|\n",
      "|2015-05-01 00:00:26|      AskReddit|   cqug9ki|     0|Rogan_McFlubbin|    2|WHITE CIS MALES C...|               1|            0|[white, cis, male...|[white, cis, male...|(4096,[1412,1843,...|[-0.2027047276496...|(4196,[1412,1843,...|[2.95840464774700...|[0.95065921566876...|       0.0|\n",
      "|2015-05-01 00:00:27|      AskReddit|   cqug9li|     0|  rainbowsanity|  514|Conceived 9 month...|               0|            0|[conceived, 9, mo...|[conceived, 9, mo...|(4096,[1546,1816,...|[0.18289654627442...|(4196,[1546,1816,...|[1.68256274421552...|[0.84324358255318...|       0.0|\n",
      "|2015-05-01 00:00:27|leagueoflegends|   cqug9ld|     0|       Highfire|    3|&gt; People ought...|            null|            1|[&gt;, people, ou...|[&gt;, people, ab...|(4096,[645,1239,3...|[-0.1706548016518...|(4196,[645,1239,3...|[1.47445249316236...|[0.81373319993149...|       0.0|\n",
      "|2015-05-01 00:00:29|      AskReddit|   cqug9mm|     0|  AutoModerator|    1|**PLEASE READ THI...|            null|            0|[**please, read, ...|[**please, read, ...|(4096,[322,387,97...|[0.41265985406935...|(4196,[322,387,97...|[3.75078786453761...|[0.97704031053856...|       0.0|\n",
      "+-------------------+---------------+----------+------+---------------+-----+--------------------+----------------+-------------+--------------------+--------------------+--------------------+--------------------+--------------------+--------------------+--------------------+----------+\n",
      "only showing top 20 rows\n",
      "\n"
     ]
    }
   ],
   "source": [
    "# Make predictions for test data using model\n",
    "prediction = model.transform(df_test)\n",
    "# Check out format of dataframe with predictions\n",
    "prediction.show()"
   ]
  },
  {
   "cell_type": "code",
   "execution_count": 20,
   "metadata": {},
   "outputs": [
    {
     "name": "stdout",
     "output_type": "stream",
     "text": [
      "+----------+------+\n",
      "|prediction| count|\n",
      "+----------+------+\n",
      "|       0.0|210457|\n",
      "|       1.0| 28066|\n",
      "+----------+------+\n",
      "\n"
     ]
    }
   ],
   "source": [
    "# The predictions again seem to follow a fairly similar ratio to the actual data!\n",
    "prediction.groupBy('prediction').count().show()"
   ]
  },
  {
   "cell_type": "code",
   "execution_count": 21,
   "metadata": {},
   "outputs": [],
   "source": [
    "# reduce the predictions to only the necessary columns\n",
    "predictionsAndLabels = prediction.drop('created_utc', 'subreddit', 'comment_id', 'gilded', 'controversiality', 'author', 'score', 'body', 'body_tokens', 'tokens_filtered', 'rawPrediction', 'probability', 'tf', 'w2v', 'features')"
   ]
  },
  {
   "cell_type": "code",
   "execution_count": 22,
   "metadata": {},
   "outputs": [
    {
     "name": "stdout",
     "output_type": "stream",
     "text": [
      "+-----+----------+\n",
      "|label|prediction|\n",
      "+-----+----------+\n",
      "|  0.0|       0.0|\n",
      "|  1.0|       1.0|\n",
      "|  0.0|       0.0|\n",
      "|  0.0|       0.0|\n",
      "|  0.0|       0.0|\n",
      "|  0.0|       0.0|\n",
      "|  0.0|       0.0|\n",
      "|  0.0|       0.0|\n",
      "|  0.0|       0.0|\n",
      "|  0.0|       0.0|\n",
      "|  1.0|       0.0|\n",
      "|  1.0|       1.0|\n",
      "|  0.0|       0.0|\n",
      "|  0.0|       0.0|\n",
      "|  0.0|       0.0|\n",
      "|  0.0|       0.0|\n",
      "|  0.0|       0.0|\n",
      "|  0.0|       0.0|\n",
      "|  1.0|       0.0|\n",
      "|  0.0|       0.0|\n",
      "+-----+----------+\n",
      "only showing top 20 rows\n",
      "\n"
     ]
    }
   ],
   "source": [
    "# Format the predictions correctly\n",
    "predictionsAndLabels = predictionsAndLabels.withColumnRenamed('subreddit_bin', 'label')\n",
    "predictionsAndLabels = predictionsAndLabels.withColumn('label', predictionsAndLabels.label.cast('float'))\n",
    "predictionsAndLabels = predictionsAndLabels.withColumn('prediction', predictionsAndLabels.prediction.cast('float'))\n",
    "predictionsAndLabels.show()"
   ]
  },
  {
   "cell_type": "code",
   "execution_count": 23,
   "metadata": {},
   "outputs": [],
   "source": [
    "# Convert the predictions to RDD\n",
    "rdd = predictionsAndLabels.rdd.map(tuple)"
   ]
  },
  {
   "cell_type": "code",
   "execution_count": 24,
   "metadata": {},
   "outputs": [],
   "source": [
    "# Run metrics on predictions\n",
    "metrics = MulticlassMetrics(rdd)"
   ]
  },
  {
   "cell_type": "code",
   "execution_count": 25,
   "metadata": {},
   "outputs": [
    {
     "data": {
      "text/plain": [
       "array([[185195.,  25262.],\n",
       "       [  4546.,  23520.]])"
      ]
     },
     "execution_count": 25,
     "metadata": {},
     "output_type": "execute_result"
    }
   ],
   "source": [
    "metrics.confusionMatrix().toArray()"
   ]
  },
  {
   "cell_type": "code",
   "execution_count": 26,
   "metadata": {},
   "outputs": [
    {
     "data": {
      "text/plain": [
       "0.8750309194501159"
      ]
     },
     "execution_count": 26,
     "metadata": {},
     "output_type": "execute_result"
    }
   ],
   "source": [
    "metrics.accuracy"
   ]
  },
  {
   "cell_type": "code",
   "execution_count": 27,
   "metadata": {},
   "outputs": [
    {
     "data": {
      "text/plain": [
       "0.9179263590174914"
      ]
     },
     "execution_count": 27,
     "metadata": {},
     "output_type": "execute_result"
    }
   ],
   "source": [
    "metrics.weightedPrecision"
   ]
  },
  {
   "cell_type": "code",
   "execution_count": 28,
   "metadata": {},
   "outputs": [
    {
     "data": {
      "text/plain": [
       "0.875030919450116"
      ]
     },
     "execution_count": 28,
     "metadata": {},
     "output_type": "execute_result"
    }
   ],
   "source": [
    "metrics.weightedRecall"
   ]
  },
  {
   "cell_type": "code",
   "execution_count": 29,
   "metadata": {},
   "outputs": [
    {
     "data": {
      "text/plain": [
       "0.8886404725156227"
      ]
     },
     "execution_count": 29,
     "metadata": {},
     "output_type": "execute_result"
    }
   ],
   "source": [
    "metrics.weightedFMeasure()"
   ]
  },
  {
   "cell_type": "code",
   "execution_count": 30,
   "metadata": {},
   "outputs": [
    {
     "data": {
      "text/plain": [
       "0.904788745567817"
      ]
     },
     "execution_count": 30,
     "metadata": {},
     "output_type": "execute_result"
    }
   ],
   "source": [
    "metrics.weightedFMeasure(beta=0.5)"
   ]
  },
  {
   "cell_type": "code",
   "execution_count": 31,
   "metadata": {},
   "outputs": [
    {
     "data": {
      "text/plain": [
       "0.15704028448399157"
      ]
     },
     "execution_count": 31,
     "metadata": {},
     "output_type": "execute_result"
    }
   ],
   "source": [
    "metrics.weightedFalsePositiveRate"
   ]
  },
  {
   "cell_type": "markdown",
   "metadata": {},
   "source": [
    "Model biased toward predicting /r/Askreddit, could be a result of imbalance in classes in the training set. Will try downsampling."
   ]
  },
  {
   "cell_type": "code",
   "execution_count": 32,
   "metadata": {},
   "outputs": [],
   "source": [
    "def downsample(df, target, positive_label, negative_label):\n",
    "\n",
    "    # Split the data by class\n",
    "    positive_df = df.filter(df[target] == positive_label)\n",
    "    negative_df = df.filter(df[target] == negative_label)\n",
    "    \n",
    "    # Count the observations by class\n",
    "    positive_count = positive_df.count()\n",
    "    negative_count = negative_df.count()\n",
    "    \n",
    "    # Reduce the larger dataset by the appropriate ratio\n",
    "    if positive_count > negative_count:\n",
    "        positive_df = positive_df.sample(True, negative_count/positive_count)\n",
    "    else:\n",
    "        negative_df = negative_df.sample(True, positive_count/negative_count)\n",
    "        \n",
    "    # Recombine into a full dataset\n",
    "    df_b = positive_df\n",
    "    df_b = df_b.union(negative_df)\n",
    "    \n",
    "    return df_b"
   ]
  },
  {
   "cell_type": "code",
   "execution_count": 33,
   "metadata": {},
   "outputs": [],
   "source": [
    "# Downsample the data\n",
    "df_train_ds = downsample(df_train, 'subreddit_bin', 1, 0)"
   ]
  },
  {
   "cell_type": "code",
   "execution_count": 34,
   "metadata": {},
   "outputs": [
    {
     "name": "stdout",
     "output_type": "stream",
     "text": [
      "+-------------+------+\n",
      "|subreddit_bin| count|\n",
      "+-------------+------+\n",
      "|            1|145672|\n",
      "|            0|145393|\n",
      "+-------------+------+\n",
      "\n"
     ]
    }
   ],
   "source": [
    "# Verify the new counts\n",
    "df_train_ds.groupBy('subreddit_bin').count().show()"
   ]
  },
  {
   "cell_type": "markdown",
   "metadata": {},
   "source": [
    "Nice! Much closer"
   ]
  },
  {
   "cell_type": "code",
   "execution_count": 35,
   "metadata": {},
   "outputs": [],
   "source": [
    "# The same pipeline can be reused... process follows...\n",
    "model_ds = pipeline.fit(df_train_ds)"
   ]
  },
  {
   "cell_type": "code",
   "execution_count": 36,
   "metadata": {},
   "outputs": [],
   "source": [
    "prediction_ds = model_ds.transform(df_test)"
   ]
  },
  {
   "cell_type": "code",
   "execution_count": 37,
   "metadata": {},
   "outputs": [
    {
     "name": "stdout",
     "output_type": "stream",
     "text": [
      "+----------+------+\n",
      "|prediction| count|\n",
      "+----------+------+\n",
      "|       0.0|166070|\n",
      "|       1.0| 72453|\n",
      "+----------+------+\n",
      "\n"
     ]
    }
   ],
   "source": [
    "prediction_ds.groupBy('prediction').count().show()"
   ]
  },
  {
   "cell_type": "code",
   "execution_count": 38,
   "metadata": {},
   "outputs": [],
   "source": [
    "predictionsAndLabels_ds = prediction_ds.drop('created_utc', 'subreddit', 'comment_id', 'gilded', 'controversiality', 'author', 'score', 'body', 'body_tokens', 'tokens_filtered', 'rawPrediction', 'probability', 'tf', 'w2v', 'features')"
   ]
  },
  {
   "cell_type": "code",
   "execution_count": 39,
   "metadata": {},
   "outputs": [],
   "source": [
    "predictionsAndLabels_ds = predictionsAndLabels_ds.withColumnRenamed('subreddit_bin', 'label')\n",
    "predictionsAndLabels_ds = predictionsAndLabels_ds.withColumn('label', predictionsAndLabels_ds.label.cast('float'))\n",
    "predictionsAndLabels_ds = predictionsAndLabels_ds.withColumn('prediction', predictionsAndLabels_ds.prediction.cast('float'))"
   ]
  },
  {
   "cell_type": "code",
   "execution_count": 40,
   "metadata": {},
   "outputs": [],
   "source": [
    "rdd_ds = predictionsAndLabels_ds.rdd.map(tuple)"
   ]
  },
  {
   "cell_type": "code",
   "execution_count": 41,
   "metadata": {},
   "outputs": [],
   "source": [
    "metrics_ds = MulticlassMetrics(rdd_ds)"
   ]
  },
  {
   "cell_type": "code",
   "execution_count": 42,
   "metadata": {},
   "outputs": [
    {
     "data": {
      "text/plain": [
       "array([[151830.,  14240.],\n",
       "       [ 37911.,  34542.]])"
      ]
     },
     "execution_count": 42,
     "metadata": {},
     "output_type": "execute_result"
    }
   ],
   "source": [
    "metrics_ds.confusionMatrix().toArray()"
   ]
  },
  {
   "cell_type": "code",
   "execution_count": 43,
   "metadata": {},
   "outputs": [
    {
     "data": {
      "text/plain": [
       "0.7813586111192631"
      ]
     },
     "execution_count": 43,
     "metadata": {},
     "output_type": "execute_result"
    }
   ],
   "source": [
    "metrics_ds.accuracy"
   ]
  },
  {
   "cell_type": "code",
   "execution_count": 44,
   "metadata": {},
   "outputs": [
    {
     "data": {
      "text/plain": [
       "0.7722179203921324"
      ]
     },
     "execution_count": 44,
     "metadata": {},
     "output_type": "execute_result"
    }
   ],
   "source": [
    "metrics_ds.weightedPrecision"
   ]
  },
  {
   "cell_type": "code",
   "execution_count": 45,
   "metadata": {},
   "outputs": [
    {
     "data": {
      "text/plain": [
       "0.7813586111192631"
      ]
     },
     "execution_count": 45,
     "metadata": {},
     "output_type": "execute_result"
    }
   ],
   "source": [
    "metrics_ds.weightedRecall"
   ]
  },
  {
   "cell_type": "code",
   "execution_count": 46,
   "metadata": {},
   "outputs": [
    {
     "data": {
      "text/plain": [
       "0.767286632177368"
      ]
     },
     "execution_count": 46,
     "metadata": {},
     "output_type": "execute_result"
    }
   ],
   "source": [
    "metrics_ds.weightedFMeasure()"
   ]
  },
  {
   "cell_type": "code",
   "execution_count": 47,
   "metadata": {},
   "outputs": [
    {
     "data": {
      "text/plain": [
       "0.7674473102424092"
      ]
     },
     "execution_count": 47,
     "metadata": {},
     "output_type": "execute_result"
    }
   ],
   "source": [
    "metrics_ds.weightedFMeasure(beta=0.5)"
   ]
  },
  {
   "cell_type": "code",
   "execution_count": 48,
   "metadata": {},
   "outputs": [
    {
     "data": {
      "text/plain": [
       "0.3903551401706386"
      ]
     },
     "execution_count": 48,
     "metadata": {},
     "output_type": "execute_result"
    }
   ],
   "source": [
    "metrics_ds.weightedFalsePositiveRate"
   ]
  },
  {
   "cell_type": "markdown",
   "metadata": {},
   "source": [
    "Less biased toward predicting /r/AskReddit but performed much worse overall. Maybe a more distinguishing feature? Anecdotally, gold and awards have always been given often on AskReddit for especially good or helpful answers, more than most other subreddits. Maybe would provide a good distinction."
   ]
  },
  {
   "cell_type": "code",
   "execution_count": 49,
   "metadata": {},
   "outputs": [],
   "source": [
    "# Create a new pipeline step that includes the gilded column.\n",
    "va2 = VectorAssembler(inputCols=[\"tf\", \"w2v\", \"gilded\"], outputCol=\"features\")\n",
    "# And assemble a new pipeline\n",
    "pipeline2 = Pipeline(stages=[tok, rem, htf, w2v, va2, lr])"
   ]
  },
  {
   "cell_type": "code",
   "execution_count": 50,
   "metadata": {},
   "outputs": [],
   "source": [
    "# Create a new model using the training data, repeat same process\n",
    "model_more_feats = pipeline2.fit(df_train_ds)\n",
    "prediction_more_feats = model_more_feats.transform(df_test)"
   ]
  },
  {
   "cell_type": "code",
   "execution_count": 51,
   "metadata": {},
   "outputs": [],
   "source": [
    "predictionsAndLabels_more_feats = prediction_more_feats.drop('created_utc', 'subreddit', 'comment_id', 'gilded', 'controversiality','author', 'score', 'body', 'body_tokens', 'tokens_filtered', 'rawPrediction', 'probability', 'tf', 'w2v', 'features')"
   ]
  },
  {
   "cell_type": "code",
   "execution_count": 52,
   "metadata": {},
   "outputs": [
    {
     "name": "stdout",
     "output_type": "stream",
     "text": [
      "+-----+----------+\n",
      "|label|prediction|\n",
      "+-----+----------+\n",
      "|  0.0|       0.0|\n",
      "|  1.0|       1.0|\n",
      "|  0.0|       1.0|\n",
      "|  0.0|       0.0|\n",
      "|  0.0|       0.0|\n",
      "|  0.0|       0.0|\n",
      "|  0.0|       0.0|\n",
      "|  0.0|       0.0|\n",
      "|  0.0|       0.0|\n",
      "|  0.0|       0.0|\n",
      "|  1.0|       0.0|\n",
      "|  1.0|       1.0|\n",
      "|  0.0|       0.0|\n",
      "|  0.0|       1.0|\n",
      "|  0.0|       0.0|\n",
      "|  0.0|       0.0|\n",
      "|  0.0|       0.0|\n",
      "|  0.0|       0.0|\n",
      "|  1.0|       0.0|\n",
      "|  0.0|       0.0|\n",
      "+-----+----------+\n",
      "only showing top 20 rows\n",
      "\n"
     ]
    }
   ],
   "source": [
    "predictionsAndLabels_more_feats = predictionsAndLabels_more_feats.withColumnRenamed('subreddit_bin', 'label')\n",
    "predictionsAndLabels_more_feats = predictionsAndLabels_more_feats.withColumn('label', predictionsAndLabels_more_feats.label.cast('float'))\n",
    "predictionsAndLabels_more_feats = predictionsAndLabels_more_feats.withColumn('prediction', predictionsAndLabels_more_feats.prediction.cast('float'))\n",
    "predictionsAndLabels_more_feats.show()"
   ]
  },
  {
   "cell_type": "code",
   "execution_count": 53,
   "metadata": {},
   "outputs": [],
   "source": [
    "rdd_more_feats = predictionsAndLabels_more_feats.rdd.map(tuple)"
   ]
  },
  {
   "cell_type": "code",
   "execution_count": 54,
   "metadata": {},
   "outputs": [],
   "source": [
    "metrics_more_feats = MulticlassMetrics(rdd_more_feats)"
   ]
  },
  {
   "cell_type": "code",
   "execution_count": null,
   "metadata": {},
   "outputs": [],
   "source": [
    "metrics_more_feats.confusionMatrix().toArray()"
   ]
  },
  {
   "cell_type": "code",
   "execution_count": null,
   "metadata": {},
   "outputs": [],
   "source": [
    "metrics_more_feats.accuracy"
   ]
  },
  {
   "cell_type": "code",
   "execution_count": null,
   "metadata": {},
   "outputs": [],
   "source": [
    "metrics_more_feats.weightedPrecision"
   ]
  },
  {
   "cell_type": "code",
   "execution_count": null,
   "metadata": {},
   "outputs": [],
   "source": [
    "metrics_more_feats.weightedRecall"
   ]
  },
  {
   "cell_type": "code",
   "execution_count": null,
   "metadata": {},
   "outputs": [],
   "source": [
    "metrics_more_feats.weightedFMeasure()"
   ]
  },
  {
   "cell_type": "code",
   "execution_count": null,
   "metadata": {},
   "outputs": [],
   "source": [
    "metrics_more_feats.weightedFMeasure(beta=0.5)"
   ]
  },
  {
   "cell_type": "code",
   "execution_count": null,
   "metadata": {},
   "outputs": [],
   "source": [
    "metrics_more_feats.weightedFalsePositiveRate"
   ]
  },
  {
   "cell_type": "code",
   "execution_count": null,
   "metadata": {},
   "outputs": [],
   "source": [
    "# Save notebook as PDF document\n",
    "!jupyter nbconvert --to pdf `pwd`/*.ipynb"
   ]
  }
 ],
 "metadata": {
  "kernelspec": {
   "display_name": "DS 5110",
   "language": "python",
   "name": "ds5110"
  },
  "language_info": {
   "codemirror_mode": {
    "name": "ipython",
    "version": 3
   },
   "file_extension": ".py",
   "mimetype": "text/x-python",
   "name": "python",
   "nbconvert_exporter": "python",
   "pygments_lexer": "ipython3",
   "version": "3.7.10"
  }
 },
 "nbformat": 4,
 "nbformat_minor": 4
}
