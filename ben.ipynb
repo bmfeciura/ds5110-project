{
 "cells": [
  {
   "cell_type": "code",
   "execution_count": 1,
   "metadata": {},
   "outputs": [],
   "source": [
    "path = '/project/ds5559/r-slash-group8/sample.csv'"
   ]
  },
  {
   "cell_type": "code",
   "execution_count": 2,
   "metadata": {},
   "outputs": [],
   "source": [
    "import pandas as pd\n",
    "from pyspark.sql import SparkSession\n",
    "import numpy as np\n",
    "import re\n",
    "import nltk\n",
    "from pyspark.sql.functions import *\n",
    "from pyspark.sql.types import ArrayType, IntegerType,  StringType, TimestampType"
   ]
  },
  {
   "cell_type": "code",
   "execution_count": 3,
   "metadata": {},
   "outputs": [],
   "source": [
    "spark = SparkSession.builder.getOrCreate()"
   ]
  },
  {
   "cell_type": "code",
   "execution_count": 4,
   "metadata": {},
   "outputs": [],
   "source": [
    "df_full = spark.read.csv(path,  inferSchema=True, header = True)"
   ]
  },
  {
   "cell_type": "code",
   "execution_count": 5,
   "metadata": {},
   "outputs": [
    {
     "name": "stdout",
     "output_type": "stream",
     "text": [
      "+--------------------------------+-----------+----+------------+---------+----------+------------+----------------------+-----------------+---------+-------+--------------+------+-----+--------+------------+-----+------------+--------------------+-------------+------+----------------+----------+\n",
      "|                             _c0|created_utc| ups|subreddit_id|  link_id|      name|score_hidden|author_flair_css_class|author_flair_text|subreddit|     id|removal_reason|gilded|downs|archived|      author|score|retrieved_on|                body|distinguished|edited|controversiality| parent_id|\n",
      "+--------------------------------+-----------+----+------------+---------+----------+------------+----------------------+-----------------+---------+-------+--------------+------+-----+--------+------------+-----+------------+--------------------+-------------+------+----------------+----------+\n",
      "|                               1| 1430438400|   4|    t5_378oi|t3_34di91|t1_cqug90g|           0|                    NA|               NA|soccer_jp|cqug90g|            NA|     0|    0|       0|       rx109|    4|  1432703079|                くそ|         null|  null|            null|      null|\n",
      "|読みたいが買ったら負けな気がする|       null|null|        null|     null|      null|        null|                  null|             null|     null|   null|          null|  null| null|    null|        null| null|        null|                null|         null|  null|            null|      null|\n",
      "|             図書館に出ねーかな\"|         NA|   0|           0|t3_34di91|      null|        null|                  null|             null|     null|   null|          null|  null| null|    null|        null| null|        null|                null|         null|  null|            null|      null|\n",
      "|                               2| 1430438400|   4|    t5_2qo4s|t3_34g8mx|t1_cqug90h|           0|                  Heat|             Heat|      nba|cqug90h|            NA|     0|    0|       0|   WyaOfWade|    4|  1432703079|gg this one's ove...|           NA|     0|               0| t3_34g8mx|\n",
      "|                               3| 1430438400|   0|    t5_2cneq|t3_34f7mc|t1_cqug90i|           0|                    NA|               NA| politics|cqug90i|            NA|     0|    0|       0|Wicked_Truth|    0|  1432703079|Are you really im...|           NA|     0|               0|t1_cqufim0|\n",
      "+--------------------------------+-----------+----+------------+---------+----------+------------+----------------------+-----------------+---------+-------+--------------+------+-----+--------+------------+-----+------------+--------------------+-------------+------+----------------+----------+\n",
      "only showing top 5 rows\n",
      "\n"
     ]
    }
   ],
   "source": [
    "df_full.show(5)"
   ]
  },
  {
   "cell_type": "code",
   "execution_count": 6,
   "metadata": {},
   "outputs": [],
   "source": [
    "df = df_full.drop('_c0','subreddit_id','link_id','name','score_hidden','author_flair_css_class', \\\n",
    "        'author_flair_text','archived','retrieved_on', 'edited','controversiality','parent_id','ups', \\\n",
    "       'downs', 'removal_reason', 'distinguished')\n",
    "# keep score, subreddit, id, created_utc, author, body\n",
    "\n",
    "df=df.withColumn(\"score\",df.score.cast(IntegerType()))\n",
    "df=df.withColumn(\"gilded\",df.gilded.cast(IntegerType()))\n",
    "df=df.withColumn(\"created_utc\",from_unixtime(df.created_utc))\n",
    "df=df.withColumnRenamed(\"id\", \"comment_id\")"
   ]
  },
  {
   "cell_type": "code",
   "execution_count": 7,
   "metadata": {},
   "outputs": [
    {
     "name": "stdout",
     "output_type": "stream",
     "text": [
      "+-------------------+---------+----------+------+------------+-----+--------------------+\n",
      "|        created_utc|subreddit|comment_id|gilded|      author|score|                body|\n",
      "+-------------------+---------+----------+------+------------+-----+--------------------+\n",
      "|2015-05-01 00:00:00|soccer_jp|   cqug90g|     0|       rx109|    4|                くそ|\n",
      "|               null|     null|      null|  null|        null| null|                null|\n",
      "|               null|     null|      null|  null|        null| null|                null|\n",
      "|2015-05-01 00:00:00|      nba|   cqug90h|     0|   WyaOfWade|    4|gg this one's ove...|\n",
      "|2015-05-01 00:00:00| politics|   cqug90i|     0|Wicked_Truth|    0|Are you really im...|\n",
      "+-------------------+---------+----------+------+------------+-----+--------------------+\n",
      "only showing top 5 rows\n",
      "\n",
      "root\n",
      " |-- created_utc: string (nullable = true)\n",
      " |-- subreddit: string (nullable = true)\n",
      " |-- comment_id: string (nullable = true)\n",
      " |-- gilded: integer (nullable = true)\n",
      " |-- author: string (nullable = true)\n",
      " |-- score: integer (nullable = true)\n",
      " |-- body: string (nullable = true)\n",
      "\n"
     ]
    }
   ],
   "source": [
    "df.show(5)\n",
    "df.printSchema()"
   ]
  },
  {
   "cell_type": "code",
   "execution_count": 8,
   "metadata": {},
   "outputs": [],
   "source": [
    "df=df.filter(df['body'].isNotNull())\n",
    "df=df.filter(df['subreddit'].isNotNull())\n",
    "df=df.filter(df['comment_id'].isNotNull())"
   ]
  },
  {
   "cell_type": "code",
   "execution_count": 9,
   "metadata": {},
   "outputs": [
    {
     "name": "stdout",
     "output_type": "stream",
     "text": [
      "+-------------------+------------------+----------+------+---------------+-----+--------------------+\n",
      "|        created_utc|         subreddit|comment_id|gilded|         author|score|                body|\n",
      "+-------------------+------------------+----------+------+---------------+-----+--------------------+\n",
      "|2015-05-01 00:00:00|         soccer_jp|   cqug90g|     0|          rx109|    4|                くそ|\n",
      "|2015-05-01 00:00:00|               nba|   cqug90h|     0|      WyaOfWade|    4|gg this one's ove...|\n",
      "|2015-05-01 00:00:00|          politics|   cqug90i|     0|   Wicked_Truth|    0|Are you really im...|\n",
      "|2015-05-01 00:00:00|         AskReddit|   cqug90j|     0|       jesse9o3|    3|No one has a Euro...|\n",
      "|2015-05-01 00:00:00|         AskReddit|   cqug90k|     0| beltfedshooter|    3|\"That the kid \"\"....|\n",
      "|2015-05-01 00:00:00|        bloodborne|   cqug90l|     0|     Rubenticus|    1|Haha, i was getti...|\n",
      "|2015-05-01 00:00:00|     relationships|   cqug90m|     0|silverraven1189|    6|After reading thi...|\n",
      "|2015-05-01 00:00:00|   Tennesseetitans|   cqug90n|     0|     Scrubtanic|    2|Let's do this. Se...|\n",
      "|2015-05-01 00:00:00|            cigars|   cqug90o|     0|       burnmyiz|    6|You can buy a mys...|\n",
      "|2015-05-01 00:00:00|   GlobalOffensive|   cqug90p|     0|      BEE_REAL_|    5|Nihilum and LG ar...|\n",
      "|2015-05-01 00:00:00|            eagles|   cqug90q|     0|           SNVG|    4|      Fuck that what|\n",
      "|2015-05-01 00:00:00|         smashbros|   cqug90r|     0|       BiigLord|    1|Don't diss the Gr...|\n",
      "|2015-05-01 00:00:00|      makinghiphop|   cqug90s|     0|        KingEze|    1|Your 16 bars seem...|\n",
      "|2015-05-01 00:00:00|   GoogleCardboard|   cqug90t|     0|        cyborek|    3|Trinus vr is amaz...|\n",
      "|2015-05-01 00:00:00|        offmychest|   cqug90u|     0|     Zekkystyle|   14|It's not your fau...|\n",
      "|2015-05-01 00:00:00|               nrl|   cqug90v|     0|       jeauxoxo|    3|http://www.reddit...|\n",
      "|2015-05-01 00:00:00|elderscrollsonline|   cqug90w|     0| Chainsaw_Ninja|    0|and what about al...|\n",
      "|2015-05-01 00:00:00|         childfree|   cqug90x|     0|    tparkelaine|    5|I would be tempte...|\n",
      "|2015-05-01 00:00:00|       ExNoContact|   cqug90y|     0|         vvvvfl|    1|I can't answer be...|\n",
      "|2015-05-01 00:00:00|         AskReddit|   cqug90z|     0|  InterimFatGuy|    5|                NSFL|\n",
      "+-------------------+------------------+----------+------+---------------+-----+--------------------+\n",
      "only showing top 20 rows\n",
      "\n"
     ]
    }
   ],
   "source": [
    "df.show()"
   ]
  },
  {
   "cell_type": "code",
   "execution_count": 10,
   "metadata": {},
   "outputs": [
    {
     "data": {
      "text/plain": [
       "10002410"
      ]
     },
     "execution_count": 10,
     "metadata": {},
     "output_type": "execute_result"
    }
   ],
   "source": [
    "df.count()"
   ]
  },
  {
   "cell_type": "code",
   "execution_count": 11,
   "metadata": {},
   "outputs": [
    {
     "name": "stdout",
     "output_type": "stream",
     "text": [
      "+-------------------+---------+----------+------+--------------+-----+--------------------+-------------+\n",
      "|        created_utc|subreddit|comment_id|gilded|        author|score|                body|subreddit_bin|\n",
      "+-------------------+---------+----------+------+--------------+-----+--------------------+-------------+\n",
      "|2015-05-01 00:00:00|AskReddit|   cqug90j|     0|      jesse9o3|    3|No one has a Euro...|            0|\n",
      "|2015-05-01 00:00:00|AskReddit|   cqug90k|     0|beltfedshooter|    3|\"That the kid \"\"....|            0|\n",
      "|2015-05-01 00:00:00|AskReddit|   cqug90z|     0| InterimFatGuy|    5|                NSFL|            0|\n",
      "|2015-05-01 00:00:01|AskReddit|   cqug91c|     0|   JuanTutrego|    1|I'm a guy and I h...|            0|\n",
      "|2015-05-01 00:00:01|AskReddit|   cqug91e|     0|   dcblackbelt|  101|Mid twenties male...|            0|\n",
      "|2015-05-01 00:00:02|AskReddit|   cqug920|     0| TheDoorsShirt|    1|Fran Drescher lau...|            0|\n",
      "|2015-05-01 00:00:02|AskReddit|   cqug921|     0|youthfulvictim|   -5|I honestly wouldn...|            0|\n",
      "|2015-05-01 00:00:02|AskReddit|   cqug923|     0|   sonovadoyle|    1|             &lt;/3 |            0|\n",
      "|2015-05-01 00:00:02|AskReddit|   cqug929|     0|      boludo54|    1|no money, just ID...|            0|\n",
      "|2015-05-01 00:00:03|      nfl|   cqug92m|     0|     Stokest26|    4|\"Do you get to ju...|            1|\n",
      "|2015-05-01 00:00:03|AskReddit|   cqug92o|     0| mister_sleepy|    1|Smoking tobacco. ...|            0|\n",
      "|2015-05-01 00:00:03|      nfl|   cqug92p|     0|    Drakengard|    2|https://i.imgur.c...|            1|\n",
      "|2015-05-01 00:00:03|AskReddit|   cqug92s|     0|baconinstitute|    1|   Bootleg Fireworks|            0|\n",
      "|2015-05-01 00:00:03|AskReddit|   cqug92v|     0|   cpmustang90|    1|I'm a member of t...|            0|\n",
      "|2015-05-01 00:00:03|AskReddit|   cqug937|     0|       hamhead|    1|That's one reason...|            0|\n",
      "|2015-05-01 00:00:03|      nfl|   cqug93g|     0|     wesman212|    1|Can we sticky the...|            1|\n",
      "|2015-05-01 00:00:03|AskReddit|   cqug93k|     0|  mrjosemeehan|    7|Go back to Route ...|            0|\n",
      "|2015-05-01 00:00:04|AskReddit|   cqug93o|     0|  Peacehamster|    2|They're oh-so-bra...|            0|\n",
      "|2015-05-01 00:00:04|AskReddit|   cqug93u|     0|    bunnylumps|   20|\"I think the whol...|            0|\n",
      "|2015-05-01 00:00:04|AskReddit|   cqug93v|     0|       DawkTux|    1|Fuck pound coins....|            0|\n",
      "+-------------------+---------+----------+------+--------------+-----+--------------------+-------------+\n",
      "only showing top 20 rows\n",
      "\n"
     ]
    }
   ],
   "source": [
    "df_reduced = df.filter((df['subreddit'] == 'AskReddit') | (df['subreddit'] == 'nfl'))\n",
    "df_reduced = df_reduced.withColumn('subreddit_bin',when(df['subreddit'] == 'AskReddit',0).otherwise(1))\n",
    "df_reduced.show()"
   ]
  },
  {
   "cell_type": "code",
   "execution_count": 12,
   "metadata": {},
   "outputs": [
    {
     "data": {
      "text/plain": [
       "894729"
      ]
     },
     "execution_count": 12,
     "metadata": {},
     "output_type": "execute_result"
    }
   ],
   "source": [
    "df_reduced.count()"
   ]
  },
  {
   "cell_type": "code",
   "execution_count": 13,
   "metadata": {},
   "outputs": [],
   "source": [
    "df_train, df_test = df_reduced.randomSplit([0.75,0.25])"
   ]
  },
  {
   "cell_type": "code",
   "execution_count": 14,
   "metadata": {},
   "outputs": [
    {
     "data": {
      "text/plain": [
       "671189"
      ]
     },
     "execution_count": 14,
     "metadata": {},
     "output_type": "execute_result"
    }
   ],
   "source": [
    "df_train.count()"
   ]
  },
  {
   "cell_type": "code",
   "execution_count": 15,
   "metadata": {},
   "outputs": [
    {
     "name": "stdout",
     "output_type": "stream",
     "text": [
      "+-------------+------+\n",
      "|subreddit_bin| count|\n",
      "+-------------+------+\n",
      "|            1|103800|\n",
      "|            0|567389|\n",
      "+-------------+------+\n",
      "\n"
     ]
    }
   ],
   "source": [
    "df_train.groupBy('subreddit_bin').count().show()"
   ]
  },
  {
   "cell_type": "code",
   "execution_count": null,
   "metadata": {},
   "outputs": [],
   "source": []
  },
  {
   "cell_type": "code",
   "execution_count": 16,
   "metadata": {},
   "outputs": [
    {
     "name": "stdout",
     "output_type": "stream",
     "text": [
      "+-------------+------+\n",
      "|subreddit_bin| count|\n",
      "+-------------+------+\n",
      "|            1| 34855|\n",
      "|            0|188685|\n",
      "+-------------+------+\n",
      "\n"
     ]
    }
   ],
   "source": [
    "df_test.groupBy('subreddit_bin').count().show()"
   ]
  },
  {
   "cell_type": "code",
   "execution_count": 17,
   "metadata": {},
   "outputs": [],
   "source": [
    "from pyspark.ml import Pipeline  \n",
    "from pyspark.ml.feature import *\n",
    "from pyspark.ml.classification import LogisticRegression"
   ]
  },
  {
   "cell_type": "code",
   "execution_count": 18,
   "metadata": {},
   "outputs": [],
   "source": [
    "tok = Tokenizer(inputCol=\"body\", outputCol=\"body_tokens\")\n",
    "rem = StopWordsRemover(inputCol=\"body_tokens\", outputCol=\"tokens_filtered\")\n",
    "htf = HashingTF(numFeatures = 4096, inputCol=\"tokens_filtered\", outputCol=\"tf\") \n",
    "w2v = Word2Vec(inputCol=\"body_tokens\", outputCol=\"w2v\") \n",
    "va = VectorAssembler(inputCols=[\"tf\", \"w2v\"], outputCol=\"features\")\n",
    "lr = LogisticRegression(labelCol='subreddit_bin', featuresCol='features', maxIter=10, regParam=0.01)\n",
    "\n",
    "pipeline = Pipeline(stages=[tok, rem, htf, w2v, va, lr])"
   ]
  },
  {
   "cell_type": "code",
   "execution_count": 19,
   "metadata": {},
   "outputs": [],
   "source": [
    "model = pipeline.fit(df_train)"
   ]
  },
  {
   "cell_type": "code",
   "execution_count": 21,
   "metadata": {},
   "outputs": [
    {
     "name": "stdout",
     "output_type": "stream",
     "text": [
      "+-------------------+---------+----------+------+--------------+-----+--------------------+-------------+--------------------+--------------------+--------------------+--------------------+--------------------+--------------------+--------------------+----------+\n",
      "|        created_utc|subreddit|comment_id|gilded|        author|score|                body|subreddit_bin|         body_tokens|     tokens_filtered|                  tf|                 w2v|            features|       rawPrediction|         probability|prediction|\n",
      "+-------------------+---------+----------+------+--------------+-----+--------------------+-------------+--------------------+--------------------+--------------------+--------------------+--------------------+--------------------+--------------------+----------+\n",
      "|2015-05-01 00:00:00|AskReddit|   cqug90j|     0|      jesse9o3|    3|No one has a Euro...|            0|[no, one, has, a,...|[one, european, a...|(4096,[99,1343,17...|[0.11656655858016...|(4196,[99,1343,17...|[4.44445710690465...|[0.98839282882496...|       0.0|\n",
      "|2015-05-01 00:00:02|AskReddit|   cqug920|     0| TheDoorsShirt|    1|Fran Drescher lau...|            0|[fran, drescher, ...|[fran, drescher, ...|(4096,[2089,2781,...|[0.01728342659771...|(4196,[2089,2781,...|[2.37812174586286...|[0.91514369078506...|       0.0|\n",
      "|2015-05-01 00:00:03|AskReddit|   cqug92v|     0|   cpmustang90|    1|I'm a member of t...|            0|[i'm, a, member, ...|[member, tea, par...|(4096,[793,4029,4...|[0.09982642637831...|(4196,[793,4029,4...|[4.21165572837286...|[0.98539467025667...|       0.0|\n",
      "|2015-05-01 00:00:03|AskReddit|   cqug93k|     0|  mrjosemeehan|    7|Go back to Route ...|            0|[go, back, to, ro...|[go, back, route,...|(4096,[487,1198,1...|[-0.1260713236406...|(4196,[487,1198,1...|[0.71144015847846...|[0.67071930405816...|       0.0|\n",
      "|2015-05-01 00:00:03|      nfl|   cqug92m|     0|     Stokest26|    4|\"Do you get to ju...|            1|[\"do, you, get, t...|[\"do, get, make, ...|(4096,[716,1157,1...|[-0.0254123289890...|(4196,[716,1157,1...|[1.68832637905484...|[0.84400393562142...|       0.0|\n",
      "|2015-05-01 00:00:04|AskReddit|   cqug93o|     0|  Peacehamster|    2|They're oh-so-bra...|            0|[they're, oh-so-b...|[oh-so-bravely, s...|(4096,[1465,2470,...|[-0.0683531030697...|(4196,[1465,2470,...|[3.95176178321757...|[0.98114166345578...|       0.0|\n",
      "|2015-05-01 00:00:04|AskReddit|   cqug93u|     0|    bunnylumps|   20|\"I think the whol...|            0|[\"i, think, the, ...|[\"i, think, whole...|(4096,[193,308,43...|[-0.0194499432691...|(4196,[193,308,43...|[2.11907616335345...|[0.89274350189698...|       0.0|\n",
      "|2015-05-01 00:00:04|AskReddit|   cqug93v|     0|       DawkTux|    1|Fuck pound coins....|            0|[fuck, pound, coi...|[fuck, pound, coi...|(4096,[123,1561,1...|[-0.0110021372410...|(4196,[123,1561,1...|[2.65875610691634...|[0.93454862186456...|       0.0|\n",
      "|2015-05-01 00:00:04|AskReddit|   cqug94d|     0|    SpareLiver|   11|\"Yes, that's what...|            0|[\"yes,, that's, w...|[\"yes,, going, on...|(4096,[140,843,85...|[0.01932223575810...|(4196,[140,843,85...|[3.27330875899342...|[0.96350170671326...|       0.0|\n",
      "|2015-05-01 00:00:04|      nfl|   cqug93x|     0|      BirdLaw_|    2|Woo. 2015 NFL Dra...|            1|[woo., 2015, nfl,...|[woo., 2015, nfl,...|(4096,[679,734,81...|[-0.0013861323241...|(4196,[679,734,81...|[-9.2637970782738...|[9.47857128419531...|       1.0|\n",
      "|2015-05-01 00:00:07|      nfl|   cqug95w|     0|     kmhines88|    2|In a show of frie...|            1|[in, a, show, of,...|[show, friendship...|(4096,[1522,1578,...|[0.01060863945167...|(4196,[1522,1578,...|[-6.0436342928132...|[0.00236730192353...|       1.0|\n",
      "|2015-05-01 00:00:07|      nfl|   cqug960|     0|   Semper-Fido|    1|Whatchu doing her...|            1|[whatchu, doing, ...| [whatchu, hawkeye?]|(4096,[3100,3807]...|[0.00932125747203...|(4196,[3100,3807,...|[1.79152247754273...|[0.85711383529654...|       0.0|\n",
      "|2015-05-01 00:00:08|      nfl|   cqug96l|     0|     bwburke94|   12|       #FUCK GOODELL|            1|    [#fuck, goodell]|    [#fuck, goodell]|(4096,[1540,3186]...|[-0.0096676694229...|(4196,[1540,3186,...|[-3.3474090357063...|[0.03398011114624...|       1.0|\n",
      "|2015-05-01 00:00:09|AskReddit|   cqug981|     0|  haggardclint|    1|When I was a youn...|            0|[when, i, was, a,...|[youngster, teens...|(4096,[192,314,34...|[-0.0179296344703...|(4196,[192,314,34...|[4.28133498207571...|[0.98636430775434...|       0.0|\n",
      "|2015-05-01 00:00:09|      nfl|   cqug97x|     0|    TheAquaman|    2|If we fuck this u...|            1|[if, we, fuck, th...|       [fuck, up...]|(4096,[166,3639],...|[-0.1451669842004...|(4196,[166,3639,4...|[0.51484269706837...|[0.62594102776761...|       0.0|\n",
      "|2015-05-01 00:00:10|AskReddit|   cqug98u|     0|   Gum_Disease|    1|I don't know how ...|            0|[i, don't, know, ...|[know, read, comm...|(4096,[169,282,32...|[-0.0456981721384...|(4196,[169,282,32...|[8.10439154574620...|[0.99969788224795...|       0.0|\n",
      "|2015-05-01 00:00:12|AskReddit|   cqug9an|     0|  7LeagueBoots|    1|Here is how all [...|            0|[here, is, how, a...|[[those, idiots](...|(4096,[338,2828,3...|[-0.0570049323141...|(4196,[338,2828,3...|[1.53642857728156...|[0.82294494554689...|       0.0|\n",
      "|2015-05-01 00:00:12|      nfl|   cqug9a7|     0| smallgiantman|    2|Tampa Bay has gon...|            1|[tampa, bay, has,...|[tampa, bay, gone...|(4096,[205,419,12...|[-0.0797286167691...|(4196,[205,419,12...|[-1.8013828562423...|[0.14168281407853...|       1.0|\n",
      "|2015-05-01 00:00:13|      nfl|   cqug9bh|     0| zombiebillnye|    3|I want what you'r...|            1|[i, want, what, y...|    [want, smoking.]|(4096,[1840,2264]...|[-0.0141300449147...|(4196,[1840,2264,...|[2.76124174528225...|[0.94054511042451...|       0.0|\n",
      "|2015-05-01 00:00:14|AskReddit|   cqug9bs|     0|JimmySmackCorn|    2|10000 DVD's of Pa...|            0|[10000, dvd's, of...|[10000, dvd's, pa...|(4096,[1349,1957,...|[0.03559910033696...|(4196,[1349,1957,...|[4.27612981068178...|[0.98629412192294...|       0.0|\n",
      "+-------------------+---------+----------+------+--------------+-----+--------------------+-------------+--------------------+--------------------+--------------------+--------------------+--------------------+--------------------+--------------------+----------+\n",
      "only showing top 20 rows\n",
      "\n"
     ]
    }
   ],
   "source": [
    "prediction = model.transform(df_test)\n",
    "prediction.show()"
   ]
  },
  {
   "cell_type": "code",
   "execution_count": 31,
   "metadata": {},
   "outputs": [
    {
     "name": "stdout",
     "output_type": "stream",
     "text": [
      "+----------+------+\n",
      "|prediction| count|\n",
      "+----------+------+\n",
      "|       0.0|205459|\n",
      "|       1.0| 18061|\n",
      "+----------+------+\n",
      "\n"
     ]
    }
   ],
   "source": [
    "prediction.groupBy('prediction').count().show()"
   ]
  },
  {
   "cell_type": "code",
   "execution_count": 39,
   "metadata": {},
   "outputs": [],
   "source": [
    "predictionsAndLabels = prediction.drop('created_utc', 'subreddit', 'comment_id', 'gilded', 'author', 'score', 'body', 'body_tokens', 'tokens_filtered', 'rawPrediction', 'probability', 'tf', 'w2v', 'features')"
   ]
  },
  {
   "cell_type": "code",
   "execution_count": 45,
   "metadata": {},
   "outputs": [
    {
     "name": "stdout",
     "output_type": "stream",
     "text": [
      "+-----+----------+\n",
      "|label|prediction|\n",
      "+-----+----------+\n",
      "|  0.0|       0.0|\n",
      "|  0.0|       0.0|\n",
      "|  0.0|       0.0|\n",
      "|  0.0|       0.0|\n",
      "|  1.0|       0.0|\n",
      "|  0.0|       0.0|\n",
      "|  0.0|       0.0|\n",
      "|  0.0|       0.0|\n",
      "|  0.0|       0.0|\n",
      "|  1.0|       1.0|\n",
      "|  1.0|       1.0|\n",
      "|  1.0|       0.0|\n",
      "|  1.0|       1.0|\n",
      "|  0.0|       0.0|\n",
      "|  1.0|       0.0|\n",
      "|  0.0|       0.0|\n",
      "|  0.0|       0.0|\n",
      "|  1.0|       1.0|\n",
      "|  1.0|       0.0|\n",
      "|  0.0|       0.0|\n",
      "+-----+----------+\n",
      "only showing top 20 rows\n",
      "\n"
     ]
    }
   ],
   "source": [
    "predictionsAndLabels = predictionsAndLabels.withColumnRenamed('subreddit_bin', 'label')\n",
    "predictionsAndLabels = predictionsAndLabels.withColumn('label', predictionsAndLabels.label.cast('float'))\n",
    "predictionsAndLabels = predictionsAndLabels.withColumn('prediction', predictionsAndLabels.prediction.cast('float'))\n",
    "predictionsAndLabels.show()"
   ]
  },
  {
   "cell_type": "code",
   "execution_count": 46,
   "metadata": {},
   "outputs": [],
   "source": [
    "from pyspark.mllib.evaluation import MulticlassMetrics"
   ]
  },
  {
   "cell_type": "code",
   "execution_count": 47,
   "metadata": {},
   "outputs": [],
   "source": [
    "rdd = predictionsAndLabels.rdd.map(tuple)"
   ]
  },
  {
   "cell_type": "code",
   "execution_count": 48,
   "metadata": {},
   "outputs": [],
   "source": [
    "metrics = MulticlassMetrics(rdd)"
   ]
  },
  {
   "cell_type": "code",
   "execution_count": 49,
   "metadata": {},
   "outputs": [
    {
     "data": {
      "text/plain": [
       "array([[185928.,  19345.],\n",
       "       [  2757.,  15510.]])"
      ]
     },
     "execution_count": 49,
     "metadata": {},
     "output_type": "execute_result"
    }
   ],
   "source": [
    "metrics.confusionMatrix().toArray()"
   ]
  },
  {
   "cell_type": "markdown",
   "metadata": {},
   "source": [
    "Model biased toward predicting /r/Askreddit, could be tuned."
   ]
  },
  {
   "cell_type": "code",
   "execution_count": null,
   "metadata": {},
   "outputs": [],
   "source": []
  }
 ],
 "metadata": {
  "kernelspec": {
   "display_name": "DS 5110",
   "language": "python",
   "name": "ds5110"
  },
  "language_info": {
   "codemirror_mode": {
    "name": "ipython",
    "version": 3
   },
   "file_extension": ".py",
   "mimetype": "text/x-python",
   "name": "python",
   "nbconvert_exporter": "python",
   "pygments_lexer": "ipython3",
   "version": "3.7.10"
  }
 },
 "nbformat": 4,
 "nbformat_minor": 4
}
