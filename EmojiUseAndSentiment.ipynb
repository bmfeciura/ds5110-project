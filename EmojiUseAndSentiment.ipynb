{
 "cells": [
  {
   "cell_type": "markdown",
   "metadata": {},
   "source": [
    "Can the use of emoji's soften the sentiment of a comment"
   ]
  },
  {
   "cell_type": "markdown",
   "metadata": {},
   "source": [
    "https://datascienceplus.com/machine-learning-with-text-in-pyspark-part-1/"
   ]
  },
  {
   "cell_type": "markdown",
   "metadata": {},
   "source": [
    "### Preprocessing"
   ]
  },
  {
   "cell_type": "code",
   "execution_count": 1,
   "metadata": {},
   "outputs": [],
   "source": [
    "import os\n",
    "import pandas as pd\n",
    "import matplotlib.pyplot as plt\n",
    "\n",
    "from pyspark.ml.feature import VectorAssembler\n",
    "from pyspark.ml.feature import StandardScaler\n",
    "from pyspark.ml.feature import Bucketizer\n",
    "from pyspark.ml.classification import LogisticRegression\n",
    "from pyspark.ml.evaluation import RegressionEvaluator\n",
    "from pyspark.ml.stat import Correlation"
   ]
  },
  {
   "cell_type": "code",
   "execution_count": 2,
   "metadata": {},
   "outputs": [],
   "source": [
    "from pyspark.sql import SparkSession\n",
    "spark = SparkSession.builder.getOrCreate()"
   ]
  },
  {
   "cell_type": "code",
   "execution_count": 3,
   "metadata": {},
   "outputs": [],
   "source": [
    "# read text file into pyspark dataframe\n",
    "file = '/project/ds5559/r-slash-group8/sample.csv'\n",
    "df = spark.read.csv(file,  inferSchema=True, header = True)"
   ]
  },
  {
   "cell_type": "code",
   "execution_count": 4,
   "metadata": {},
   "outputs": [
    {
     "name": "stdout",
     "output_type": "stream",
     "text": [
      "+--------------------------------+-----------+----+------------+---------+----------+------------+----------------------+-----------------+---------+-------+--------------+------+-----+--------+------------+-----+------------+--------------------+-------------+------+----------------+----------+\n",
      "|                             _c0|created_utc| ups|subreddit_id|  link_id|      name|score_hidden|author_flair_css_class|author_flair_text|subreddit|     id|removal_reason|gilded|downs|archived|      author|score|retrieved_on|                body|distinguished|edited|controversiality| parent_id|\n",
      "+--------------------------------+-----------+----+------------+---------+----------+------------+----------------------+-----------------+---------+-------+--------------+------+-----+--------+------------+-----+------------+--------------------+-------------+------+----------------+----------+\n",
      "|                               1| 1430438400|   4|    t5_378oi|t3_34di91|t1_cqug90g|           0|                    NA|               NA|soccer_jp|cqug90g|            NA|     0|    0|       0|       rx109|    4|  1432703079|                くそ|         null|  null|            null|      null|\n",
      "|読みたいが買ったら負けな気がする|       null|null|        null|     null|      null|        null|                  null|             null|     null|   null|          null|  null| null|    null|        null| null|        null|                null|         null|  null|            null|      null|\n",
      "|             図書館に出ねーかな\"|         NA|   0|           0|t3_34di91|      null|        null|                  null|             null|     null|   null|          null|  null| null|    null|        null| null|        null|                null|         null|  null|            null|      null|\n",
      "|                               2| 1430438400|   4|    t5_2qo4s|t3_34g8mx|t1_cqug90h|           0|                  Heat|             Heat|      nba|cqug90h|            NA|     0|    0|       0|   WyaOfWade|    4|  1432703079|gg this one's ove...|           NA|     0|               0| t3_34g8mx|\n",
      "|                               3| 1430438400|   0|    t5_2cneq|t3_34f7mc|t1_cqug90i|           0|                    NA|               NA| politics|cqug90i|            NA|     0|    0|       0|Wicked_Truth|    0|  1432703079|Are you really im...|           NA|     0|               0|t1_cqufim0|\n",
      "+--------------------------------+-----------+----+------------+---------+----------+------------+----------------------+-----------------+---------+-------+--------------+------+-----+--------+------------+-----+------------+--------------------+-------------+------+----------------+----------+\n",
      "only showing top 5 rows\n",
      "\n"
     ]
    },
    {
     "data": {
      "text/plain": [
       "15317725"
      ]
     },
     "execution_count": 4,
     "metadata": {},
     "output_type": "execute_result"
    }
   ],
   "source": [
    "df.show(5)\n",
    "df.count() #15317725 rows"
   ]
  },
  {
   "cell_type": "code",
   "execution_count": 5,
   "metadata": {},
   "outputs": [],
   "source": [
    "df2 = df.filter(df.author_flair_text != \"NA\")\n",
    "df2 = df2.filter(df.author_flair_text != \"-\") \n",
    "df2 = df2.filter(df.author_flair_text != \" - \")\n",
    "df2 = df2.filter(df.author_flair_text.isNotNull())"
   ]
  },
  {
   "cell_type": "code",
   "execution_count": 6,
   "metadata": {},
   "outputs": [
    {
     "name": "stdout",
     "output_type": "stream",
     "text": [
      "+---+-----------+---+------------+---------+----------+------------+----------------------+--------------------+---------------+-------+--------------+------+-----+--------+---------+-----+------------+--------------------+-------------+------+----------------+----------+\n",
      "|_c0|created_utc|ups|subreddit_id|  link_id|      name|score_hidden|author_flair_css_class|   author_flair_text|      subreddit|     id|removal_reason|gilded|downs|archived|   author|score|retrieved_on|                body|distinguished|edited|controversiality| parent_id|\n",
      "+---+-----------+---+------------+---------+----------+------------+----------------------+--------------------+---------------+-------+--------------+------+-----+--------+---------+-----+------------+--------------------+-------------+------+----------------+----------+\n",
      "|  2| 1430438400|  4|    t5_2qo4s|t3_34g8mx|t1_cqug90h|           0|                  Heat|                Heat|            nba|cqug90h|            NA|     0|    0|       0|WyaOfWade|    4|  1432703079|gg this one's ove...|           NA|     0|               0| t3_34g8mx|\n",
      "|  9| 1430438400|  6|    t5_2r090|t3_34gcwh|t1_cqug90o|           0|                T10B10|            [Philly]|         cigars|cqug90o|            NA|     0|    0|       0| burnmyiz|    6|  1432703079|You can buy a mys...|           NA|     0|               0| t3_34gcwh|\n",
      "| 10| 1430438400|  5|    t5_2sqho|t3_34gmag|t1_cqug90p|           0|                fan vp|      Virtus.pro Fan|GlobalOffensive|cqug90p|            NA|     0|    0|       0|BEE_REAL_|    5|  1432703079|Nihilum and LG ar...|           NA|     0|               0| t3_34gmag|\n",
      "| 12| 1430438400|  1|    t5_2qiep|t3_34eznn|t1_cqug90r|           0|             FZeroLogo|3024-7470-9499 NN...|      smashbros|cqug90r|            NA|     0|    0|       0| BiigLord|    1|  1432703079|Don't diss the Gr...|           NA|     0|               0|t1_cqu4f8j|\n",
      "| 16| 1430438400|  3|    t5_2qn90|t3_34gj3a|t1_cqug90v|           0|      brisbane-broncos|    Brisbane Broncos|            nrl|cqug90v|            NA|     0|    0|       0| jeauxoxo|    3|  1432703079|http://www.reddit...|           NA|     0|               0|t1_cqufyef|\n",
      "+---+-----------+---+------------+---------+----------+------------+----------------------+--------------------+---------------+-------+--------------+------+-----+--------+---------+-----+------------+--------------------+-------------+------+----------------+----------+\n",
      "only showing top 5 rows\n",
      "\n"
     ]
    },
    {
     "data": {
      "text/plain": [
       "2724362"
      ]
     },
     "execution_count": 6,
     "metadata": {},
     "output_type": "execute_result"
    }
   ],
   "source": [
    "df2.show(5)\n",
    "df2.count() #2724362 rows"
   ]
  },
  {
   "cell_type": "code",
   "execution_count": 7,
   "metadata": {},
   "outputs": [],
   "source": [
    "df3 = df2.filter(df.author_flair_css_class != \"NA\")\n",
    "df3 = df3.filter(df.author_flair_css_class != \"-\")\n",
    "df2 = df2.filter(df.author_flair_css_class != \" - \")\n",
    "df3 = df3.filter(df.author_flair_css_class.isNotNull())"
   ]
  },
  {
   "cell_type": "code",
   "execution_count": 8,
   "metadata": {},
   "outputs": [
    {
     "name": "stdout",
     "output_type": "stream",
     "text": [
      "+---+-----------+---+------------+---------+----------+------------+----------------------+--------------------+---------------+-------+--------------+------+-----+--------+---------+-----+------------+--------------------+-------------+------+----------------+----------+\n",
      "|_c0|created_utc|ups|subreddit_id|  link_id|      name|score_hidden|author_flair_css_class|   author_flair_text|      subreddit|     id|removal_reason|gilded|downs|archived|   author|score|retrieved_on|                body|distinguished|edited|controversiality| parent_id|\n",
      "+---+-----------+---+------------+---------+----------+------------+----------------------+--------------------+---------------+-------+--------------+------+-----+--------+---------+-----+------------+--------------------+-------------+------+----------------+----------+\n",
      "|  2| 1430438400|  4|    t5_2qo4s|t3_34g8mx|t1_cqug90h|           0|                  Heat|                Heat|            nba|cqug90h|            NA|     0|    0|       0|WyaOfWade|    4|  1432703079|gg this one's ove...|           NA|     0|               0| t3_34g8mx|\n",
      "|  9| 1430438400|  6|    t5_2r090|t3_34gcwh|t1_cqug90o|           0|                T10B10|            [Philly]|         cigars|cqug90o|            NA|     0|    0|       0| burnmyiz|    6|  1432703079|You can buy a mys...|           NA|     0|               0| t3_34gcwh|\n",
      "| 10| 1430438400|  5|    t5_2sqho|t3_34gmag|t1_cqug90p|           0|                fan vp|      Virtus.pro Fan|GlobalOffensive|cqug90p|            NA|     0|    0|       0|BEE_REAL_|    5|  1432703079|Nihilum and LG ar...|           NA|     0|               0| t3_34gmag|\n",
      "| 12| 1430438400|  1|    t5_2qiep|t3_34eznn|t1_cqug90r|           0|             FZeroLogo|3024-7470-9499 NN...|      smashbros|cqug90r|            NA|     0|    0|       0| BiigLord|    1|  1432703079|Don't diss the Gr...|           NA|     0|               0|t1_cqu4f8j|\n",
      "| 16| 1430438400|  3|    t5_2qn90|t3_34gj3a|t1_cqug90v|           0|      brisbane-broncos|    Brisbane Broncos|            nrl|cqug90v|            NA|     0|    0|       0| jeauxoxo|    3|  1432703079|http://www.reddit...|           NA|     0|               0|t1_cqufyef|\n",
      "+---+-----------+---+------------+---------+----------+------------+----------------------+--------------------+---------------+-------+--------------+------+-----+--------+---------+-----+------------+--------------------+-------------+------+----------------+----------+\n",
      "only showing top 5 rows\n",
      "\n"
     ]
    },
    {
     "data": {
      "text/plain": [
       "2117131"
      ]
     },
     "execution_count": 8,
     "metadata": {},
     "output_type": "execute_result"
    }
   ],
   "source": [
    "df3.show(5)\n",
    "df3.count() #2117131 rows"
   ]
  },
  {
   "cell_type": "code",
   "execution_count": 9,
   "metadata": {},
   "outputs": [],
   "source": [
    "from pyspark.sql import functions as f\n",
    "df4 = df3.withColumn('label', f.when(f.col('removal_reason') == \"NA\", 0.0).otherwise(1.0))"
   ]
  },
  {
   "cell_type": "code",
   "execution_count": 10,
   "metadata": {},
   "outputs": [
    {
     "name": "stdout",
     "output_type": "stream",
     "text": [
      "+---+-----------+---+------------+---------+----------+------------+----------------------+--------------------+---------------+-------+--------------+------+-----+--------+---------+-----+------------+--------------------+-------------+------+----------------+----------+-----+\n",
      "|_c0|created_utc|ups|subreddit_id|  link_id|      name|score_hidden|author_flair_css_class|   author_flair_text|      subreddit|     id|removal_reason|gilded|downs|archived|   author|score|retrieved_on|                body|distinguished|edited|controversiality| parent_id|label|\n",
      "+---+-----------+---+------------+---------+----------+------------+----------------------+--------------------+---------------+-------+--------------+------+-----+--------+---------+-----+------------+--------------------+-------------+------+----------------+----------+-----+\n",
      "|  2| 1430438400|  4|    t5_2qo4s|t3_34g8mx|t1_cqug90h|           0|                  Heat|                Heat|            nba|cqug90h|            NA|     0|    0|       0|WyaOfWade|    4|  1432703079|gg this one's ove...|           NA|     0|               0| t3_34g8mx|  0.0|\n",
      "|  9| 1430438400|  6|    t5_2r090|t3_34gcwh|t1_cqug90o|           0|                T10B10|            [Philly]|         cigars|cqug90o|            NA|     0|    0|       0| burnmyiz|    6|  1432703079|You can buy a mys...|           NA|     0|               0| t3_34gcwh|  0.0|\n",
      "| 10| 1430438400|  5|    t5_2sqho|t3_34gmag|t1_cqug90p|           0|                fan vp|      Virtus.pro Fan|GlobalOffensive|cqug90p|            NA|     0|    0|       0|BEE_REAL_|    5|  1432703079|Nihilum and LG ar...|           NA|     0|               0| t3_34gmag|  0.0|\n",
      "| 12| 1430438400|  1|    t5_2qiep|t3_34eznn|t1_cqug90r|           0|             FZeroLogo|3024-7470-9499 NN...|      smashbros|cqug90r|            NA|     0|    0|       0| BiigLord|    1|  1432703079|Don't diss the Gr...|           NA|     0|               0|t1_cqu4f8j|  0.0|\n",
      "| 16| 1430438400|  3|    t5_2qn90|t3_34gj3a|t1_cqug90v|           0|      brisbane-broncos|    Brisbane Broncos|            nrl|cqug90v|            NA|     0|    0|       0| jeauxoxo|    3|  1432703079|http://www.reddit...|           NA|     0|               0|t1_cqufyef|  0.0|\n",
      "+---+-----------+---+------------+---------+----------+------------+----------------------+--------------------+---------------+-------+--------------+------+-----+--------+---------+-----+------------+--------------------+-------------+------+----------------+----------+-----+\n",
      "only showing top 5 rows\n",
      "\n"
     ]
    },
    {
     "data": {
      "text/plain": [
       "2117131"
      ]
     },
     "execution_count": 10,
     "metadata": {},
     "output_type": "execute_result"
    }
   ],
   "source": [
    "df4.show(5)\n",
    "df4.count() #2117131 rows"
   ]
  },
  {
   "cell_type": "code",
   "execution_count": 11,
   "metadata": {},
   "outputs": [
    {
     "name": "stdout",
     "output_type": "stream",
     "text": [
      "+-----+-------+\n",
      "|label|  count|\n",
      "+-----+-------+\n",
      "|  0.0|2002268|\n",
      "|  1.0| 114863|\n",
      "+-----+-------+\n",
      "\n"
     ]
    }
   ],
   "source": [
    "df4.groupBy(\"label\").count().show()"
   ]
  },
  {
   "cell_type": "code",
   "execution_count": 12,
   "metadata": {},
   "outputs": [
    {
     "name": "stdout",
     "output_type": "stream",
     "text": [
      "+----------------------+-----+-----+\n",
      "|author_flair_css_class|label|count|\n",
      "+----------------------+-----+-----+\n",
      "|                texans|  0.0| 2737|\n",
      "|                   nym|  0.0|  556|\n",
      "|                chc-18|  0.0|  478|\n",
      "|              Celtics2|  0.0| 2477|\n",
      "|               cheater|  0.0| 1491|\n",
      "|              Guardian|  0.0|  446|\n",
      "|                 pedro|  0.0|   40|\n",
      "|                    bb|  1.0|    1|\n",
      "|   they are either ...|  1.0|    1|\n",
      "|              IowaOaks|  0.0|    9|\n",
      "|             linkseven|  0.0|    2|\n",
      "|              beyounce|  0.0|   37|\n",
      "|                 limbo|  0.0|  305|\n",
      "|   which kept me dr...|  1.0|    1|\n",
      "|                00FF00|  0.0|  102|\n",
      "|                  Fett|  0.0|   76|\n",
      "|                   149|  0.0|  162|\n",
      "|                MCC-48|  0.0|    6|\n",
      "|   which assigns a ...|  1.0|    1|\n",
      "|                  read|  0.0|   36|\n",
      "+----------------------+-----+-----+\n",
      "only showing top 20 rows\n",
      "\n"
     ]
    }
   ],
   "source": [
    "df4.groupBy(\"author_flair_css_class\", \"label\").count().show()"
   ]
  },
  {
   "cell_type": "code",
   "execution_count": 13,
   "metadata": {},
   "outputs": [
    {
     "name": "stdout",
     "output_type": "stream",
     "text": [
      "+----------------------+-----+\n",
      "|author_flair_css_class|label|\n",
      "+----------------------+-----+\n",
      "|                  Heat|  0.0|\n",
      "|                T10B10|  0.0|\n",
      "|                fan vp|  0.0|\n",
      "|             FZeroLogo|  0.0|\n",
      "|      brisbane-broncos|  0.0|\n",
      "|                 week4|  0.0|\n",
      "|               press-6|  0.0|\n",
      "|                   etc|  1.0|\n",
      "|                Spurs2|  0.0|\n",
      "|                    is|  0.0|\n",
      "|  pansear charmeleo...|  0.0|\n",
      "|              Raptors5|  0.0|\n",
      "|           LeagueFlair|  0.0|\n",
      "|                saints|  0.0|\n",
      "|              steelers|  0.0|\n",
      "|                     0|  1.0|\n",
      "|     qld-maroons-retro|  0.0|\n",
      "|                purple|  0.0|\n",
      "|                  GIRL|  0.0|\n",
      "|           fortyniners|  0.0|\n",
      "+----------------------+-----+\n",
      "only showing top 20 rows\n",
      "\n"
     ]
    }
   ],
   "source": [
    "#select the columns we want to use\n",
    "df5 = df4.select(\"author_flair_css_class\", \"label\")\n",
    "df5.show()"
   ]
  },
  {
   "cell_type": "markdown",
   "metadata": {},
   "source": [
    "### Tokenize flairs"
   ]
  },
  {
   "cell_type": "code",
   "execution_count": 14,
   "metadata": {},
   "outputs": [],
   "source": [
    "from pyspark.ml.feature import  Tokenizer"
   ]
  },
  {
   "cell_type": "code",
   "execution_count": 15,
   "metadata": {},
   "outputs": [],
   "source": [
    "tokenizer = Tokenizer(inputCol=\"author_flair_css_class\", outputCol=\"flairClass\")\n",
    "df6 = tokenizer.transform(df5)"
   ]
  },
  {
   "cell_type": "code",
   "execution_count": 16,
   "metadata": {},
   "outputs": [
    {
     "name": "stdout",
     "output_type": "stream",
     "text": [
      "+----------------------+-----+--------------------+\n",
      "|author_flair_css_class|label|          flairClass|\n",
      "+----------------------+-----+--------------------+\n",
      "|                  Heat|  0.0|              [heat]|\n",
      "|                T10B10|  0.0|            [t10b10]|\n",
      "|                fan vp|  0.0|           [fan, vp]|\n",
      "|             FZeroLogo|  0.0|         [fzerologo]|\n",
      "|      brisbane-broncos|  0.0|  [brisbane-broncos]|\n",
      "|                 week4|  0.0|             [week4]|\n",
      "|               press-6|  0.0|           [press-6]|\n",
      "|                   etc|  1.0|             [, etc]|\n",
      "|                Spurs2|  0.0|            [spurs2]|\n",
      "|                    is|  0.0|                [is]|\n",
      "|  pansear charmeleo...|  0.0|[pansear, charmel...|\n",
      "|              Raptors5|  0.0|          [raptors5]|\n",
      "|           LeagueFlair|  0.0|       [leagueflair]|\n",
      "|                saints|  0.0|            [saints]|\n",
      "|              steelers|  0.0|          [steelers]|\n",
      "|                     0|  1.0|                 [0]|\n",
      "|     qld-maroons-retro|  0.0| [qld-maroons-retro]|\n",
      "|                purple|  0.0|            [purple]|\n",
      "|                  GIRL|  0.0|              [girl]|\n",
      "|           fortyniners|  0.0|       [fortyniners]|\n",
      "+----------------------+-----+--------------------+\n",
      "only showing top 20 rows\n",
      "\n"
     ]
    }
   ],
   "source": [
    "df6.show()"
   ]
  },
  {
   "cell_type": "markdown",
   "metadata": {},
   "source": [
    "### Apply CountVectorizer"
   ]
  },
  {
   "cell_type": "code",
   "execution_count": 17,
   "metadata": {},
   "outputs": [],
   "source": [
    "from pyspark.ml.feature import CountVectorizer"
   ]
  },
  {
   "cell_type": "code",
   "execution_count": 18,
   "metadata": {},
   "outputs": [
    {
     "name": "stdout",
     "output_type": "stream",
     "text": [
      "+----------------------+-----+--------------------+--------------------+\n",
      "|author_flair_css_class|label|          flairClass|         rawFeatures|\n",
      "+----------------------+-----+--------------------+--------------------+\n",
      "|                  Heat|  0.0|              [heat]| (77362,[171],[1.0])|\n",
      "|                T10B10|  0.0|            [t10b10]|(77362,[1695],[1.0])|\n",
      "|                fan vp|  0.0|           [fan, vp]|(77362,[13,361],[...|\n",
      "|             FZeroLogo|  0.0|         [fzerologo]|(77362,[8140],[1.0])|\n",
      "|      brisbane-broncos|  0.0|  [brisbane-broncos]|(77362,[1866],[1.0])|\n",
      "|                 week4|  0.0|             [week4]|(77362,[1366],[1.0])|\n",
      "|               press-6|  0.0|           [press-6]|  (77362,[55],[1.0])|\n",
      "|                   etc|  1.0|             [, etc]|(77362,[1,1275],[...|\n",
      "|                Spurs2|  0.0|            [spurs2]| (77362,[155],[1.0])|\n",
      "|                    is|  0.0|                [is]|  (77362,[51],[1.0])|\n",
      "|  pansear charmeleo...|  0.0|[pansear, charmel...|(77362,[290,2451,...|\n",
      "|              Raptors5|  0.0|          [raptors5]|(77362,[1096],[1.0])|\n",
      "|           LeagueFlair|  0.0|       [leagueflair]| (77362,[123],[1.0])|\n",
      "|                saints|  0.0|            [saints]| (77362,[112],[1.0])|\n",
      "|              steelers|  0.0|          [steelers]|  (77362,[89],[1.0])|\n",
      "|                     0|  1.0|                 [0]|   (77362,[0],[1.0])|\n",
      "|     qld-maroons-retro|  0.0| [qld-maroons-retro]| (77362,[568],[1.0])|\n",
      "|                purple|  0.0|            [purple]|  (77362,[22],[1.0])|\n",
      "|                  GIRL|  0.0|              [girl]| (77362,[172],[1.0])|\n",
      "|           fortyniners|  0.0|       [fortyniners]|  (77362,[60],[1.0])|\n",
      "+----------------------+-----+--------------------+--------------------+\n",
      "only showing top 20 rows\n",
      "\n"
     ]
    }
   ],
   "source": [
    "count = CountVectorizer(inputCol=\"flairClass\", outputCol=\"rawFeatures\")\n",
    "model = count.fit(df6)\n",
    "df7 = model.transform(df6)\n",
    "df7.show()"
   ]
  },
  {
   "cell_type": "code",
   "execution_count": 19,
   "metadata": {},
   "outputs": [],
   "source": [
    "# Apply term frequency–inverse document frequency (TF-IDF)\n",
    "from pyspark.ml.feature import  IDF"
   ]
  },
  {
   "cell_type": "code",
   "execution_count": 20,
   "metadata": {},
   "outputs": [
    {
     "name": "stdout",
     "output_type": "stream",
     "text": [
      "+-----+--------------------+\n",
      "|label|            features|\n",
      "+-----+--------------------+\n",
      "|  0.0|(77362,[171],[6.9...|\n",
      "|  0.0|(77362,[1695],[9....|\n",
      "|  0.0|(77362,[13,361],[...|\n",
      "|  0.0|(77362,[8140],[11...|\n",
      "|  0.0|(77362,[1866],[9....|\n",
      "|  0.0|(77362,[1366],[8....|\n",
      "|  0.0|(77362,[55],[5.98...|\n",
      "|  1.0|(77362,[1,1275],[...|\n",
      "|  0.0|(77362,[155],[6.7...|\n",
      "|  0.0|(77362,[51],[6.09...|\n",
      "|  0.0|(77362,[290,2451,...|\n",
      "|  0.0|(77362,[1096],[8....|\n",
      "|  0.0|(77362,[123],[6.5...|\n",
      "|  0.0|(77362,[112],[6.5...|\n",
      "|  0.0|(77362,[89],[6.35...|\n",
      "|  1.0|(77362,[0],[3.497...|\n",
      "|  0.0|(77362,[568],[8.0...|\n",
      "|  0.0|(77362,[22],[5.25...|\n",
      "|  0.0|(77362,[172],[6.9...|\n",
      "|  0.0|(77362,[60],[6.05...|\n",
      "+-----+--------------------+\n",
      "only showing top 20 rows\n",
      "\n"
     ]
    }
   ],
   "source": [
    "idf = IDF(inputCol=\"rawFeatures\", outputCol=\"features\")\n",
    "idfModel = idf.fit(df7)\n",
    "rescaledData = idfModel.transform(df7)\n",
    "rescaledData.select(\"label\", \"features\").show() "
   ]
  },
  {
   "cell_type": "markdown",
   "metadata": {},
   "source": [
    "### Split training and test sets"
   ]
  },
  {
   "cell_type": "code",
   "execution_count": 21,
   "metadata": {},
   "outputs": [],
   "source": [
    "seed = 0\n",
    "sample, sample2 = rescaledData.randomSplit([0.9,0.1],seed)"
   ]
  },
  {
   "cell_type": "code",
   "execution_count": 22,
   "metadata": {},
   "outputs": [],
   "source": [
    "trainDF, testDF = sample2.randomSplit([0.8,0.2],seed)"
   ]
  },
  {
   "cell_type": "code",
   "execution_count": 23,
   "metadata": {},
   "outputs": [
    {
     "data": {
      "text/plain": [
       "169100"
      ]
     },
     "execution_count": 23,
     "metadata": {},
     "output_type": "execute_result"
    }
   ],
   "source": [
    "trainDF.count()"
   ]
  },
  {
   "cell_type": "code",
   "execution_count": 24,
   "metadata": {},
   "outputs": [
    {
     "data": {
      "text/plain": [
       "42485"
      ]
     },
     "execution_count": 24,
     "metadata": {},
     "output_type": "execute_result"
    }
   ],
   "source": [
    "testDF.count()"
   ]
  },
  {
   "cell_type": "markdown",
   "metadata": {},
   "source": [
    "### Logistic Regression"
   ]
  },
  {
   "cell_type": "code",
   "execution_count": 51,
   "metadata": {},
   "outputs": [],
   "source": [
    "from pyspark.ml.classification import LogisticRegression\n",
    "from pyspark.ml.evaluation import BinaryClassificationEvaluator\n",
    "from pyspark.ml.tuning import CrossValidator, ParamGridBuilder\n",
    "\n",
    "import numpy as np\n",
    "maxIter=10\n",
    "regParam=0.3\n",
    "elasticNetParam=0.8\n",
    "\n",
    "lr = LogisticRegression(featuresCol='features',        \n",
    "                      labelCol='label',  \n",
    "                      maxIter=maxIter,\n",
    "                      regParam=regParam, \n",
    "                      elasticNetParam=elasticNetParam)"
   ]
  },
  {
   "cell_type": "code",
   "execution_count": 52,
   "metadata": {},
   "outputs": [],
   "source": [
    "lrModel = lr.fit(trainDF)"
   ]
  },
  {
   "cell_type": "code",
   "execution_count": 54,
   "metadata": {},
   "outputs": [],
   "source": [
    "predictions = lrModel.transform(testDF)"
   ]
  },
  {
   "cell_type": "code",
   "execution_count": 55,
   "metadata": {},
   "outputs": [],
   "source": [
    "evaluator = BinaryClassificationEvaluator()"
   ]
  },
  {
   "cell_type": "code",
   "execution_count": 56,
   "metadata": {},
   "outputs": [
    {
     "name": "stdout",
     "output_type": "stream",
     "text": [
      "Test Area Under ROC 0.5\n"
     ]
    }
   ],
   "source": [
    "print(\"Test Area Under ROC\", evaluator.evaluate(predictions))"
   ]
  },
  {
   "cell_type": "code",
   "execution_count": 57,
   "metadata": {},
   "outputs": [
    {
     "name": "stdout",
     "output_type": "stream",
     "text": [
      "Accuracy :  0.9451806519948217\n"
     ]
    }
   ],
   "source": [
    "accuracy = predictions.filter(predictions.label == predictions.prediction).count() / float(predictions.count())\n",
    "print(\"Accuracy : \",accuracy)"
   ]
  },
  {
   "cell_type": "code",
   "execution_count": null,
   "metadata": {},
   "outputs": [],
   "source": []
  }
 ],
 "metadata": {
  "anaconda-cloud": {},
  "kernelspec": {
   "display_name": "DS 5110",
   "language": "python",
   "name": "ds5110"
  },
  "language_info": {
   "codemirror_mode": {
    "name": "ipython",
    "version": 3
   },
   "file_extension": ".py",
   "mimetype": "text/x-python",
   "name": "python",
   "nbconvert_exporter": "python",
   "pygments_lexer": "ipython3",
   "version": "3.7.10"
  },
  "varInspector": {
   "cols": {
    "lenName": 16,
    "lenType": 16,
    "lenVar": 40
   },
   "kernels_config": {
    "python": {
     "delete_cmd_postfix": "",
     "delete_cmd_prefix": "del ",
     "library": "var_list.py",
     "varRefreshCmd": "print(var_dic_list())"
    },
    "r": {
     "delete_cmd_postfix": ") ",
     "delete_cmd_prefix": "rm(",
     "library": "var_list.r",
     "varRefreshCmd": "cat(var_dic_list()) "
    }
   },
   "types_to_exclude": [
    "module",
    "function",
    "builtin_function_or_method",
    "instance",
    "_Feature"
   ],
   "window_display": false
  }
 },
 "nbformat": 4,
 "nbformat_minor": 4
}
