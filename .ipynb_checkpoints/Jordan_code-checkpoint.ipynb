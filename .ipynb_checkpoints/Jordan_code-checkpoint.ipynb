{
 "cells": [
  {
   "cell_type": "markdown",
   "metadata": {},
   "source": [
    "## Set Up"
   ]
  },
  {
   "cell_type": "code",
   "execution_count": 2,
   "metadata": {},
   "outputs": [],
   "source": [
    "import pandas as pd\n",
    "\n",
    "from pyspark.ml import Pipeline\n",
    "from pyspark.ml.classification import LogisticRegression\n",
    "from pyspark.ml.feature import *\n",
    "\n",
    "from pyspark.sql import SparkSession\n",
    "from pyspark.sql.functions import col, countDistinct, udf\n",
    "from pyspark.sql.types import ArrayType, IntegerType,  StringType\n",
    "\n",
    "spark = SparkSession.builder.getOrCreate()"
   ]
  },
  {
   "cell_type": "markdown",
   "metadata": {},
   "source": [
    "## Pull in Data"
   ]
  },
  {
   "cell_type": "code",
   "execution_count": 3,
   "metadata": {},
   "outputs": [],
   "source": [
    "full_path = '/project/ds5559/r-slash-group8/sample.csv'\n",
    "\n",
    "df = spark.read.csv(full_path,  inferSchema=True, header = True)"
   ]
  },
  {
   "cell_type": "code",
   "execution_count": 4,
   "metadata": {},
   "outputs": [
    {
     "name": "stdout",
     "output_type": "stream",
     "text": [
      "root\n",
      " |-- _c0: string (nullable = true)\n",
      " |-- created_utc: string (nullable = true)\n",
      " |-- ups: integer (nullable = true)\n",
      " |-- subreddit_id: string (nullable = true)\n",
      " |-- link_id: string (nullable = true)\n",
      " |-- name: string (nullable = true)\n",
      " |-- score_hidden: string (nullable = true)\n",
      " |-- author_flair_css_class: string (nullable = true)\n",
      " |-- author_flair_text: string (nullable = true)\n",
      " |-- subreddit: string (nullable = true)\n",
      " |-- id: string (nullable = true)\n",
      " |-- removal_reason: string (nullable = true)\n",
      " |-- gilded: integer (nullable = true)\n",
      " |-- downs: integer (nullable = true)\n",
      " |-- archived: string (nullable = true)\n",
      " |-- author: string (nullable = true)\n",
      " |-- score: string (nullable = true)\n",
      " |-- retrieved_on: string (nullable = true)\n",
      " |-- body: string (nullable = true)\n",
      " |-- distinguished: string (nullable = true)\n",
      " |-- edited: string (nullable = true)\n",
      " |-- controversiality: string (nullable = true)\n",
      " |-- parent_id: string (nullable = true)\n",
      "\n",
      "+--------------------------------+-----------+----+------------+---------+----------+------------+----------------------+-----------------+---------+-------+--------------+------+-----+--------+------------+-----+------------+--------------------+-------------+------+----------------+----------+\n",
      "|                             _c0|created_utc| ups|subreddit_id|  link_id|      name|score_hidden|author_flair_css_class|author_flair_text|subreddit|     id|removal_reason|gilded|downs|archived|      author|score|retrieved_on|                body|distinguished|edited|controversiality| parent_id|\n",
      "+--------------------------------+-----------+----+------------+---------+----------+------------+----------------------+-----------------+---------+-------+--------------+------+-----+--------+------------+-----+------------+--------------------+-------------+------+----------------+----------+\n",
      "|                               1| 1430438400|   4|    t5_378oi|t3_34di91|t1_cqug90g|           0|                    NA|               NA|soccer_jp|cqug90g|            NA|     0|    0|       0|       rx109|    4|  1432703079|                くそ|         null|  null|            null|      null|\n",
      "|読みたいが買ったら負けな気がする|       null|null|        null|     null|      null|        null|                  null|             null|     null|   null|          null|  null| null|    null|        null| null|        null|                null|         null|  null|            null|      null|\n",
      "|             図書館に出ねーかな\"|         NA|   0|           0|t3_34di91|      null|        null|                  null|             null|     null|   null|          null|  null| null|    null|        null| null|        null|                null|         null|  null|            null|      null|\n",
      "|                               2| 1430438400|   4|    t5_2qo4s|t3_34g8mx|t1_cqug90h|           0|                  Heat|             Heat|      nba|cqug90h|            NA|     0|    0|       0|   WyaOfWade|    4|  1432703079|gg this one's ove...|           NA|     0|               0| t3_34g8mx|\n",
      "|                               3| 1430438400|   0|    t5_2cneq|t3_34f7mc|t1_cqug90i|           0|                    NA|               NA| politics|cqug90i|            NA|     0|    0|       0|Wicked_Truth|    0|  1432703079|Are you really im...|           NA|     0|               0|t1_cqufim0|\n",
      "+--------------------------------+-----------+----+------------+---------+----------+------------+----------------------+-----------------+---------+-------+--------------+------+-----+--------+------------+-----+------------+--------------------+-------------+------+----------------+----------+\n",
      "only showing top 5 rows\n",
      "\n"
     ]
    }
   ],
   "source": [
    "# convert integer cols (ups, downs, and gilded) to integers\n",
    "# Note: we could have done this by defining a schema before the csv read\n",
    "df=df.withColumn(\"ups\",df.ups.cast(IntegerType()))\n",
    "df=df.withColumn(\"downs\",df.downs.cast(IntegerType()))\n",
    "df=df.withColumn(\"gilded\",df.gilded.cast(IntegerType()))\n",
    "\n",
    "# Confirm new schema\n",
    "df.printSchema()\n",
    "df.show(5)"
   ]
  },
  {
   "cell_type": "code",
   "execution_count": 5,
   "metadata": {},
   "outputs": [
    {
     "data": {
      "text/plain": [
       "15317725"
      ]
     },
     "execution_count": 5,
     "metadata": {},
     "output_type": "execute_result"
    }
   ],
   "source": [
    "df.count()"
   ]
  },
  {
   "cell_type": "code",
   "execution_count": 6,
   "metadata": {},
   "outputs": [
    {
     "name": "stdout",
     "output_type": "stream",
     "text": [
      "5315303\n",
      "2969558\n"
     ]
    },
    {
     "data": {
      "text/plain": [
       "10002410"
      ]
     },
     "execution_count": 6,
     "metadata": {},
     "output_type": "execute_result"
    }
   ],
   "source": [
    "# Remove null in important columns\n",
    "print(df.filter(df['body'].isNull()).count())\n",
    "print(df.filter(df['subreddit_id'].isNull()).count())\n",
    "\n",
    "df=df.filter(df['body'].isNotNull())\n",
    "df=df.filter(df['subreddit_id'].isNotNull())\n",
    "\n",
    "df.count()"
   ]
  },
  {
   "cell_type": "code",
   "execution_count": 7,
   "metadata": {},
   "outputs": [
    {
     "name": "stdout",
     "output_type": "stream",
     "text": [
      "5491\n"
     ]
    },
    {
     "data": {
      "text/plain": [
       "9950519"
      ]
     },
     "execution_count": 7,
     "metadata": {},
     "output_type": "execute_result"
    }
   ],
   "source": [
    "# some rows have the body in the subreddit column, I'll remove these\n",
    "print(df.filter(df['subreddit'].rlike('\\s')).count())\n",
    "\n",
    "df = df.filter(df['subreddit'].rlike('^[A-Za-z1-9_]+$'))\n",
    "df.count() #filter out spaces and special characters except for underscores"
   ]
  },
  {
   "cell_type": "code",
   "execution_count": 8,
   "metadata": {},
   "outputs": [
    {
     "data": {
      "text/plain": [
       "26882"
      ]
     },
     "execution_count": 8,
     "metadata": {},
     "output_type": "execute_result"
    }
   ],
   "source": [
    "# how many subredits are there?\n",
    "df.select('subreddit_id').distinct().count()"
   ]
  },
  {
   "cell_type": "code",
   "execution_count": 9,
   "metadata": {},
   "outputs": [
    {
     "name": "stdout",
     "output_type": "stream",
     "text": [
      "+------------+-------------------+\n",
      "|subreddit_id|count(subreddit_id)|\n",
      "+------------+-------------------+\n",
      "|    t5_2qh1i|             756074|\n",
      "|    t5_2rfxx|             194454|\n",
      "|    t5_2qh0u|             142840|\n",
      "|    t5_2qmg3|             138655|\n",
      "|    t5_2qh33|             137526|\n",
      "+------------+-------------------+\n",
      "only showing top 5 rows\n",
      "\n"
     ]
    }
   ],
   "source": [
    "# get highest volume subreddits\n",
    "top_sr = df.groupby('subreddit_id').agg({'subreddit_id':'count'}).sort(col('count(subreddit_id)').desc())\n",
    "top_sr.show(5)"
   ]
  },
  {
   "cell_type": "code",
   "execution_count": 10,
   "metadata": {},
   "outputs": [
    {
     "data": {
      "text/plain": [
       "[Row(subreddit_id='t5_2s4mv', count(subreddit_id)=1303)]"
      ]
     },
     "execution_count": 10,
     "metadata": {},
     "output_type": "execute_result"
    }
   ],
   "source": [
    "# 1000 seems like a good cut off point.  Subreddits have 1000+ comments\n",
    "top_sr.limit(1000).tail(1)"
   ]
  },
  {
   "cell_type": "code",
   "execution_count": 44,
   "metadata": {},
   "outputs": [
    {
     "data": {
      "text/plain": [
       "DataFrame[subreddit_id: string, count(subreddit_id): bigint, subreddit: string]"
      ]
     },
     "execution_count": 44,
     "metadata": {},
     "output_type": "execute_result"
    }
   ],
   "source": [
    "# add names based on frist appearance\n",
    "# top_sr = top_sr.withColumn('subreddit',df.filter(df['subreddit_id']==top_sr['subreddit_id']))\n",
    "top_sr = top_sr.join(df.select('subreddit','subreddit_id').dropDuplicates(['subreddit']),on='subreddit_id', how='inner').sort(col('count(subreddit_id)').desc())\n",
    "top_sr\n",
    "\n",
    "\n",
    "# NOTE: It looks like some of the data still has issues because I still have duplicates probably meaning there are some rows that have comment text in the subreddit column.  \n",
    "#They weren't eliminated because the comments happen to follow subreddit naming conventions.  More work would be helpful here.\n",
    "# My goal is to elminate unpopular subreddits so we have fewer categories to work with.  Not sure how important working with names really is."
   ]
  },
  {
   "cell_type": "code",
   "execution_count": 47,
   "metadata": {},
   "outputs": [
    {
     "name": "stdout",
     "output_type": "stream",
     "text": [
      "+------------+-------------------+---------------+\n",
      "|subreddit_id|count(subreddit_id)|      subreddit|\n",
      "+------------+-------------------+---------------+\n",
      "|    t5_2qh1i|             756074|      AskReddit|\n",
      "|    t5_2rfxx|             194454|leagueoflegends|\n",
      "|    t5_2qh0u|             142840|           pics|\n",
      "|    t5_2qmg3|             138655|            nfl|\n",
      "|    t5_2qh33|             137526|          funny|\n",
      "+------------+-------------------+---------------+\n",
      "only showing top 5 rows\n",
      "\n"
     ]
    }
   ],
   "source": [
    "# top 1000 subreddits\n",
    "top_sr2 = top_sr.limit(1000)\n",
    "top_sr2.show(5)"
   ]
  },
  {
   "cell_type": "code",
   "execution_count": 48,
   "metadata": {},
   "outputs": [],
   "source": [
    "# eliminate data from lower level records\n",
    "\n",
    "df_topSr = df.join(top_sr2, df.subreddit_id == top_sr2.subreddit_id)"
   ]
  },
  {
   "cell_type": "code",
   "execution_count": 49,
   "metadata": {},
   "outputs": [
    {
     "data": {
      "text/plain": [
       "8799960"
      ]
     },
     "execution_count": 49,
     "metadata": {},
     "output_type": "execute_result"
    }
   ],
   "source": [
    "df_topSr.count()"
   ]
  },
  {
   "cell_type": "code",
   "execution_count": 50,
   "metadata": {},
   "outputs": [
    {
     "name": "stdout",
     "output_type": "stream",
     "text": [
      "+---+-----------+---+------------+---------+----------+------------+----------------------+-----------------+---------------+-------+--------------+------+-----+--------+---------------+-----+------------+--------------------+-------------+------+----------------+----------+------------+-------------------+---------------+\n",
      "|_c0|created_utc|ups|subreddit_id|  link_id|      name|score_hidden|author_flair_css_class|author_flair_text|      subreddit|     id|removal_reason|gilded|downs|archived|         author|score|retrieved_on|                body|distinguished|edited|controversiality| parent_id|subreddit_id|count(subreddit_id)|      subreddit|\n",
      "+---+-----------+---+------------+---------+----------+------------+----------------------+-----------------+---------------+-------+--------------+------+-----+--------+---------------+-----+------------+--------------------+-------------+------+----------------+----------+------------+-------------------+---------------+\n",
      "|  2| 1430438400|  4|    t5_2qo4s|t3_34g8mx|t1_cqug90h|           0|                  Heat|             Heat|            nba|cqug90h|            NA|     0|    0|       0|      WyaOfWade|    4|  1432703079|gg this one's ove...|           NA|     0|               0| t3_34g8mx|    t5_2qo4s|             136164|            nba|\n",
      "|  3| 1430438400|  0|    t5_2cneq|t3_34f7mc|t1_cqug90i|           0|                    NA|               NA|       politics|cqug90i|            NA|     0|    0|       0|   Wicked_Truth|    0|  1432703079|Are you really im...|           NA|     0|               0|t1_cqufim0|    t5_2cneq|              48103|       politics|\n",
      "|  4| 1430438400|  3|    t5_2qh1i|t3_34f9rh|t1_cqug90j|           0|                    NA|               NA|      AskReddit|cqug90j|            NA|     0|    0|       0|       jesse9o3|    3|  1432703079|No one has a Euro...|           NA|     0|               0|t1_cqug2sr|    t5_2qh1i|             756074|      AskReddit|\n",
      "|  5| 1430438400|  3|    t5_2qh1i|t3_34fvry|t1_cqug90k|           0|                    NA|               NA|      AskReddit|cqug90k|            NA|     0|    0|       0| beltfedshooter|    3|  1432703079|\"That the kid \"\"....|           NA|     0|               0| t3_34fvry|    t5_2qh1i|             756074|      AskReddit|\n",
      "|  6| 1430438400|  1|    t5_31k9i|t3_34gitq|t1_cqug90l|           0|                    NA|               NA|     bloodborne|cqug90l|            NA|     0|    0|       0|     Rubenticus|    1|  1432703079|Haha, i was getti...|           NA|     0|               0|t1_cqug10q|    t5_31k9i|              19025|     bloodborne|\n",
      "|  7| 1430438400|  6|    t5_2qjvn|t3_34fpen|t1_cqug90m|           0|                    NA|               NA|  relationships|cqug90m|            NA|     0|    0|       0|silverraven1189|    6|  1432703079|After reading thi...|         null|  null|            null|      null|    t5_2qjvn|              44305|  relationships|\n",
      "|  8| 1430438400|  2|    t5_2s5fm|t3_34e7uq|t1_cqug90n|           0|                Titan3|               NA|Tennesseetitans|cqug90n|            NA|     0|    0|       0|     Scrubtanic|    2|  1432703079|Let's do this. Se...|    moderator|     0|               0| t3_34e7uq|    t5_2s5fm|               3439|Tennesseetitans|\n",
      "|  9| 1430438400|  6|    t5_2r090|t3_34gcwh|t1_cqug90o|           0|                T10B10|         [Philly]|         cigars|cqug90o|            NA|     0|    0|       0|       burnmyiz|    6|  1432703079|You can buy a mys...|           NA|     0|               0| t3_34gcwh|    t5_2r090|               5561|         cigars|\n",
      "| 10| 1430438400|  5|    t5_2sqho|t3_34gmag|t1_cqug90p|           0|                fan vp|   Virtus.pro Fan|GlobalOffensive|cqug90p|            NA|     0|    0|       0|      BEE_REAL_|    5|  1432703079|Nihilum and LG ar...|           NA|     0|               0| t3_34gmag|    t5_2sqho|              67132|GlobalOffensive|\n",
      "| 11| 1430438400|  4|    t5_2qi5w|t3_34gmq6|t1_cqug90q|           0|            modernbird|             null|         eagles|cqug90q|            NA|     0|    0|       0|           SNVG|    4|  1432703079|      Fuck that what|           NA|     0|               0| t3_34gmq6|    t5_2qi5w|               9369|         eagles|\n",
      "+---+-----------+---+------------+---------+----------+------------+----------------------+-----------------+---------------+-------+--------------+------+-----+--------+---------------+-----+------------+--------------------+-------------+------+----------------+----------+------------+-------------------+---------------+\n",
      "only showing top 10 rows\n",
      "\n"
     ]
    }
   ],
   "source": [
    "df_topSr.show(10)"
   ]
  },
  {
   "cell_type": "code",
   "execution_count": null,
   "metadata": {},
   "outputs": [],
   "source": []
  }
 ],
 "metadata": {
  "kernelspec": {
   "display_name": "DS 5110",
   "language": "python",
   "name": "ds5110"
  },
  "language_info": {
   "codemirror_mode": {
    "name": "ipython",
    "version": 3
   },
   "file_extension": ".py",
   "mimetype": "text/x-python",
   "name": "python",
   "nbconvert_exporter": "python",
   "pygments_lexer": "ipython3",
   "version": "3.7.10"
  }
 },
 "nbformat": 4,
 "nbformat_minor": 4
}
