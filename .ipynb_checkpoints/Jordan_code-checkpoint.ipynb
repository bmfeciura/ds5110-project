{
 "cells": [
  {
   "cell_type": "markdown",
   "metadata": {},
   "source": [
    "## Set Up"
   ]
  },
  {
   "cell_type": "code",
   "execution_count": 36,
   "metadata": {},
   "outputs": [],
   "source": [
    "import pandas as pd\n",
    "\n",
    "from pyspark.ml import Pipeline\n",
    "from pyspark.ml.classification import LogisticRegression\n",
    "from pyspark.ml.feature import *\n",
    "\n",
    "from pyspark.sql import SparkSession\n",
    "from pyspark.sql.functions import col, countDistinct, udf\n",
    "from pyspark.sql.types import ArrayType, IntegerType,  StringType\n",
    "\n",
    "spark = SparkSession.builder.getOrCreate()"
   ]
  },
  {
   "cell_type": "markdown",
   "metadata": {},
   "source": [
    "## Pull in Data"
   ]
  },
  {
   "cell_type": "code",
   "execution_count": 37,
   "metadata": {},
   "outputs": [],
   "source": [
    "full_path = '/project/ds5559/r-slash-group8/sample.csv'\n",
    "\n",
    "df = spark.read.csv(full_path,  inferSchema=True, header = True)"
   ]
  },
  {
   "cell_type": "code",
   "execution_count": 38,
   "metadata": {},
   "outputs": [
    {
     "name": "stdout",
     "output_type": "stream",
     "text": [
      "root\n",
      " |-- _c0: string (nullable = true)\n",
      " |-- created_utc: string (nullable = true)\n",
      " |-- ups: integer (nullable = true)\n",
      " |-- subreddit_id: string (nullable = true)\n",
      " |-- link_id: string (nullable = true)\n",
      " |-- name: string (nullable = true)\n",
      " |-- score_hidden: string (nullable = true)\n",
      " |-- author_flair_css_class: string (nullable = true)\n",
      " |-- author_flair_text: string (nullable = true)\n",
      " |-- subreddit: string (nullable = true)\n",
      " |-- id: string (nullable = true)\n",
      " |-- removal_reason: string (nullable = true)\n",
      " |-- gilded: integer (nullable = true)\n",
      " |-- downs: integer (nullable = true)\n",
      " |-- archived: string (nullable = true)\n",
      " |-- author: string (nullable = true)\n",
      " |-- score: string (nullable = true)\n",
      " |-- retrieved_on: string (nullable = true)\n",
      " |-- body: string (nullable = true)\n",
      " |-- distinguished: string (nullable = true)\n",
      " |-- edited: string (nullable = true)\n",
      " |-- controversiality: string (nullable = true)\n",
      " |-- parent_id: string (nullable = true)\n",
      "\n",
      "+--------------------------------+-----------+----+------------+---------+----------+------------+----------------------+-----------------+---------+-------+--------------+------+-----+--------+------------+-----+------------+--------------------+-------------+------+----------------+----------+\n",
      "|                             _c0|created_utc| ups|subreddit_id|  link_id|      name|score_hidden|author_flair_css_class|author_flair_text|subreddit|     id|removal_reason|gilded|downs|archived|      author|score|retrieved_on|                body|distinguished|edited|controversiality| parent_id|\n",
      "+--------------------------------+-----------+----+------------+---------+----------+------------+----------------------+-----------------+---------+-------+--------------+------+-----+--------+------------+-----+------------+--------------------+-------------+------+----------------+----------+\n",
      "|                               1| 1430438400|   4|    t5_378oi|t3_34di91|t1_cqug90g|           0|                    NA|               NA|soccer_jp|cqug90g|            NA|     0|    0|       0|       rx109|    4|  1432703079|                くそ|         null|  null|            null|      null|\n",
      "|読みたいが買ったら負けな気がする|       null|null|        null|     null|      null|        null|                  null|             null|     null|   null|          null|  null| null|    null|        null| null|        null|                null|         null|  null|            null|      null|\n",
      "|             図書館に出ねーかな\"|         NA|   0|           0|t3_34di91|      null|        null|                  null|             null|     null|   null|          null|  null| null|    null|        null| null|        null|                null|         null|  null|            null|      null|\n",
      "|                               2| 1430438400|   4|    t5_2qo4s|t3_34g8mx|t1_cqug90h|           0|                  Heat|             Heat|      nba|cqug90h|            NA|     0|    0|       0|   WyaOfWade|    4|  1432703079|gg this one's ove...|           NA|     0|               0| t3_34g8mx|\n",
      "|                               3| 1430438400|   0|    t5_2cneq|t3_34f7mc|t1_cqug90i|           0|                    NA|               NA| politics|cqug90i|            NA|     0|    0|       0|Wicked_Truth|    0|  1432703079|Are you really im...|           NA|     0|               0|t1_cqufim0|\n",
      "+--------------------------------+-----------+----+------------+---------+----------+------------+----------------------+-----------------+---------+-------+--------------+------+-----+--------+------------+-----+------------+--------------------+-------------+------+----------------+----------+\n",
      "only showing top 5 rows\n",
      "\n"
     ]
    }
   ],
   "source": [
    "# convert integer cols (ups, downs, and gilded) to integers\n",
    "# Note: we could have done this by defining a schema before the csv read\n",
    "df=df.withColumn(\"ups\",df.ups.cast(IntegerType()))\n",
    "df=df.withColumn(\"downs\",df.downs.cast(IntegerType()))\n",
    "df=df.withColumn(\"gilded\",df.gilded.cast(IntegerType()))\n",
    "\n",
    "# Confirm new schema\n",
    "df.printSchema()\n",
    "df.show(5)"
   ]
  },
  {
   "cell_type": "code",
   "execution_count": 39,
   "metadata": {},
   "outputs": [
    {
     "data": {
      "text/plain": [
       "15317725"
      ]
     },
     "execution_count": 39,
     "metadata": {},
     "output_type": "execute_result"
    }
   ],
   "source": [
    "df.count()"
   ]
  },
  {
   "cell_type": "code",
   "execution_count": 40,
   "metadata": {},
   "outputs": [
    {
     "name": "stdout",
     "output_type": "stream",
     "text": [
      "5315303\n",
      "2969558\n"
     ]
    },
    {
     "data": {
      "text/plain": [
       "10002410"
      ]
     },
     "execution_count": 40,
     "metadata": {},
     "output_type": "execute_result"
    }
   ],
   "source": [
    "# Remove null in important columns\n",
    "print(df.filter(df['body'].isNull()).count())\n",
    "print(df.filter(df['subreddit_id'].isNull()).count())\n",
    "\n",
    "df=df.filter(df['body'].isNotNull())\n",
    "df=df.filter(df['subreddit_id'].isNotNull())\n",
    "\n",
    "df.count()"
   ]
  },
  {
   "cell_type": "code",
   "execution_count": 59,
   "metadata": {},
   "outputs": [
    {
     "name": "stdout",
     "output_type": "stream",
     "text": [
      "5491\n"
     ]
    },
    {
     "data": {
      "text/plain": [
       "9950519"
      ]
     },
     "execution_count": 59,
     "metadata": {},
     "output_type": "execute_result"
    }
   ],
   "source": [
    "# some rows have the body in the subreddit column, I'll remove these\n",
    "print(df.filter(df['subreddit'].rlike('\\s')).count())\n",
    "\n",
    "df = df.filter(df['subreddit'].rlike('^[A-Za-z1-9_]+$'))\n",
    "df.count() #filter out spaces and special characters except for underscores"
   ]
  },
  {
   "cell_type": "code",
   "execution_count": 60,
   "metadata": {},
   "outputs": [
    {
     "data": {
      "text/plain": [
       "26882"
      ]
     },
     "execution_count": 60,
     "metadata": {},
     "output_type": "execute_result"
    }
   ],
   "source": [
    "# how many subredits are there?\n",
    "df.select('subreddit_id').distinct().count()"
   ]
  },
  {
   "cell_type": "code",
   "execution_count": 61,
   "metadata": {},
   "outputs": [
    {
     "name": "stdout",
     "output_type": "stream",
     "text": [
      "+------------+-------------------+\n",
      "|subreddit_id|count(subreddit_id)|\n",
      "+------------+-------------------+\n",
      "|    t5_2skgl|                463|\n",
      "|    t5_326m9|               3527|\n",
      "|    t5_32ob1|               1138|\n",
      "|    t5_2scx7|                 47|\n",
      "|    t5_380yz|                 11|\n",
      "+------------+-------------------+\n",
      "only showing top 5 rows\n",
      "\n"
     ]
    }
   ],
   "source": [
    "# get highest volume subreddits\n",
    "top_sr = df.groupby('subreddit_id').agg({'subreddit_id':'count'})\n",
    "top_sr.show(5)"
   ]
  },
  {
   "cell_type": "code",
   "execution_count": 62,
   "metadata": {},
   "outputs": [
    {
     "name": "stdout",
     "output_type": "stream",
     "text": [
      "+------------+-------------------+--------------------+\n",
      "|subreddit_id|count(subreddit_id)|           subreddit|\n",
      "+------------+-------------------+--------------------+\n",
      "|    t5_2qh1i|             756074|           AskReddit|\n",
      "|    t5_2rfxx|             194454|     leagueoflegends|\n",
      "|    t5_2qh0u|             142840|                pics|\n",
      "|    t5_2qmg3|             138655|                 nfl|\n",
      "|    t5_2qh33|             137526|               funny|\n",
      "|    t5_2qo4s|             136164|                 nba|\n",
      "|    t5_2qh3l|             118304|                news|\n",
      "|    t5_2qh1e|             101389|              videos|\n",
      "|    t5_2qqjc|             100897|       todayilearned|\n",
      "|    t5_2s580|              97940|               DotA2|\n",
      "|    t5_2sgp1|              87835|             cquyjeo|\n",
      "|    t5_2sgp1|              87835|             cquymdf|\n",
      "|    t5_2sgp1|              87835|        pcmasterrace|\n",
      "|    t5_2qiel|              86515|              hockey|\n",
      "|    t5_2s7tt|              86010|       AdviceAnimals|\n",
      "|    t5_2qh13|              81084|           worldnews|\n",
      "|    t5_2qi58|              81077|              soccer|\n",
      "|    t5_2qh3s|              78871|              movies|\n",
      "|    t5_2qh61|              74012|                 WTF|\n",
      "|    t5_2sqho|              67132|     GlobalOffensive|\n",
      "|    t5_2qh03|              65191|              gaming|\n",
      "|    t5_2sljg|              61843|       SquaredCircle|\n",
      "|    t5_2vq0w|              61800|      DestinyTheGame|\n",
      "|    t5_2x9xz|              56450|       fatpeoplehate|\n",
      "|    t5_2cneq|              48103|            politics|\n",
      "|    t5_323oy|              46625|  CasualConversation|\n",
      "|    t5_2qt55|              45168|                gifs|\n",
      "|    t5_2qjvn|              44305|       relationships|\n",
      "|    t5_2qj0l|              41418|              Boxing|\n",
      "|    t5_2sokd|              41149|   explainlikeimfive|\n",
      "|    t5_2qh22|              39229|               anime|\n",
      "|    t5_2vizz|              36065|      TumblrInAction|\n",
      "|    t5_2qmlu|              35151|electronic_cigarette|\n",
      "|    t5_2w31t|              34927|         hearthstone|\n",
      "|    t5_2r2o9|              34768|              asoiaf|\n",
      "|    t5_2y6r4|              34491|GlobalOffensiveTrade|\n",
      "|    t5_2r9vp|              33302|               trees|\n",
      "|    t5_36buk|              32732|           thebutton|\n",
      "|    t5_2szyo|              32538|      Showerthoughts|\n",
      "|    t5_36v9d|              31374|            newsokur|\n",
      "|    t5_2qhx4|              30467|             Fitness|\n",
      "|    t5_2rjz2|              29433|       gameofthrones|\n",
      "|    t5_2qh1o|              29411|                 aww|\n",
      "|    t5_324pu|              29291|              amiibo|\n",
      "|    t5_2qzb6|              28877|                IAmA|\n",
      "|    t5_2qq5c|              27801|            gonewild|\n",
      "|    t5_2qhwp|              27561|               Games|\n",
      "|    t5_2qiep|              27335|           smashbros|\n",
      "|    t5_2to41|              26963|                tifu|\n",
      "|    t5_2qh2p|              26868|             atheism|\n",
      "+------------+-------------------+--------------------+\n",
      "only showing top 50 rows\n",
      "\n"
     ]
    }
   ],
   "source": [
    "# add names based on frist appearance\n",
    "# top_sr = top_sr.withColumn('subreddit',df.filter(df['subreddit_id']==top_sr['subreddit_id']))\n",
    "top_sr.join(df.select('subreddit','subreddit_id').dropDuplicates(['subreddit']),on='subreddit_id', how='inner').sort(col('count(subreddit_id)').desc()).show(50)\n",
    "# top_sr.show(50)\n",
    "\n",
    "\n",
    "# NOTE: It looks like some of the data still has issues because I still have duplicates probably meaning there are some rows that have comment text in the subreddit column.  \n",
    "#They weren't eliminated because the comments happen to follow subreddit naming conventions.  More work would be helpful here.\n",
    "# My goal is to elminate unpopular subreddits so we have fewer categories to work with.  Not sure how important working with names really is."
   ]
  },
  {
   "cell_type": "code",
   "execution_count": null,
   "metadata": {},
   "outputs": [],
   "source": []
  },
  {
   "cell_type": "code",
   "execution_count": null,
   "metadata": {},
   "outputs": [],
   "source": []
  },
  {
   "cell_type": "code",
   "execution_count": null,
   "metadata": {},
   "outputs": [],
   "source": []
  }
 ],
 "metadata": {
  "kernelspec": {
   "display_name": "DS 5110",
   "language": "python",
   "name": "ds5110"
  },
  "language_info": {
   "codemirror_mode": {
    "name": "ipython",
    "version": 3
   },
   "file_extension": ".py",
   "mimetype": "text/x-python",
   "name": "python",
   "nbconvert_exporter": "python",
   "pygments_lexer": "ipython3",
   "version": "3.7.10"
  }
 },
 "nbformat": 4,
 "nbformat_minor": 4
}
