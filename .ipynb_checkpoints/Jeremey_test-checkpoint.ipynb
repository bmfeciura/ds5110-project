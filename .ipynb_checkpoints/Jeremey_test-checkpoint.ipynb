{
 "cells": [
  {
   "cell_type": "markdown",
   "metadata": {},
   "source": [
    "# Info\n",
    "Original data: https://www.kaggle.com/reddit/reddit-comments-may-2015\n",
    "\n",
    "We took first 10M of 54M Rows"
   ]
  },
  {
   "cell_type": "code",
   "execution_count": 1,
   "metadata": {},
   "outputs": [],
   "source": [
    "import pandas as pd\n",
    "\n",
    "from pyspark.sql import SparkSession\n",
    "spark = SparkSession.builder.getOrCreate()\n",
    "\n",
    "full_path = '/project/ds5559/r-slash-group8/sample.csv'\n",
    "\n",
    "df = spark.read.csv(full_path,  inferSchema=True, header = True)"
   ]
  },
  {
   "cell_type": "code",
   "execution_count": 2,
   "metadata": {},
   "outputs": [
    {
     "name": "stdout",
     "output_type": "stream",
     "text": [
      "+--------------------------------+-----------+----+------------+---------+----------+------------+----------------------+-----------------+---------+-------+--------------+------+-----+--------+------------+-----+------------+--------------------+-------------+------+----------------+----------+\n",
      "|                             _c0|created_utc| ups|subreddit_id|  link_id|      name|score_hidden|author_flair_css_class|author_flair_text|subreddit|     id|removal_reason|gilded|downs|archived|      author|score|retrieved_on|                body|distinguished|edited|controversiality| parent_id|\n",
      "+--------------------------------+-----------+----+------------+---------+----------+------------+----------------------+-----------------+---------+-------+--------------+------+-----+--------+------------+-----+------------+--------------------+-------------+------+----------------+----------+\n",
      "|                               1| 1430438400|   4|    t5_378oi|t3_34di91|t1_cqug90g|           0|                    NA|               NA|soccer_jp|cqug90g|            NA|     0|    0|       0|       rx109|    4|  1432703079|                くそ|         null|  null|            null|      null|\n",
      "|読みたいが買ったら負けな気がする|       null|null|        null|     null|      null|        null|                  null|             null|     null|   null|          null|  null| null|    null|        null| null|        null|                null|         null|  null|            null|      null|\n",
      "|             図書館に出ねーかな\"|         NA|   0|           0|t3_34di91|      null|        null|                  null|             null|     null|   null|          null|  null| null|    null|        null| null|        null|                null|         null|  null|            null|      null|\n",
      "|                               2| 1430438400|   4|    t5_2qo4s|t3_34g8mx|t1_cqug90h|           0|                  Heat|             Heat|      nba|cqug90h|            NA|     0|    0|       0|   WyaOfWade|    4|  1432703079|gg this one's ove...|           NA|     0|               0| t3_34g8mx|\n",
      "|                               3| 1430438400|   0|    t5_2cneq|t3_34f7mc|t1_cqug90i|           0|                    NA|               NA| politics|cqug90i|            NA|     0|    0|       0|Wicked_Truth|    0|  1432703079|Are you really im...|           NA|     0|               0|t1_cqufim0|\n",
      "+--------------------------------+-----------+----+------------+---------+----------+------------+----------------------+-----------------+---------+-------+--------------+------+-----+--------+------------+-----+------------+--------------------+-------------+------+----------------+----------+\n",
      "only showing top 5 rows\n",
      "\n"
     ]
    }
   ],
   "source": [
    "df.show(5)"
   ]
  },
  {
   "cell_type": "code",
   "execution_count": null,
   "metadata": {},
   "outputs": [],
   "source": []
  }
 ],
 "metadata": {
  "kernelspec": {
   "display_name": "DS 5110",
   "language": "python",
   "name": "ds5110"
  },
  "language_info": {
   "codemirror_mode": {
    "name": "ipython",
    "version": 3
   },
   "file_extension": ".py",
   "mimetype": "text/x-python",
   "name": "python",
   "nbconvert_exporter": "python",
   "pygments_lexer": "ipython3",
   "version": "3.7.10"
  }
 },
 "nbformat": 4,
 "nbformat_minor": 4
}
