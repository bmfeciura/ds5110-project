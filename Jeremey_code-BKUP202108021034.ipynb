{
 "cells": [
  {
   "cell_type": "markdown",
   "metadata": {},
   "source": [
    "# DS 5110 Group Project\n",
    "Team: Alexandra Cathcart (adc6fs), Benjamin Feciura (bmf3bw), Jeremey Donovan (jdd5dw), Jordan Hiatt (jdh2e)\n",
    "\n",
    "Original data: https://www.kaggle.com/reddit/reddit-comments-may-2015\n"
   ]
  },
  {
   "cell_type": "markdown",
   "metadata": {},
   "source": [
    "## Includes & Spark Setup"
   ]
  },
  {
   "cell_type": "code",
   "execution_count": 1,
   "metadata": {},
   "outputs": [],
   "source": [
    "import pandas as pd\n",
    "from matplotlib import pyplot as plt\n",
    "\n",
    "import time\n",
    "\n",
    "from pyspark import StorageLevel\n",
    "\n",
    "from pyspark.mllib.evaluation import BinaryClassificationMetrics, MulticlassMetrics\n",
    "\n",
    "from pyspark.ml import Pipeline, PipelineModel\n",
    "from pyspark.ml.classification import LogisticRegression, RandomForestClassifier, RandomForestClassificationModel\n",
    "from pyspark.ml.evaluation import BinaryClassificationEvaluator, MulticlassClassificationEvaluator\n",
    "from pyspark.ml.feature import *\n",
    "from pyspark.ml.tuning import CrossValidator, CrossValidatorModel, ParamGridBuilder\n",
    "\n",
    "from pyspark.sql import SparkSession, SQLContext\n",
    "from pyspark.sql.functions import col, countDistinct, lower, size, split, udf, when\n",
    "from pyspark.sql.types import ArrayType, FloatType, IntegerType,  StringType, StructType"
   ]
  },
  {
   "cell_type": "code",
   "execution_count": 2,
   "metadata": {},
   "outputs": [],
   "source": [
    "#from pyspark import SparkContext\n",
    "spark = SparkSession.builder.getOrCreate()\n",
    "sc=spark.sparkContext"
   ]
  },
  {
   "cell_type": "markdown",
   "metadata": {},
   "source": [
    "## Code Control"
   ]
  },
  {
   "cell_type": "code",
   "execution_count": 3,
   "metadata": {},
   "outputs": [],
   "source": [
    "# EDA is a little slow so runEDA = 1 to run\n",
    "runEDA=1"
   ]
  },
  {
   "cell_type": "code",
   "execution_count": 4,
   "metadata": {},
   "outputs": [],
   "source": [
    "# train, test, holdout\n",
    "# key code control b/c we have been experiencing memory issues with a 50/50 train/test split\n",
    "trainPct=0.1\n",
    "testPct=0.1\n",
    "holdoutPct=0.8\n"
   ]
  },
  {
   "cell_type": "code",
   "execution_count": 5,
   "metadata": {},
   "outputs": [],
   "source": [
    "# persisting trainDF should speed training but we have been experiencing memory issues\n",
    "persistTrainDF=0"
   ]
  },
  {
   "cell_type": "code",
   "execution_count": 6,
   "metadata": {},
   "outputs": [],
   "source": [
    "# Over-ride parallelism: We have been expreiencing memory issues. Set to anything other than 0 to override.\n",
    "# Otherwise, set to the desired over-ride integer value\n",
    "overrideParallelism=1"
   ]
  },
  {
   "cell_type": "code",
   "execution_count": 7,
   "metadata": {},
   "outputs": [],
   "source": [
    "# loadCVmodel: If blank, then do not load and instead run CV\n",
    "# otherwise, provide name of cv model to load\n",
    "#loadCVmodel=\"\"\n",
    "loadCVmodel=\"lrModel20210730-005848\"\n",
    "\n",
    "loadCVmodelSens=\"lrModelSens20210730-093722\""
   ]
  },
  {
   "cell_type": "code",
   "execution_count": 8,
   "metadata": {},
   "outputs": [
    {
     "data": {
      "text/plain": [
       "'\\n# loadRFmodel: If blank, then do not load and instead run RF baseline model\\n# otherwise, provide name of RF model to load\\n#loadCVmodel=\"\"\\nloadRFmodel=\"rfModel20210730-211517\"\\n'"
      ]
     },
     "execution_count": 8,
     "metadata": {},
     "output_type": "execute_result"
    }
   ],
   "source": [
    "# NOT IMPLEMENTED!!! It may be that to efficient load RF, we need to also embed in CV\n",
    "\"\"\"\n",
    "# loadRFmodel: If blank, then do not load and instead run RF baseline model\n",
    "# otherwise, provide name of RF model to load\n",
    "#loadCVmodel=\"\"\n",
    "loadRFmodel=\"rfModel20210730-211517\"\n",
    "\"\"\""
   ]
  },
  {
   "cell_type": "markdown",
   "metadata": {},
   "source": [
    "## Data Import and Pre-Processing"
   ]
  },
  {
   "cell_type": "markdown",
   "metadata": {},
   "source": [
    "### Data Import"
   ]
  },
  {
   "cell_type": "code",
   "execution_count": 9,
   "metadata": {},
   "outputs": [],
   "source": [
    "# Import the reddit data\n",
    "full_path = '/project/ds5559/r-slash-group8/sample.csv'\n",
    "\n",
    "df = spark.read.csv(full_path,  inferSchema=True, header = True)"
   ]
  },
  {
   "cell_type": "code",
   "execution_count": 10,
   "metadata": {},
   "outputs": [],
   "source": [
    "# Import the Bad Word data\n",
    "schema = StructType().add(\"badWord\",StringType(),True)\n",
    "dfBW=spark.read.format(\"csv\").schema(schema).load('bad_words.csv')\n",
    "#  dfBW.show(5)  # not showing since words are quite vulgar\n",
    "\n",
    "# Also create in list format\n",
    "listBW=list(dfBW.select('badWord').toPandas()['badWord']) \n",
    "# listBW\n"
   ]
  },
  {
   "cell_type": "code",
   "execution_count": 11,
   "metadata": {},
   "outputs": [],
   "source": [
    "# Create a regex with all the bad words\n",
    "# if there is an issue, try \\\\\\\\b instead; just \\b probably has issues\n",
    "listBW=list(map(lambda line: \"\\\\b\" + line + \"\\\\b\",listBW))\n",
    "delim='|'\n",
    "strBW=delim.join(listBW)\n",
    "\n"
   ]
  },
  {
   "cell_type": "markdown",
   "metadata": {},
   "source": [
    "### Filtering"
   ]
  },
  {
   "cell_type": "code",
   "execution_count": 12,
   "metadata": {},
   "outputs": [
    {
     "name": "stdout",
     "output_type": "stream",
     "text": [
      "root\n",
      " |-- ups: integer (nullable = true)\n",
      " |-- subreddit: string (nullable = true)\n",
      " |-- removal_reason: string (nullable = true)\n",
      " |-- downs: integer (nullable = true)\n",
      " |-- author: string (nullable = true)\n",
      " |-- body: string (nullable = true)\n",
      " |-- distinguished: string (nullable = true)\n",
      "\n",
      "+----+---------+--------------+-----+------------+--------------------+-------------+\n",
      "| ups|subreddit|removal_reason|downs|      author|                body|distinguished|\n",
      "+----+---------+--------------+-----+------------+--------------------+-------------+\n",
      "|   4|soccer_jp|            NA|    0|       rx109|                くそ|         null|\n",
      "|null|     null|          null| null|        null|                null|         null|\n",
      "|   0|     null|          null| null|        null|                null|         null|\n",
      "|   4|      nba|            NA|    0|   WyaOfWade|gg this one's ove...|           NA|\n",
      "|   0| politics|            NA|    0|Wicked_Truth|Are you really im...|           NA|\n",
      "+----+---------+--------------+-----+------------+--------------------+-------------+\n",
      "only showing top 5 rows\n",
      "\n"
     ]
    }
   ],
   "source": [
    "# Drop unneeded cols from dataframe\n",
    "df=df.drop('_c0','created_utc','subreddit_id','link_id','name','score_hidden','author_flair_css_class', 'gilded', \\\n",
    "        'author_flair_text','id','archived','retrieved_on', 'edited','controversiality','parent_id','score')\n",
    "\n",
    "# convert integer cols (ups, downs, and gilded) to integers\n",
    "# Note: we could have done this by defining a schema before the csv read\n",
    "df=df.withColumn(\"ups\",df.ups.cast(IntegerType()))\n",
    "df=df.withColumn(\"downs\",df.downs.cast(IntegerType()))\n",
    "#df=df.withColumn(\"gilded\",df.gilded.cast(IntegerType()))  # Removed gilded since not used in this analysis\n",
    "\n",
    "# Confirm new schema\n",
    "df.printSchema()\n",
    "df.show(5)"
   ]
  },
  {
   "cell_type": "code",
   "execution_count": 13,
   "metadata": {},
   "outputs": [
    {
     "data": {
      "text/plain": [
       "15317725"
      ]
     },
     "execution_count": 13,
     "metadata": {},
     "output_type": "execute_result"
    }
   ],
   "source": [
    "# Count the number of rows before removing NA\n",
    "df.count()\n",
    "# There are 15,317,725 rows"
   ]
  },
  {
   "cell_type": "code",
   "execution_count": 14,
   "metadata": {},
   "outputs": [
    {
     "name": "stdout",
     "output_type": "stream",
     "text": [
      "+---+---------+--------------+-----+--------------+--------------------+-------------+\n",
      "|ups|subreddit|removal_reason|downs|        author|                body|distinguished|\n",
      "+---+---------+--------------+-----+--------------+--------------------+-------------+\n",
      "|  4|soccer_jp|            NA|    0|         rx109|                くそ|         null|\n",
      "|  4|      nba|            NA|    0|     WyaOfWade|gg this one's ove...|           NA|\n",
      "|  0| politics|            NA|    0|  Wicked_Truth|Are you really im...|           NA|\n",
      "|  3|AskReddit|            NA|    0|      jesse9o3|No one has a Euro...|           NA|\n",
      "|  3|AskReddit|            NA|    0|beltfedshooter|\"That the kid \"\"....|           NA|\n",
      "+---+---------+--------------+-----+--------------+--------------------+-------------+\n",
      "only showing top 5 rows\n",
      "\n"
     ]
    }
   ],
   "source": [
    "# Remove rows where up, down, or body is null. We  do this since inference of these values is not applicable\n",
    "df=df.filter(df['ups'].isNotNull())\n",
    "df=df.filter(df['downs'].isNotNull())\n",
    "df=df.filter(df['body'].isNotNull())\n",
    "\n",
    "df.show(5)"
   ]
  },
  {
   "cell_type": "code",
   "execution_count": 15,
   "metadata": {},
   "outputs": [],
   "source": [
    "# Remove rows where the author was '[deleted]' \n",
    "df=df.filter(df['author']!='[deleted]')\n",
    "\n",
    "# Remove author \"0\"\n",
    "df=df.filter(df['author']!='0')\n",
    "\n",
    "\n",
    "# Remove rows where the author was 'AutoModerator'\n",
    "# see https://www.reddit.com/wiki/automoderator\n",
    "df=df.filter(df['author']!='AutoModerator')"
   ]
  },
  {
   "cell_type": "code",
   "execution_count": 16,
   "metadata": {},
   "outputs": [
    {
     "data": {
      "text/plain": [
       "9226090"
      ]
     },
     "execution_count": 16,
     "metadata": {},
     "output_type": "execute_result"
    }
   ],
   "source": [
    "# Count the number of rows AFTER removing NA\n",
    "df.count()\n",
    "# There now 9,226,090 rows"
   ]
  },
  {
   "cell_type": "markdown",
   "metadata": {},
   "source": [
    "### Binning & Feature Engineering"
   ]
  },
  {
   "cell_type": "code",
   "execution_count": 17,
   "metadata": {},
   "outputs": [],
   "source": [
    "# Lowercase all body text\n",
    "df=df.withColumn('body',lower(col('body')))"
   ]
  },
  {
   "cell_type": "code",
   "execution_count": 18,
   "metadata": {},
   "outputs": [
    {
     "name": "stdout",
     "output_type": "stream",
     "text": [
      "+---+---------+--------------+-----+--------------+--------------------+-------------+-----+\n",
      "|ups|subreddit|removal_reason|downs|        author|                body|distinguished|score|\n",
      "+---+---------+--------------+-----+--------------+--------------------+-------------+-----+\n",
      "|  4|soccer_jp|            NA|    0|         rx109|                くそ|         null|    4|\n",
      "|  4|      nba|            NA|    0|     WyaOfWade|gg this one's ove...|           NA|    4|\n",
      "|  0| politics|            NA|    0|  Wicked_Truth|are you really im...|           NA|    0|\n",
      "|  3|AskReddit|            NA|    0|      jesse9o3|no one has a euro...|           NA|    3|\n",
      "|  3|AskReddit|            NA|    0|beltfedshooter|\"that the kid \"\"....|           NA|    3|\n",
      "+---+---------+--------------+-----+--------------+--------------------+-------------+-----+\n",
      "only showing top 5 rows\n",
      "\n"
     ]
    }
   ],
   "source": [
    "# Even though we dropped the column, adding score back into dataframe by computing it\n",
    "df=df.withColumn('score',df['ups']-df['downs'])\n",
    "df=df.withColumn(\"score\",df.score.cast(IntegerType()))\n",
    "df.show(5)"
   ]
  },
  {
   "cell_type": "code",
   "execution_count": 19,
   "metadata": {},
   "outputs": [
    {
     "name": "stdout",
     "output_type": "stream",
     "text": [
      "+---+---------+--------------+-----+---------+--------------------+-------------+-----+--------------+\n",
      "|ups|subreddit|removal_reason|downs|   author|                body|distinguished|score|scoreSentiment|\n",
      "+---+---------+--------------+-----+---------+--------------------+-------------+-----+--------------+\n",
      "|  4|soccer_jp|            NA|    0|    rx109|                くそ|         null|    4|           2.0|\n",
      "|  4|      nba|            NA|    0|WyaOfWade|gg this one's ove...|           NA|    4|           2.0|\n",
      "+---+---------+--------------+-----+---------+--------------------+-------------+-----+--------------+\n",
      "only showing top 2 rows\n",
      "\n"
     ]
    }
   ],
   "source": [
    "# Determine a scoreSentiment as either postive, neutral, or negative.\n",
    "# This will be our response variable\n",
    "\n",
    "# Drop scoreSentiment if it already exists\n",
    "df=df.drop('scoreSentiment')\n",
    "\n",
    "# Set up bucketizer\n",
    "splits = [-float(\"inf\"), -0.1,0.1, float(\"inf\")]\n",
    "bkt = Bucketizer(splits=splits, inputCol=\"score\", outputCol=\"scoreSentiment\")\n",
    "\n",
    "# Transform to add scoreSentiment: 0=negative; 1=neutral; 2=positive.\n",
    "df=bkt.transform(df)\n",
    "\n",
    "# !!! Cannot shift to -1,0,1 since LR must start with 0 !!!\n",
    "# To make things more clear, shift to -1=negative; 0=neutral; 1=positive\n",
    "#df=df.withColumn(\"scoreSentiment\", \\\n",
    "#                 when(df['scoreSentiment']==0,-1) \\\n",
    "#                 .when(df['scoreSentiment']==1,0) \\\n",
    "#                 .otherwise(1)\n",
    "#                ) \n",
    "\n",
    "df.show(2)\n",
    "\n"
   ]
  },
  {
   "cell_type": "code",
   "execution_count": 20,
   "metadata": {},
   "outputs": [],
   "source": [
    "# Flag comments containing bad words\n",
    "df=df.withColumn('bwFlag',col('body').rlike(strBW))"
   ]
  },
  {
   "cell_type": "code",
   "execution_count": 21,
   "metadata": {},
   "outputs": [],
   "source": [
    "# Append bodyWordCount\n",
    "df=df.withColumn(\"bodyWordCount\", size(split(df['body'], ' ')))\n",
    "#df.show(5)"
   ]
  },
  {
   "cell_type": "code",
   "execution_count": 22,
   "metadata": {},
   "outputs": [],
   "source": [
    "# Though not the cleanest thing to do from a data sci perspective, we\n",
    "# are going to drop the neutral sentiment rows so we can do binomial\n",
    "# rather than multinomial regression; neutral currently \"1\"\n",
    "df=df.filter(df['scoreSentiment']!=1)\n",
    "# Shift positive from 2 to 1\n",
    "df=df.withColumn(\"scoreSentiment\", \\\n",
    "                 when(df['scoreSentiment']==2,1) \\\n",
    "                 .when(df['scoreSentiment']==0,0) \\\n",
    "                 .otherwise(-1)\n",
    "                ) \n",
    "# we should never have the otherwise case!!!"
   ]
  },
  {
   "cell_type": "code",
   "execution_count": 23,
   "metadata": {},
   "outputs": [],
   "source": [
    "# Cross-validator explicity wants response to be called \"label\"\n",
    "# so copying scoreSentiment to label in all DFs\n",
    "df=df.withColumn(\"label\", df[\"scoreSentiment\"])"
   ]
  },
  {
   "cell_type": "markdown",
   "metadata": {},
   "source": [
    "## Data Splitting & Sampling"
   ]
  },
  {
   "cell_type": "code",
   "execution_count": 24,
   "metadata": {},
   "outputs": [],
   "source": [
    "seed=314\n",
    "trainDF,testDF, holdoutDF=df.randomSplit([trainPct,testPct,holdoutPct],seed)"
   ]
  },
  {
   "cell_type": "markdown",
   "metadata": {},
   "source": [
    "## EDA"
   ]
  },
  {
   "cell_type": "code",
   "execution_count": 25,
   "metadata": {},
   "outputs": [
    {
     "name": "stdout",
     "output_type": "stream",
     "text": [
      "+------+-------------+\n",
      "|bwFlag|count(bwFlag)|\n",
      "+------+-------------+\n",
      "|  true|       392771|\n",
      "| false|      8433257|\n",
      "+------+-------------+\n",
      "\n"
     ]
    }
   ],
   "source": [
    "if runEDA:\n",
    "    # How many comments have bad words?\n",
    "    # Confirm the flagging worked by looking at how many comments contain bad words vs good\n",
    "    # NOTE: This has a rather long runtime!!!\n",
    "    df.groupby('bwFlag').agg({\"bwFlag\":\"count\"}).show()\n",
    "    #df.filter(df['bwFlag']==True).show(5,False)"
   ]
  },
  {
   "cell_type": "code",
   "execution_count": 26,
   "metadata": {},
   "outputs": [
    {
     "name": "stdout",
     "output_type": "stream",
     "text": [
      "+----------------------+\n",
      "|count(DISTINCT author)|\n",
      "+----------------------+\n",
      "|               1216598|\n",
      "+----------------------+\n",
      "\n"
     ]
    }
   ],
   "source": [
    "if runEDA:\n",
    "    # How many authors are there?\n",
    "    df.select(countDistinct('author')).show()\n",
    "    # There are 1,216,598 authors"
   ]
  },
  {
   "cell_type": "code",
   "execution_count": 27,
   "metadata": {},
   "outputs": [
    {
     "name": "stdout",
     "output_type": "stream",
     "text": [
      "+-------------------+----------+----------+-------------+--------+\n",
      "|             author|sum(score)|sum(downs)|count(author)|sum(ups)|\n",
      "+-------------------+----------+----------+-------------+--------+\n",
      "|      TheNitromeFan|     10445|         0|         3997|   10445|\n",
      "|        TweetPoster|      7090|         0|         3452|    7090|\n",
      "|        autowikibot|      6420|         0|         3188|    6420|\n",
      "|         PoliticBot|      3159|         0|         3138|    3159|\n",
      "|TweetsInCommentsBot|      9965|         0|         2999|    9965|\n",
      "|     atomicimploder|      7363|         0|         2616|    7363|\n",
      "|       Removedpixel|      5333|         0|         2264|    5333|\n",
      "|          TrollaBot|      2640|         0|         2212|    2640|\n",
      "|          havoc_bot|      2120|         0|         2101|    2120|\n",
      "|     MTGCardFetcher|      3089|         0|         2053|    3089|\n",
      "+-------------------+----------+----------+-------------+--------+\n",
      "only showing top 10 rows\n",
      "\n"
     ]
    }
   ],
   "source": [
    "if runEDA:\n",
    "    # Show the top 10 authors with sum of ups and downs\n",
    "    df.groupby('author').agg({\"author\":\"count\",\"ups\":\"sum\",\"downs\":\"sum\",\"score\":\"sum\"}).sort(col('count(author)').desc()).show(10)"
   ]
  },
  {
   "cell_type": "markdown",
   "metadata": {},
   "source": [
    "Odd that the preceding authors have no down but this is correct"
   ]
  },
  {
   "cell_type": "code",
   "execution_count": 28,
   "metadata": {},
   "outputs": [
    {
     "name": "stdout",
     "output_type": "stream",
     "text": [
      "+----------------+----------+----------+--------+\n",
      "|          author|sum(score)|sum(downs)|sum(ups)|\n",
      "+----------------+----------+----------+--------+\n",
      "|    ItWillBeMine|     -6839|         0|   -6839|\n",
      "|        blaghart|     -4233|         0|   -4233|\n",
      "|       Shanondoa|     -3555|         0|   -3555|\n",
      "|   bad_driverman|     -3053|         0|   -3053|\n",
      "|      RSneedsEoC|     -2192|         0|   -2192|\n",
      "|   b00gymonster1|     -2050|         0|   -2050|\n",
      "|      frankenham|     -2024|         0|   -2024|\n",
      "|   SaddharKadham|     -1485|         0|   -1485|\n",
      "|letters_numbers-|     -1412|         0|   -1412|\n",
      "|     djroomba322|     -1392|         0|   -1392|\n",
      "+----------------+----------+----------+--------+\n",
      "only showing top 10 rows\n",
      "\n"
     ]
    }
   ],
   "source": [
    "if runEDA:\n",
    "    # Show authors with the lowest scores\n",
    "    df.groupby('author').agg({\"score\":\"sum\",\"ups\":\"sum\",\"downs\":\"sum\"}).sort(col('sum(score)').asc()).show(10)"
   ]
  },
  {
   "cell_type": "code",
   "execution_count": 29,
   "metadata": {},
   "outputs": [
    {
     "name": "stdout",
     "output_type": "stream",
     "text": [
      "+--------------+---------------------+\n",
      "|scoreSentiment|count(scoreSentiment)|\n",
      "+--------------+---------------------+\n",
      "|             0|               394008|\n",
      "|             1|              8432020|\n",
      "+--------------+---------------------+\n",
      "\n"
     ]
    }
   ],
   "source": [
    "if runEDA:\n",
    "    # Get a summary of score sentiment by label\n",
    "    sentDF=df.groupby('scoreSentiment').agg({\"scoreSentiment\":\"count\"}).sort(col('scoreSentiment').asc())\n",
    "    sentDF.show()"
   ]
  },
  {
   "cell_type": "code",
   "execution_count": 30,
   "metadata": {},
   "outputs": [
    {
     "data": {
      "image/png": "[encoded data removed]",
      "text/plain": [
       "<Figure size 640x480 with 1 Axes>"
      ]
     },
     "metadata": {},
     "output_type": "display_data"
    }
   ],
   "source": [
    "if runEDA:\n",
    "    # convert to pandas DF\n",
    "    sentDF_pandas=sentDF.toPandas()\n",
    "    sentDF_pandas['scoreSentiment'] = sentDF_pandas['scoreSentiment'].astype(str) \n",
    "    sentDF_pandas['scoreSentiment']=sentDF_pandas['scoreSentiment'].replace(['0'],'Negative')\n",
    "    sentDF_pandas['scoreSentiment']=sentDF_pandas['scoreSentiment'].replace(['1'],'Positive')\n",
    "    sentDF_pandas.plot(kind='bar', x='scoreSentiment', y='count(scoreSentiment)', colormap='winter_r')\n",
    "    \n",
    "    plt.show()\n",
    "    \n",
    "    #sentDF.registerTempTable(\"sentiment_table\")\n",
    "    #display(SQLContext(sc).sql(\"select * from sentiment_table\"))\n",
    "    #sentDF.select('scoreSentiment').display()"
   ]
  },
  {
   "cell_type": "code",
   "execution_count": 31,
   "metadata": {},
   "outputs": [
    {
     "data": {
      "image/png": "[encoded data removed]",
      "text/plain": [
       "<Figure size 640x480 with 1 Axes>"
      ]
     },
     "metadata": {},
     "output_type": "display_data"
    }
   ],
   "source": [
    "if runEDA:\n",
    "    # Generate historgram of body word count\n",
    "    # There are a small (relative) number of long comments but most are under 100 words\n",
    "    maxWords=100\n",
    "    bwcDF=df.filter(col('bodyWordCount')<=maxWords).select('bodyWordCount')\n",
    "    bwcDF_pandas=bwcDF.toPandas()\n",
    "    \n",
    "    fig = plt.figure()\n",
    "    ax = fig.add_subplot(111)\n",
    "\n",
    "    numBins = 50\n",
    "    ax.hist(bwcDF_pandas,numBins,color='green',alpha=0.8)\n",
    "    plt.show()\n"
   ]
  },
  {
   "cell_type": "markdown",
   "metadata": {},
   "source": [
    "## Model: Predict Sentiment from body"
   ]
  },
  {
   "cell_type": "markdown",
   "metadata": {},
   "source": [
    "### Set up pipeline"
   ]
  },
  {
   "cell_type": "code",
   "execution_count": 32,
   "metadata": {},
   "outputs": [
    {
     "name": "stdout",
     "output_type": "stream",
     "text": [
      "+--------------------+--------------------+\n",
      "|               words|                  tf|\n",
      "+--------------------+--------------------+\n",
      "|              [くそ]|(262144,[85691],[...|\n",
      "|[gg, this, one's,...|(262144,[5674,905...|\n",
      "+--------------------+--------------------+\n",
      "only showing top 2 rows\n",
      "\n"
     ]
    }
   ],
   "source": [
    "# Create TF (Term Frequency) feature\n",
    "tok = Tokenizer(inputCol=\"body\", outputCol=\"words\")\n",
    "htf = HashingTF(inputCol=\"words\", outputCol=\"tf\")  # numFeatures will be a hyper-parameter  \n",
    "\n",
    "#testing\n",
    "tmpDF=tok.transform(df)\n",
    "tmpDF=htf.transform(tmpDF)\n",
    "tmpDF.select('words','tf').show(2)"
   ]
  },
  {
   "cell_type": "code",
   "execution_count": 33,
   "metadata": {},
   "outputs": [
    {
     "data": {
      "text/plain": [
       "'\\ntmpDF=rva.transform(df)\\nmodel=w2v.fit(tmpDF)\\ntmpDF=model.transform(tmpDF)\\ntmpDF.show(2)\\n'"
      ]
     },
     "execution_count": 33,
     "metadata": {},
     "output_type": "execute_result"
    }
   ],
   "source": [
    "# Create w2v (word to vec) feature\n",
    "\n",
    "# the comment string needs to be turned into a vector for w2v to work\n",
    "# unfortunately, VectorAssember does not work on string so we need a UDF\n",
    "\n",
    "# Create UDF (note: split(anything,0) simply means don't split)\n",
    "str_to_vec=spark.udf.register(\"str_to_vec\",\n",
    "                             lambda row:row.split(\"#\",0),\n",
    "                             ArrayType(StringType()))\n",
    "\n",
    "# set up the tranformation\n",
    "rva=SQLTransformer(statement=\"SELECT *, str_to_vec(body) bodyVec FROM __THIS__\")\n",
    "\n",
    "w2v = Word2Vec(inputCol='bodyVec', outputCol='w2v')  # not setting minCount \n",
    "\n",
    "# testing\n",
    "\"\"\"\n",
    "tmpDF=rva.transform(df)\n",
    "model=w2v.fit(tmpDF)\n",
    "tmpDF=model.transform(tmpDF)\n",
    "tmpDF.show(2)\n",
    "\"\"\""
   ]
  },
  {
   "cell_type": "code",
   "execution_count": 34,
   "metadata": {},
   "outputs": [],
   "source": [
    "# Assemble predictors\n",
    "va=VectorAssembler(inputCols=['tf','w2v','bwFlag','bodyWordCount'],outputCol='features')"
   ]
  },
  {
   "cell_type": "code",
   "execution_count": 35,
   "metadata": {},
   "outputs": [],
   "source": [
    "# Set up the regression model; regParam & elasticNetParam will be hyper-parameters\n",
    "# CrossVal currently requires the labelCol to be precisely called 'label'\n",
    "#lr = LogisticRegression(labelCol='scoreSentiment',maxIter=10)\n",
    "lr = LogisticRegression(labelCol='label',maxIter=10)\n"
   ]
  },
  {
   "cell_type": "code",
   "execution_count": 36,
   "metadata": {},
   "outputs": [],
   "source": [
    "# Build the pipeline\n",
    "#pipeline=Pipeline(stages=[bkt,tok,htf,rva,w2v,va,lr])  # took out bkt since this is pre-EDA\n",
    "pipeline=Pipeline(stages=[tok,htf,rva,w2v,va,lr])"
   ]
  },
  {
   "cell_type": "markdown",
   "metadata": {},
   "source": [
    "### Set up hyperparameter tuning & Cross-Validation"
   ]
  },
  {
   "cell_type": "code",
   "execution_count": 37,
   "metadata": {},
   "outputs": [
    {
     "data": {
      "text/plain": [
       "'\\nparamGrid = ParamGridBuilder()     .addGrid(htf.numFeatures, [200])     .addGrid(lr.regParam, [0.3])     .addGrid(lr.elasticNetParam, [0.5])     .build()\\n'"
      ]
     },
     "execution_count": 37,
     "metadata": {},
     "output_type": "execute_result"
    }
   ],
   "source": [
    "# Set up the parameter grid\n",
    "\n",
    "paramGrid = ParamGridBuilder() \\\n",
    "    .addGrid(htf.numFeatures, [200]) \\\n",
    "    .addGrid(lr.regParam, [0.1, 0.01]) \\\n",
    "    .addGrid(lr.elasticNetParam, [0.0, 0.5, 1.0]) \\\n",
    "    .build()\n",
    "\n",
    "\"\"\"\n",
    "# This version works and homes in on elasticNetParam=0\n",
    "paramGrid = ParamGridBuilder() \\\n",
    "    .addGrid(htf.numFeatures, [200]) \\\n",
    "    .addGrid(lr.regParam, [0.1]) \\\n",
    "    .addGrid(lr.elasticNetParam, [0.0, 0.5, 1.0]) \\\n",
    "    .build()\n",
    "\"\"\"\n",
    "\n",
    "# This paramGrid for testing\n",
    "\"\"\"\n",
    "paramGrid = ParamGridBuilder() \\\n",
    "    .addGrid(htf.numFeatures, [200]) \\\n",
    "    .addGrid(lr.regParam, [0.3]) \\\n",
    "    .addGrid(lr.elasticNetParam, [0.5]) \\\n",
    "    .build()\n",
    "\"\"\""
   ]
  },
  {
   "cell_type": "code",
   "execution_count": 38,
   "metadata": {},
   "outputs": [
    {
     "data": {
      "text/plain": [
       "\"\\nprint('-'*30)\\n#print('paramGrid', paramGrid, '\\n')\\n#print('len(paramGrid): {}'.format(len(paramGrid)))\\nprint('-'*30)\\n\""
      ]
     },
     "execution_count": 38,
     "metadata": {},
     "output_type": "execute_result"
    }
   ],
   "source": [
    "# Too inspect paramGrid, uncomment next 4 lines\n",
    "\"\"\"\n",
    "print('-'*30)\n",
    "#print('paramGrid', paramGrid, '\\n')\n",
    "#print('len(paramGrid): {}'.format(len(paramGrid)))\n",
    "print('-'*30)\n",
    "\"\"\""
   ]
  },
  {
   "cell_type": "code",
   "execution_count": 39,
   "metadata": {},
   "outputs": [],
   "source": [
    "# Treat the Pipeline as an Estimator, wrapping it in a CrossValidator instance.\n",
    "# Using the pipeline as the estimator slows things down but is necessary if tuning featurziers.  If not, set the \n",
    "# model specification as the estimator with estimator=lr (I think; though not sure if that means lr needs to be removed from pipeline)\n",
    "numFolds=5\n",
    "crossval = CrossValidator(estimator=pipeline,\n",
    "                          estimatorParamMaps=paramGrid,\n",
    "                          evaluator=BinaryClassificationEvaluator(labelCol='label'),\n",
    "                          numFolds=numFolds,\n",
    "                          collectSubModels=True)"
   ]
  },
  {
   "cell_type": "markdown",
   "metadata": {},
   "source": [
    "### Train the benchmark model (only based on badwords & word count)"
   ]
  },
  {
   "cell_type": "code",
   "execution_count": 40,
   "metadata": {},
   "outputs": [
    {
     "name": "stdout",
     "output_type": "stream",
     "text": [
      "RF model fitting complete\n"
     ]
    }
   ],
   "source": [
    "# Set up featuresRF\n",
    "vaRF=VectorAssembler(inputCols=['bwFlag','bodyWordCount'],outputCol='featuresRF')\n",
    "\n",
    "# Define the RF classifier\n",
    "rf = RandomForestClassifier(labelCol=\"label\", featuresCol=\"featuresRF\", numTrees=10)\n",
    "\n",
    "# Create the pipeline\n",
    "rfPipeline = Pipeline(stages=[vaRF,rf])\n",
    "\n",
    "# Fit the model using the training data\n",
    "rfModel = rfPipeline.fit(trainDF)\n",
    "\n",
    "# save the rf model with a timestamp\n",
    "timestr = time.strftime(\"%Y%m%d-%H%M%S\")\n",
    "rfModel.save(\"rfModel\"+timestr)\n",
    "\n",
    "print(\"RF model fitting complete\")"
   ]
  },
  {
   "cell_type": "code",
   "execution_count": 41,
   "metadata": {},
   "outputs": [
    {
     "name": "stdout",
     "output_type": "stream",
     "text": [
      "RF prediction complete\n"
     ]
    }
   ],
   "source": [
    "# Generate predictions\n",
    "predictionRF = rfModel.transform(testDF)\n",
    "print (\"RF prediction complete\")"
   ]
  },
  {
   "cell_type": "code",
   "execution_count": 42,
   "metadata": {},
   "outputs": [],
   "source": [
    "rfEvaluator = MulticlassClassificationEvaluator(labelCol=\"label\", predictionCol=\"prediction\", metricName=\"accuracy\")\n",
    "rfAccuracy = rfEvaluator.evaluate(predictionRF)"
   ]
  },
  {
   "cell_type": "code",
   "execution_count": 43,
   "metadata": {},
   "outputs": [
    {
     "name": "stdout",
     "output_type": "stream",
     "text": [
      "Test Accuracy for RF: 0.9552675049687026\n"
     ]
    }
   ],
   "source": [
    "print(\"Test Accuracy for RF:\", rfAccuracy)"
   ]
  },
  {
   "cell_type": "markdown",
   "metadata": {},
   "source": [
    "### Train the Advanced Model"
   ]
  },
  {
   "cell_type": "code",
   "execution_count": 44,
   "metadata": {},
   "outputs": [],
   "source": [
    "# Determine parallelism \n",
    "# This resource: see https://databricks.com/session/model-parallelism-in-spark-ml-cross-validation\n",
    "# says that best practice is parallelism = (# cores)/(# partitions) but generally not more than 10\n",
    "numPartitions=trainDF.rdd.getNumPartitions()\n",
    "numCores=sc.defaultParallelism\n",
    "parallelism=int(round(numCores/numPartitions,0))\n",
    "# also see https://stackoverflow.com/questions/42171499/get-current-number-of-partitions-of-a-dataframe\n",
    "\n",
    "# constrain to between 1 and 10\n",
    "if parallelism<1:\n",
    "    parallelism=1\n",
    "elif parallelism > 10:\n",
    "    parallelism=10\n",
    "\n",
    "# -----------------------------------------------------------------------------\n",
    "    \n",
    "\"\"\"\n",
    "# Another thing we can do is treat cores as fixed and repartition to get a target parallelism\n",
    "# while avoiding memory issues that occur when != cores/partitions\n",
    "# in the future: verify cores/partitions is correct; might want to do something to avoid having\n",
    "# too few partitions\n",
    "parallelism=2\n",
    "targetNumPartitions=int(round(numCores/parallelism,0))\n",
    "if (targetNumPartitions>=1):\n",
    "    if (targetNumPartitions<numPartitions):\n",
    "        trainDF = trainDF.coalesce(targetNumPartitions) # no shuffling but can only be used for decreasing numPartitions\n",
    "    else: \n",
    "        trainDF = trainDF.repartition(targetNumPartitions)  # this involves shuffling to less efficient\n",
    "\"\"\" \n",
    "\n",
    "# -----------------------------------------------------------------------------\n",
    "\n",
    "\n",
    "# However, elsewhere, you typically see that partitions should be 2x to 4x the number of cores!\n",
    "# So, we could just override (note: 4 yielded memory errors)\n",
    "if overrideParallelism:\n",
    "    parallelism=overrideParallelism\n"
   ]
  },
  {
   "cell_type": "code",
   "execution_count": 45,
   "metadata": {},
   "outputs": [
    {
     "data": {
      "text/plain": [
       "1"
      ]
     },
     "execution_count": 45,
     "metadata": {},
     "output_type": "execute_result"
    }
   ],
   "source": [
    "# print out parallelism\n",
    "parallelism"
   ]
  },
  {
   "cell_type": "code",
   "execution_count": 46,
   "metadata": {},
   "outputs": [],
   "source": [
    "# Cache trainDF to speed up cross validation; we could use .select(colnames...) to use less memory\n",
    "# Cache & persist failed with 96GB and down to 50/50 train test split\n",
    "# yeah! worked with 25/25/50 train/test/holdout split with 96GB allocated!!!\n",
    "if persistTrainDF:\n",
    "    #trainDF=trainDF.cache()\n",
    "    trainDF=trainDF.persist(StorageLevel.MEMORY_AND_DISK)\n",
    "    trainDF.count()  # call count to actually cache the data\n"
   ]
  },
  {
   "cell_type": "code",
   "execution_count": 47,
   "metadata": {},
   "outputs": [
    {
     "name": "stdout",
     "output_type": "stream",
     "text": [
      "Loaded cvModel\n"
     ]
    }
   ],
   "source": [
    "if len(loadCVmodel)==0:\n",
    "    # Run cross-validation, and choose the best set of parameters. Print the training time.\n",
    "    import time\n",
    "    t0 = time.time()\n",
    "    if parallelism<=1:\n",
    "        cvModel = crossval.fit(trainDF) # train models (no parallelism)\n",
    "    else:    \n",
    "        cvModel = crossval.setParallelism(parallelism).fit(trainDF) # train models in parallel\n",
    "    print(\"train time:\", time.time() - t0)\n",
    "    print('-'*30)\n",
    "    # Took 3580 secs (~1hr) to run single params set with 50/50 split, 5 fold on 8 cores with 32 GB memmory & no parallelism & no cache/persist\n",
    "    # 10/10/90 train/test/holdout without parallelism took 3352 secs for 6 model variations (10 mins per model)\n",
    "    \n",
    "    # save the model with a timestamp\n",
    "    timestr = time.strftime(\"%Y%m%d-%H%M%S\")\n",
    "    cvModel.save(\"lrModel\"+timestr)\n",
    "    pipeline.save(\"lrPipeline\"+timestr)\n",
    "else: \n",
    "    # Load the model and the pipeline  (should these be preceded by \"val\")\n",
    "    cvModel = CrossValidatorModel.load(loadCVmodel)\n",
    "    print (\"Loaded cvModel\")\n",
    "    #val sameModel = PipelineModel.load(\"/path-to-my-pipeline/spark-log-reg-transfer-pipeline\")"
   ]
  },
  {
   "cell_type": "code",
   "execution_count": 48,
   "metadata": {},
   "outputs": [],
   "source": [
    "# release the cache\n",
    "if persistTrainDF:\n",
    "    trainDF.unpersist()"
   ]
  },
  {
   "cell_type": "code",
   "execution_count": 49,
   "metadata": {},
   "outputs": [
    {
     "data": {
      "text/plain": [
       "{Param(parent='LogisticRegression_4446ecd1f38f', name='aggregationDepth', doc='suggested depth for treeAggregate (>= 2).'): 2,\n",
       " Param(parent='LogisticRegression_4446ecd1f38f', name='elasticNetParam', doc='the ElasticNet mixing parameter, in range [0, 1]. For alpha = 0, the penalty is an L2 penalty. For alpha = 1, it is an L1 penalty.'): 0.0,\n",
       " Param(parent='LogisticRegression_4446ecd1f38f', name='family', doc='The name of family which is a description of the label distribution to be used in the model. Supported options: auto, binomial, multinomial'): 'auto',\n",
       " Param(parent='LogisticRegression_4446ecd1f38f', name='featuresCol', doc='features column name.'): 'features',\n",
       " Param(parent='LogisticRegression_4446ecd1f38f', name='fitIntercept', doc='whether to fit an intercept term.'): True,\n",
       " Param(parent='LogisticRegression_4446ecd1f38f', name='labelCol', doc='label column name.'): 'label',\n",
       " Param(parent='LogisticRegression_4446ecd1f38f', name='maxIter', doc='max number of iterations (>= 0).'): 10,\n",
       " Param(parent='LogisticRegression_4446ecd1f38f', name='predictionCol', doc='prediction column name.'): 'prediction',\n",
       " Param(parent='LogisticRegression_4446ecd1f38f', name='probabilityCol', doc='Column name for predicted class conditional probabilities. Note: Not all models output well-calibrated probability estimates! These probabilities should be treated as confidences, not precise probabilities.'): 'probability',\n",
       " Param(parent='LogisticRegression_4446ecd1f38f', name='rawPredictionCol', doc='raw prediction (a.k.a. confidence) column name.'): 'rawPrediction',\n",
       " Param(parent='LogisticRegression_4446ecd1f38f', name='regParam', doc='regularization parameter (>= 0).'): 0.01,\n",
       " Param(parent='LogisticRegression_4446ecd1f38f', name='standardization', doc='whether to standardize the training features before fitting the model.'): True,\n",
       " Param(parent='LogisticRegression_4446ecd1f38f', name='threshold', doc='Threshold in binary classification prediction, in range [0, 1]. If threshold and thresholds are both set, they must match.e.g. if threshold is p, then thresholds must be equal to [1-p, p].'): 0.5,\n",
       " Param(parent='LogisticRegression_4446ecd1f38f', name='tol', doc='the convergence tolerance for iterative algorithms (>= 0).'): 1e-06}"
      ]
     },
     "execution_count": 49,
     "metadata": {},
     "output_type": "execute_result"
    }
   ],
   "source": [
    "cvModel.bestModel.stages[-1].extractParamMap()\n",
    "# best model has the following:\n",
    "# elasticNetParam = 0\n",
    "# regParam = 0.01"
   ]
  },
  {
   "cell_type": "markdown",
   "metadata": {},
   "source": [
    "## Model Evaluation"
   ]
  },
  {
   "cell_type": "code",
   "execution_count": 50,
   "metadata": {},
   "outputs": [],
   "source": [
    "# Create the necessary evaluators\n",
    "evaluator=BinaryClassificationEvaluator(labelCol='label')\n",
    "mcEvaluator = MulticlassClassificationEvaluator(metricName=\"accuracy\")"
   ]
  },
  {
   "cell_type": "code",
   "execution_count": 51,
   "metadata": {},
   "outputs": [],
   "source": [
    "# Generate predictions\n",
    "predict_train=cvModel.transform(trainDF)\n",
    "predict_test=cvModel.transform(testDF)"
   ]
  },
  {
   "cell_type": "code",
   "execution_count": 52,
   "metadata": {},
   "outputs": [],
   "source": [
    "#predict_test.show(3)\n",
    "# besides initial df cols and those created by pipeline, we ahve label, rawPrediction, probability, and prediction"
   ]
  },
  {
   "cell_type": "markdown",
   "metadata": {},
   "source": [
    "### Accuracy"
   ]
  },
  {
   "cell_type": "code",
   "execution_count": 53,
   "metadata": {},
   "outputs": [
    {
     "name": "stdout",
     "output_type": "stream",
     "text": [
      "Train Accuracy: 0.9549860734338707\n",
      "Test Accuracy: 0.9552607024095798\n"
     ]
    }
   ],
   "source": [
    "print(\"Train Accuracy:\", mcEvaluator.evaluate(predict_train))\n",
    "print(\"Test Accuracy:\", mcEvaluator.evaluate(predict_test))"
   ]
  },
  {
   "cell_type": "markdown",
   "metadata": {},
   "source": [
    "### precision, recall, F1 score\n",
    "Source: https://stackoverflow.com/questions/60772315/how-to-evaluate-a-classifier-with-pyspark-2-4-5"
   ]
  },
  {
   "cell_type": "code",
   "execution_count": 54,
   "metadata": {},
   "outputs": [
    {
     "name": "stdout",
     "output_type": "stream",
     "text": [
      "Test precision is 0.9214841866897692\n",
      "Test recall is 0.9552607024095798\n",
      "Test f1 is 0.9334140348304236\n"
     ]
    }
   ],
   "source": [
    "weightedPrecision = mcEvaluator.evaluate(predict_test, {mcEvaluator.metricName: \"weightedPrecision\"})\n",
    "print(\"Test precision is {}\".format(weightedPrecision))\n",
    "\n",
    "weightedRecall = mcEvaluator.evaluate(predict_test, {mcEvaluator.metricName: \"weightedRecall\"})\n",
    "print(\"Test recall is {}\".format(weightedRecall))\n",
    "\n",
    "f1 = mcEvaluator.evaluate(predict_test, {mcEvaluator.metricName: \"f1\"})\n",
    "print(\"Test f1 is {}\".format(f1))"
   ]
  },
  {
   "cell_type": "code",
   "execution_count": 55,
   "metadata": {},
   "outputs": [
    {
     "name": "stdout",
     "output_type": "stream",
     "text": [
      "Train precision is 0.9232611846478553\n",
      "Train recall is 0.9549860734338705\n",
      "Train f1 is 0.9330062499313787\n"
     ]
    }
   ],
   "source": [
    "weightedPrecision = mcEvaluator.evaluate(predict_train, {mcEvaluator.metricName: \"weightedPrecision\"})\n",
    "print(\"Train precision is {}\".format(weightedPrecision))\n",
    "\n",
    "weightedRecall = mcEvaluator.evaluate(predict_train, {mcEvaluator.metricName: \"weightedRecall\"})\n",
    "print(\"Train recall is {}\".format(weightedRecall))\n",
    "\n",
    "f1 = mcEvaluator.evaluate(predict_train, {mcEvaluator.metricName: \"f1\"})\n",
    "print(\"Train f1 is {}\".format(f1))"
   ]
  },
  {
   "cell_type": "markdown",
   "metadata": {},
   "source": [
    "### Confusion Matrix\n",
    "Source: https://stackoverflow.com/questions/58404845/confusion-matrix-to-get-precsion-recall-f1score\n",
    "\n",
    "Confusion matrix references that may be helpful if the above does not work: \n",
    "\n",
    "https://gist.github.com/ispmarin/05feacd8be5e2901cf2b35453a148060\n",
    "\n",
    "https://shihaojran.com/distributed-machine-learning-using-pyspark/"
   ]
  },
  {
   "cell_type": "code",
   "execution_count": 56,
   "metadata": {},
   "outputs": [
    {
     "name": "stdout",
     "output_type": "stream",
     "text": [
      "Confustion matrix for test:\n",
      "[[2.00000e+00 3.94530e+04]\n",
      " [8.00000e+00 8.42558e+05]]\n"
     ]
    }
   ],
   "source": [
    "#important: need to cast to float type, and order by prediction, else it won't work\n",
    "preds_and_labels = predict_test.select(['prediction','label']).withColumn('label', col('label').cast(FloatType())).orderBy('prediction')\n",
    "\n",
    "#select only prediction and label columns\n",
    "preds_and_labels = preds_and_labels.select(['prediction','label'])\n",
    "\n",
    "metrics = MulticlassMetrics(preds_and_labels.rdd.map(tuple))\n",
    "print(\"Confustion matrix for test:\")\n",
    "print(metrics.confusionMatrix().toArray())"
   ]
  },
  {
   "cell_type": "code",
   "execution_count": 57,
   "metadata": {},
   "outputs": [
    {
     "name": "stdout",
     "output_type": "stream",
     "text": [
      "Confustion matrix for train:\n",
      "[[2.00000e+00 3.97020e+04]\n",
      " [6.00000e+00 8.42417e+05]]\n"
     ]
    }
   ],
   "source": [
    "#important: need to cast to float type, and order by prediction, else it won't work\n",
    "preds_and_labels = predict_train.select(['prediction','label']).withColumn('label', col('label').cast(FloatType())).orderBy('prediction')\n",
    "\n",
    "#select only prediction and label columns\n",
    "preds_and_labels = preds_and_labels.select(['prediction','label'])\n",
    "\n",
    "metrics = MulticlassMetrics(preds_and_labels.rdd.map(tuple))\n",
    "print(\"Confustion matrix for train:\")\n",
    "print(metrics.confusionMatrix().toArray())"
   ]
  },
  {
   "cell_type": "markdown",
   "metadata": {},
   "source": [
    "### AUC"
   ]
  },
  {
   "cell_type": "code",
   "execution_count": 58,
   "metadata": {},
   "outputs": [],
   "source": [
    "evalTrain=evaluator.evaluate(predict_train)\n",
    "evalTest=evaluator.evaluate(predict_test)"
   ]
  },
  {
   "cell_type": "code",
   "execution_count": 59,
   "metadata": {},
   "outputs": [
    {
     "name": "stdout",
     "output_type": "stream",
     "text": [
      "The area under ROC for train set after CV  is 0.6010342168729936\n",
      "The area under ROC for test set after CV  is 0.5955954005433566\n"
     ]
    }
   ],
   "source": [
    "\n",
    "print(\"The area under ROC for train set after CV  is {}\".format(evalTrain))\n",
    "print(\"The area under ROC for test set after CV  is {}\".format(evalTest))\n",
    "\n",
    "# source: https://dhiraj-p-rai.medium.com/logistic-regression-in-spark-ml-8a95b5f5434c"
   ]
  },
  {
   "cell_type": "markdown",
   "metadata": {},
   "source": [
    "## Sensitivity Analysis"
   ]
  },
  {
   "cell_type": "code",
   "execution_count": 60,
   "metadata": {},
   "outputs": [],
   "source": [
    "# My attempt to access submodels so don't need to fit again for sensitivity\n",
    "# There is very little documentation for this online.  subModels appears to be \n",
    "# a folds x models 2D list of pipelines. However, not sure how to extract a single model\n",
    "#cvModel.subModels\n",
    "#cvModel.subModels[1][1].stages[-1].extractParamMap()"
   ]
  },
  {
   "cell_type": "code",
   "execution_count": 61,
   "metadata": {},
   "outputs": [],
   "source": [
    "# Our best model has elasticNetParam=0 and regParam=0.01.  So, we can do sensitivity analysis\n",
    "# by comparing to regParam=0.1 (we have this in subModels but I could not out how to access)\n",
    "paramGrid_sens = ParamGridBuilder() \\\n",
    "    .addGrid(htf.numFeatures, [200]) \\\n",
    "    .addGrid(lr.regParam, [0.1]) \\\n",
    "    .addGrid(lr.elasticNetParam, [0.0]) \\\n",
    "    .build()"
   ]
  },
  {
   "cell_type": "code",
   "execution_count": 62,
   "metadata": {},
   "outputs": [],
   "source": [
    "# Treat the Pipeline as an Estimator, wrapping it in a CrossValidator instance.\n",
    "# Using the pipeline as the estimator slows things down but is necessary if tuning featurziers.  If not, set the \n",
    "# model specification as the estimator with estimator=lr (I think; though not sure if that means lr needs to be removed from pipeline)\n",
    "numFolds=5\n",
    "crossval_sens = CrossValidator(estimator=pipeline,\n",
    "                          estimatorParamMaps=paramGrid_sens,\n",
    "                          evaluator=BinaryClassificationEvaluator(labelCol='label'),\n",
    "                          numFolds=numFolds,\n",
    "                          collectSubModels=False)"
   ]
  },
  {
   "cell_type": "code",
   "execution_count": 63,
   "metadata": {},
   "outputs": [
    {
     "name": "stdout",
     "output_type": "stream",
     "text": [
      "Loaded sensitivity model\n"
     ]
    }
   ],
   "source": [
    "if len(loadCVmodelSens)==0:\n",
    "    cvModel_sens = crossval_sens.fit(trainDF) # train models (no parallelism)\n",
    "    print (\"Sensitivity fit complete\")\n",
    "else:\n",
    "    cvModel_sens = CrossValidatorModel.load(loadCVmodelSens)\n",
    "    print (\"Loaded sensitivity model\")"
   ]
  },
  {
   "cell_type": "code",
   "execution_count": 64,
   "metadata": {},
   "outputs": [],
   "source": [
    "# save the sensitivity model if it was just fitted\n",
    "if len(loadCVmodelSens)==0:\n",
    "    # save the model with a timestamp\n",
    "    timestr = time.strftime(\"%Y%m%d-%H%M%S\")\n",
    "    cvModel_sens.save(\"lrModelSens\"+timestr)"
   ]
  },
  {
   "cell_type": "code",
   "execution_count": 65,
   "metadata": {},
   "outputs": [
    {
     "name": "stdout",
     "output_type": "stream",
     "text": [
      "Sensitivity prediction generation complete\n"
     ]
    }
   ],
   "source": [
    "# Generate predictions\n",
    "predict_train_sens=cvModel_sens.transform(trainDF)\n",
    "predict_test_sens=cvModel_sens.transform(testDF)\n",
    "print (\"Sensitivity prediction generation complete\")"
   ]
  },
  {
   "cell_type": "code",
   "execution_count": 66,
   "metadata": {},
   "outputs": [
    {
     "name": "stdout",
     "output_type": "stream",
     "text": [
      "Sensitivity evaluate complete\n"
     ]
    }
   ],
   "source": [
    "evaluator=BinaryClassificationEvaluator(labelCol='label')\n",
    "evalTrain=evaluator.evaluate(predict_train_sens)\n",
    "evalTest=evaluator.evaluate(predict_test_sens)\n",
    "print (\"Sensitivity evaluate complete\")"
   ]
  },
  {
   "cell_type": "code",
   "execution_count": 67,
   "metadata": {},
   "outputs": [
    {
     "name": "stdout",
     "output_type": "stream",
     "text": [
      "The area under ROC for train set after CV  is 0.599735723234755\n",
      "The area under ROC for test set after CV  is 0.5950043808385443\n"
     ]
    }
   ],
   "source": [
    "\n",
    "print(\"The area under ROC for train set after CV  is {}\".format(evalTrain))\n",
    "print(\"The area under ROC for test set after CV  is {}\".format(evalTest))\n",
    "\n",
    "# source: https://dhiraj-p-rai.medium.com/logistic-regression-in-spark-ml-8a95b5f5434c"
   ]
  },
  {
   "cell_type": "markdown",
   "metadata": {},
   "source": [
    "## Save notebook as PDF document"
   ]
  },
  {
   "cell_type": "code",
   "execution_count": 68,
   "metadata": {},
   "outputs": [
    {
     "name": "stdout",
     "output_type": "stream",
     "text": [
      "[NbConvertApp] Converting notebook /sfs/qumulo/qhome/jdd5dw/ds5110-project/Jeremey_code.ipynb to pdf\n",
      "[NbConvertApp] Support files will be in Jeremey_code20210731-123756_files/\n",
      "[NbConvertApp] Making directory ./Jeremey_code20210731-123756_files\n",
      "[NbConvertApp] Making directory ./Jeremey_code20210731-123756_files\n",
      "[NbConvertApp] Writing 105431 bytes to notebook.tex\n",
      "[NbConvertApp] Building PDF\n",
      "[NbConvertApp] Running xelatex 3 times: ['xelatex', 'notebook.tex', '-quiet']\n",
      "[NbConvertApp] Running bibtex 1 time: ['bibtex', 'notebook']\n",
      "[NbConvertApp] WARNING | bibtex had problems, most likely because there were no citations\n",
      "[NbConvertApp] PDF successfully created\n",
      "[NbConvertApp] Writing 132097 bytes to /sfs/qumulo/qhome/jdd5dw/ds5110-project/Jeremey_code20210731-123756.pdf\n"
     ]
    }
   ],
   "source": [
    "# Save notebook as PDF document\n",
    "#!jupyter nbconvert --to pdf `pwd`/*.ipynb\n",
    "timestr = time.strftime(\"%Y%m%d-%H%M%S\")\n",
    "fout=\"Jeremey_code\"+timestr  # it adds the output format automatically\n",
    "!jupyter nbconvert --to pdf --output {fout} `pwd`/Jeremey_code.ipynb\n",
    "#!cp Jeremey_code.pdf {fout}\n",
    "#!jupyter nbconvert --to pdf --output  `pwd`/Jeremey_code.ipynb"
   ]
  },
  {
   "cell_type": "code",
   "execution_count": null,
   "metadata": {},
   "outputs": [],
   "source": []
  }
 ],
 "metadata": {
  "kernelspec": {
   "display_name": "DS 5110",
   "language": "python",
   "name": "ds5110"
  },
  "language_info": {
   "codemirror_mode": {
    "name": "ipython",
    "version": 3
   },
   "file_extension": ".py",
   "mimetype": "text/x-python",
   "name": "python",
   "nbconvert_exporter": "python",
   "pygments_lexer": "ipython3",
   "version": "3.7.10"
  }
 },
 "nbformat": 4,
 "nbformat_minor": 4
}
